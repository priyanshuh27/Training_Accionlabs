{
 "cells": [
  {
   "cell_type": "markdown",
   "id": "69676846",
   "metadata": {},
   "source": [
    "## LOOPS\n"
   ]
  },
  {
   "cell_type": "markdown",
   "id": "42bdeddf",
   "metadata": {},
   "source": [
    "- For Loops\n",
    "- While Loops\n",
    "- Nested loops"
   ]
  },
  {
   "cell_type": "markdown",
   "id": "1f486c80",
   "metadata": {},
   "source": [
    "### Iteration \n",
    "is the process/ability to execute a certain code repeatedly."
   ]
  },
  {
   "cell_type": "markdown",
   "id": "e4dc0613",
   "metadata": {},
   "source": [
    "## FOR LOOP\n",
    "- Used for definite loops when the number of iterations is known\n",
    "- For loops can have their counter variables declared in the declaration itself.\n",
    "- This is preferable when we know exactly how many times the loop will be repeated."
   ]
  },
  {
   "cell_type": "markdown",
   "id": "25e74726",
   "metadata": {},
   "source": [
    "### WHILE LOOP\n",
    "- The while loop is used when the number of iterations is NOT known.\n",
    "- There is no built-in loop control variable with a while loop.\n",
    "- The while loop will continue to run infinite number of times until the condition is met."
   ]
  },
  {
   "cell_type": "markdown",
   "id": "f10cab1b",
   "metadata": {},
   "source": [
    "### NESTED LOOP\n",
    "Nested loops refer to the situation where you have one loop inside another loop. This means that the inner loop will be executed multiple times for each iteration of the outer loop.\n",
    "\n",
    "- Nested loops are loops within loops, where one loop is contained inside another loop.\n",
    "- The inner loop executes fully during each iteration of the outer loop."
   ]
  },
  {
   "cell_type": "markdown",
   "id": "45a14145",
   "metadata": {},
   "source": [
    "### for loop"
   ]
  },
  {
   "cell_type": "markdown",
   "id": "3b643911",
   "metadata": {},
   "source": [
    "#### Question\n",
    "Print the elements of the following list using a loop\n"
   ]
  },
  {
   "cell_type": "code",
   "execution_count": 133,
   "id": "e7e39daf",
   "metadata": {},
   "outputs": [
    {
     "name": "stdout",
     "output_type": "stream",
     "text": [
      "1 4 9 16 25 36 49 64 81 100 112 "
     ]
    }
   ],
   "source": [
    "list = [1, 4, 9, 16, 25, 36, 49, 64, 81, 100, 112]\n",
    "\n",
    "count = 0\n",
    "for n in list:\n",
    "    print(n, end = ' ')\n",
    "    count += 1"
   ]
  },
  {
   "cell_type": "code",
   "execution_count": 134,
   "id": "d6204a7d",
   "metadata": {},
   "outputs": [
    {
     "data": {
      "text/plain": [
       "11"
      ]
     },
     "execution_count": 134,
     "metadata": {},
     "output_type": "execute_result"
    }
   ],
   "source": [
    "count"
   ]
  },
  {
   "cell_type": "markdown",
   "id": "98602b5f",
   "metadata": {},
   "source": [
    "#### Question\n",
    "Search for a number x in this tuple using loop"
   ]
  },
  {
   "cell_type": "code",
   "execution_count": 135,
   "id": "bcb7f51d",
   "metadata": {},
   "outputs": [
    {
     "name": "stdout",
     "output_type": "stream",
     "text": [
      "Found at index 7\n",
      "Found at index 11\n",
      "Found at index 13\n"
     ]
    }
   ],
   "source": [
    "tup = (1, 4, 9, 16, 25, 36, 49, 64, 81, 100, 112, 64, 55, 64) \n",
    "\n",
    "x = 64\n",
    "index = 0\n",
    "for n in tup:\n",
    "    if(n == x):\n",
    "        print(\"Found at index\", index)\n",
    "    index += 1"
   ]
  },
  {
   "cell_type": "code",
   "execution_count": 136,
   "id": "6187fc5e",
   "metadata": {},
   "outputs": [
    {
     "name": "stdout",
     "output_type": "stream",
     "text": [
      "FOUND at index 5\n"
     ]
    }
   ],
   "source": [
    "nums = [1, 4, 9, 16, 25, 36, 49, 64, 81, 100]\n",
    "x = 36\n",
    "i = 0\n",
    "while i < len(nums):\n",
    "    if(nums[i] == x):\n",
    "        print(\"FOUND at index\",i)\n",
    "    i += 1"
   ]
  },
  {
   "cell_type": "code",
   "execution_count": 137,
   "id": "4ec36738",
   "metadata": {},
   "outputs": [
    {
     "name": "stdout",
     "output_type": "stream",
     "text": [
      "Not found\n",
      "Not found\n",
      "Not found\n",
      "Not found\n",
      "Not found\n",
      "Not found\n",
      "Not found\n",
      "Found at index 7\n",
      "Not found\n",
      "Not found\n",
      "Not found\n",
      "Found at index 11\n",
      "Not found\n",
      "Found at index 13\n"
     ]
    }
   ],
   "source": [
    "tup = (1, 4, 9, 16, 25, 36, 49, 64, 81, 100, 112, 64, 55, 64) \n",
    "\n",
    "x = 64\n",
    "idx = 0\n",
    "count = 0\n",
    "while idx < len(tup):\n",
    "    if(tup[idx] == 64):\n",
    "        print(\"Found at index\", idx)\n",
    "    else:\n",
    "        print(\"Not found\")\n",
    "    idx += 1\n",
    "    count += 1"
   ]
  },
  {
   "cell_type": "code",
   "execution_count": 138,
   "id": "05155f4d",
   "metadata": {},
   "outputs": [
    {
     "data": {
      "text/plain": [
       "14"
      ]
     },
     "execution_count": 138,
     "metadata": {},
     "output_type": "execute_result"
    }
   ],
   "source": [
    "count"
   ]
  },
  {
   "cell_type": "code",
   "execution_count": 139,
   "id": "cc71ec94",
   "metadata": {},
   "outputs": [
    {
     "name": "stdout",
     "output_type": "stream",
     "text": [
      "not found\n",
      "Found 4\n",
      "not found\n",
      "not found\n",
      "not found\n",
      "not found\n",
      "not found\n",
      "not found\n",
      "not found\n",
      "not found\n"
     ]
    }
   ],
   "source": [
    "nums = [1, 4, 9, 16, 25, 36, 49, 64, 81, 100] \n",
    "\n",
    "x = 4\n",
    "i = 0\n",
    "count = 0\n",
    "\n",
    "while i < len(nums):\n",
    "    if(nums[i] == 4):\n",
    "        print(\"Found\", x)\n",
    "    else:\n",
    "        print(\"not found\")\n",
    "    i += 1\n",
    "    count += 1\n",
    "    "
   ]
  },
  {
   "cell_type": "code",
   "execution_count": 140,
   "id": "ff609d6f",
   "metadata": {},
   "outputs": [
    {
     "name": "stdout",
     "output_type": "stream",
     "text": [
      "Found 36\n"
     ]
    }
   ],
   "source": [
    "#lets decrease the number of iteration\n",
    "nums = [1, 4, 9, 16, 25, 36, 49, 64, 81, 100] \n",
    "\n",
    "x = 36\n",
    "i = 0\n",
    "count = 0\n",
    "\n",
    "while nums[i] <= 36:\n",
    "    if(nums[i] == x):\n",
    "        print(\"Found\", x)\n",
    "    i += 1\n",
    "    count += 1"
   ]
  },
  {
   "cell_type": "code",
   "execution_count": 141,
   "id": "86225def",
   "metadata": {
    "scrolled": true
   },
   "outputs": [
    {
     "data": {
      "text/plain": [
       "6"
      ]
     },
     "execution_count": 141,
     "metadata": {},
     "output_type": "execute_result"
    }
   ],
   "source": [
    "count"
   ]
  },
  {
   "cell_type": "code",
   "execution_count": 142,
   "id": "edc376b0",
   "metadata": {},
   "outputs": [
    {
     "name": "stdout",
     "output_type": "stream",
     "text": [
      "FOUND AT INDEX 5\n"
     ]
    }
   ],
   "source": [
    "tup = (1, 4, 9, 16, 25, 36, 49, 64, 81, 100, 112, 64, 55, 64)\n",
    "\n",
    "x = 36\n",
    "i = 0\n",
    "count = 0\n",
    "while tup[i] <= 36:\n",
    "    if(tup[i] == x):\n",
    "        print(\"FOUND AT INDEX\", i)\n",
    "    i += 1\n",
    "    count += 1"
   ]
  },
  {
   "cell_type": "code",
   "execution_count": 143,
   "id": "18064644",
   "metadata": {},
   "outputs": [
    {
     "data": {
      "text/plain": [
       "6"
      ]
     },
     "execution_count": 143,
     "metadata": {},
     "output_type": "execute_result"
    }
   ],
   "source": [
    "count"
   ]
  },
  {
   "cell_type": "code",
   "execution_count": 144,
   "id": "ad84df54",
   "metadata": {},
   "outputs": [
    {
     "name": "stdout",
     "output_type": "stream",
     "text": [
      "NOT FOUND\n",
      "NOT FOUND\n",
      "NOT FOUND\n",
      "NOT FOUND\n",
      "NOT FOUND\n",
      "FOUND AT INDEX 5\n"
     ]
    }
   ],
   "source": [
    "tup = (1, 4, 9, 16, 25, 36, 49, 64, 81, 100, 112, 64, 55, 64)\n",
    "\n",
    "x = 36\n",
    "i = 0\n",
    "count = 0\n",
    "while tup[i] <= 36:\n",
    "    if(tup[i] == x):\n",
    "        print(\"FOUND AT INDEX\", i)\n",
    "    else:\n",
    "        print(\"NOT FOUND\")\n",
    "    i += 1\n",
    "    count += 1"
   ]
  },
  {
   "cell_type": "code",
   "execution_count": 145,
   "id": "656e45e7",
   "metadata": {},
   "outputs": [
    {
     "data": {
      "text/plain": [
       "6"
      ]
     },
     "execution_count": 145,
     "metadata": {},
     "output_type": "execute_result"
    }
   ],
   "source": [
    "count"
   ]
  },
  {
   "cell_type": "code",
   "execution_count": 146,
   "id": "b347ca51",
   "metadata": {},
   "outputs": [
    {
     "name": "stdout",
     "output_type": "stream",
     "text": [
      "0 2 4 6 8 10 12 14 16 18 20 "
     ]
    }
   ],
   "source": [
    "even = [0,2,4,6,8,10,12,14,16,18,20]\n",
    "for n in even:\n",
    "    print(n, end = ' ')"
   ]
  },
  {
   "cell_type": "markdown",
   "id": "bec65cd0",
   "metadata": {},
   "source": [
    "## While loops"
   ]
  },
  {
   "cell_type": "code",
   "execution_count": 147,
   "id": "e840cb1b",
   "metadata": {
    "scrolled": true
   },
   "outputs": [
    {
     "name": "stdout",
     "output_type": "stream",
     "text": [
      "0 2 4 6 8 10 12 14 16 18 20 "
     ]
    }
   ],
   "source": [
    "x = 0\n",
    "while x <= 20:\n",
    "    print(x, end = ' ')\n",
    "    x += 2"
   ]
  },
  {
   "cell_type": "markdown",
   "id": "a351551d",
   "metadata": {},
   "source": [
    "#### Question\n",
    "Create a while loop that will print all odd numbers from 0 to 30 on the same row."
   ]
  },
  {
   "cell_type": "code",
   "execution_count": 148,
   "id": "ccf810cf",
   "metadata": {},
   "outputs": [
    {
     "name": "stdout",
     "output_type": "stream",
     "text": [
      "1 3 5 7 9 11 13 15 17 19 21 23 25 27 29 "
     ]
    }
   ],
   "source": [
    "x = 1\n",
    "while x <= 30:\n",
    "    print(x, end = ' ')\n",
    "    x += 2"
   ]
  },
  {
   "cell_type": "markdown",
   "id": "466432cd",
   "metadata": {},
   "source": [
    "#### Question\n",
    "Create a little program that runs a loop over all values from 1 to 30. Let it print all odd numbers, and in the place of the even numbers, it should print \"Even\". Help yourself with the range() function to solve this exercise."
   ]
  },
  {
   "cell_type": "code",
   "execution_count": 166,
   "id": "6116f7dd",
   "metadata": {},
   "outputs": [
    {
     "name": "stdout",
     "output_type": "stream",
     "text": [
      "Even 1 Even 3 Even 5 Even 7 Even 9 Even 11 Even 13 Even 15 Even 17 Even 19 Even 21 Even 23 Even 25 Even 27 Even 29 Even "
     ]
    }
   ],
   "source": [
    "count = 0\n",
    "for x in range(0, 31, 1):\n",
    "    if x % 2 != 0:\n",
    "        print(x, end =' ')\n",
    "    else:\n",
    "        print(\"Even\" , end = ' ')\n",
    "    x += 1\n",
    "    count += 1"
   ]
  },
  {
   "cell_type": "code",
   "execution_count": 167,
   "id": "cdf39927",
   "metadata": {},
   "outputs": [
    {
     "data": {
      "text/plain": [
       "31"
      ]
     },
     "execution_count": 167,
     "metadata": {},
     "output_type": "execute_result"
    }
   ],
   "source": [
    "count"
   ]
  },
  {
   "cell_type": "markdown",
   "id": "956fdf53",
   "metadata": {},
   "source": [
    "#### Question\n",
    "Create a little program that runs a loop over all values from 1 to 30. Let it print all even numbers, and in the place of the odd numbers, it should print \"Odd\". Help yourself with the range() function to solve this exercise."
   ]
  },
  {
   "cell_type": "code",
   "execution_count": 168,
   "id": "99b269ac",
   "metadata": {},
   "outputs": [
    {
     "name": "stdout",
     "output_type": "stream",
     "text": [
      "Odd 2 Odd 4 Odd 6 Odd 8 Odd 10 Odd 12 Odd 14 Odd 16 Odd 18 Odd 20 Odd 22 Odd 24 Odd 26 Odd 28 Odd 30 "
     ]
    }
   ],
   "source": [
    "for x in range(1,31,1):\n",
    "    if x % 2 == 0:\n",
    "        print(x , end = ' ')\n",
    "    else:\n",
    "        print(\"Odd\" , end = ' ')\n",
    "    x += 1"
   ]
  },
  {
   "cell_type": "markdown",
   "id": "20049a7a",
   "metadata": {},
   "source": [
    "### We can do the same by using while loop also."
   ]
  },
  {
   "cell_type": "code",
   "execution_count": 152,
   "id": "4a291fcc",
   "metadata": {},
   "outputs": [
    {
     "name": "stdout",
     "output_type": "stream",
     "text": [
      "1 Even 3 Even 5 Even 7 Even 9 Even 11 Even 13 Even 15 Even 17 Even 19 Even 21 Even 23 Even 25 Even 27 Even 29 Even "
     ]
    }
   ],
   "source": [
    "num = 1\n",
    "count = 0\n",
    "while num <= 30:\n",
    "    if num % 2 != 0:\n",
    "         print(num, end = ' ')\n",
    "    else:\n",
    "        print(\"Even\", end = ' ')\n",
    "    num += 1\n",
    "    count += 1    "
   ]
  },
  {
   "cell_type": "code",
   "execution_count": 153,
   "id": "8e2284ff",
   "metadata": {},
   "outputs": [
    {
     "data": {
      "text/plain": [
       "30"
      ]
     },
     "execution_count": 153,
     "metadata": {},
     "output_type": "execute_result"
    }
   ],
   "source": [
    "count"
   ]
  },
  {
   "cell_type": "markdown",
   "id": "84338354",
   "metadata": {},
   "source": [
    "### Question \n",
    "Print numbers from 1 to 100"
   ]
  },
  {
   "cell_type": "code",
   "execution_count": 154,
   "id": "27d57107",
   "metadata": {},
   "outputs": [
    {
     "name": "stdout",
     "output_type": "stream",
     "text": [
      "1   2   3   4   5   6   7   8   9   10   11   12   13   14   15   16   17   18   19   20   21   22   23   24   25   26   27   28   29   30   31   32   33   34   35   36   37   38   39   40   41   42   43   44   45   46   47   48   49   50   51   52   53   54   55   56   57   58   59   60   61   62   63   64   65   66   67   68   69   70   71   72   73   74   75   76   77   78   79   80   81   82   83   84   85   86   87   88   89   90   91   92   93   94   95   96   97   98   99   100   "
     ]
    }
   ],
   "source": [
    "i = 1\n",
    "count = 0\n",
    "while i <= 100:\n",
    "    print(i, end = '   ')\n",
    "    i += 1\n",
    "    count += 1"
   ]
  },
  {
   "cell_type": "markdown",
   "id": "a92656a0",
   "metadata": {},
   "source": [
    "#### Question\n",
    "Print numbers from 100 to 1"
   ]
  },
  {
   "cell_type": "code",
   "execution_count": 155,
   "id": "caac2ff0",
   "metadata": {},
   "outputs": [
    {
     "name": "stdout",
     "output_type": "stream",
     "text": [
      "100   99   98   97   96   95   94   93   92   91   90   89   88   87   86   85   84   83   82   81   80   79   78   77   76   75   74   73   72   71   70   69   68   67   66   65   64   63   62   61   60   59   58   57   56   55   54   53   52   51   50   49   48   47   46   45   44   43   42   41   40   39   38   37   36   35   34   33   32   31   30   29   28   27   26   25   24   23   22   21   20   19   18   17   16   15   14   13   12   11   10   9   8   7   6   5   4   3   2   1   "
     ]
    }
   ],
   "source": [
    "i = 100\n",
    "count = 0\n",
    "while i >= 1:\n",
    "    print(i, end = '   ')\n",
    "    i -= 1\n",
    "    count += 1"
   ]
  },
  {
   "cell_type": "markdown",
   "id": "ca702215",
   "metadata": {},
   "source": [
    "#### Question \n",
    "Print the multiplication table of a number 3."
   ]
  },
  {
   "cell_type": "code",
   "execution_count": 156,
   "id": "a0d00cca",
   "metadata": {},
   "outputs": [
    {
     "name": "stdout",
     "output_type": "stream",
     "text": [
      "3  6  9  12  15  18  21  24  27  30  "
     ]
    }
   ],
   "source": [
    "i = 1\n",
    "while i<=10:\n",
    "    print(3*i , end = '  ')\n",
    "    i += 1"
   ]
  },
  {
   "cell_type": "code",
   "execution_count": 160,
   "id": "bf2505b4",
   "metadata": {},
   "outputs": [
    {
     "name": "stdout",
     "output_type": "stream",
     "text": [
      "enter number :1298\n",
      "1298\n",
      "2596\n",
      "3894\n",
      "5192\n",
      "6490\n",
      "7788\n",
      "9086\n",
      "10384\n",
      "11682\n",
      "12980\n"
     ]
    }
   ],
   "source": [
    "#General Case\n",
    "#Print the multiplication tale of a number n.\n",
    "n = int(input(\"enter number :\"))\n",
    "i = 1\n",
    "while i <= 10:\n",
    "    print(n*i)\n",
    "    i += 1"
   ]
  },
  {
   "cell_type": "code",
   "execution_count": 161,
   "id": "58d01db0",
   "metadata": {},
   "outputs": [
    {
     "name": "stdout",
     "output_type": "stream",
     "text": [
      "1\n",
      "4\n",
      "9\n",
      "16\n",
      "25\n",
      "36\n",
      "49\n",
      "64\n",
      "81\n",
      "100\n"
     ]
    }
   ],
   "source": [
    "# print the elements of the following list using a loop:\n",
    "\n",
    "nums = [1, 4, 9, 16, 25, 36, 49, 64, 81, 100]\n",
    "\n",
    "index = 0\n",
    "while index < len(nums): #nums[0], nums[1].......\\\n",
    "    print(nums[index])\n",
    "    index += 1"
   ]
  },
  {
   "cell_type": "code",
   "execution_count": 162,
   "id": "36fdc841",
   "metadata": {},
   "outputs": [
    {
     "name": "stdout",
     "output_type": "stream",
     "text": [
      "doctor strange\n",
      "batman\n",
      "superman\n",
      "spiderman\n"
     ]
    }
   ],
   "source": [
    "heroes = [\"doctor strange\", \"batman\", \"superman\", \"spiderman\"]\n",
    "index = 0\n",
    "while index < len(heroes):\n",
    "    print(heroes[index])\n",
    "    index += 1"
   ]
  },
  {
   "cell_type": "markdown",
   "id": "19c61b41",
   "metadata": {},
   "source": [
    "### Question \n",
    "Search for a number x in the tuple using loop"
   ]
  },
  {
   "cell_type": "code",
   "execution_count": 126,
   "id": "81470ac9",
   "metadata": {},
   "outputs": [
    {
     "name": "stdout",
     "output_type": "stream",
     "text": [
      "FOUND at index 5\n"
     ]
    }
   ],
   "source": [
    "nums = [1, 4, 9, 16, 25, 36, 49, 64, 81, 100]\n",
    "count = 0\n",
    "x = 36\n",
    "i = 0\n",
    "while i < len(nums):\n",
    "    if(nums[i] == x):\n",
    "        print(\"FOUND at index\",i)\n",
    "    i += 1\n",
    "    count += 1"
   ]
  },
  {
   "cell_type": "code",
   "execution_count": 163,
   "id": "230d1e23",
   "metadata": {},
   "outputs": [
    {
     "data": {
      "text/plain": [
       "100"
      ]
     },
     "execution_count": 163,
     "metadata": {},
     "output_type": "execute_result"
    }
   ],
   "source": [
    "count"
   ]
  },
  {
   "cell_type": "code",
   "execution_count": 164,
   "id": "be895a7a",
   "metadata": {},
   "outputs": [
    {
     "name": "stdout",
     "output_type": "stream",
     "text": [
      "FOUND at index 5\n"
     ]
    }
   ],
   "source": [
    "nums = [1, 4, 9, 16, 25, 36, 49, 64, 81, 100]\n",
    "count = 0\n",
    "x = 36\n",
    "i = 0\n",
    "while nums[i] <= 36:\n",
    "    if(nums[i] == x):\n",
    "        print(\"FOUND at index\",i)\n",
    "    i += 1\n",
    "    count += 1"
   ]
  },
  {
   "cell_type": "code",
   "execution_count": 165,
   "id": "fa1eb99e",
   "metadata": {},
   "outputs": [
    {
     "data": {
      "text/plain": [
       "6"
      ]
     },
     "execution_count": 165,
     "metadata": {},
     "output_type": "execute_result"
    }
   ],
   "source": [
    "count"
   ]
  },
  {
   "cell_type": "markdown",
   "id": "38d0d7f5",
   "metadata": {},
   "source": [
    "### Nested Loops"
   ]
  },
  {
   "cell_type": "code",
   "execution_count": 203,
   "id": "70defb10",
   "metadata": {},
   "outputs": [
    {
     "name": "stdout",
     "output_type": "stream",
     "text": [
      "* \n",
      "* * \n",
      "* * * \n",
      "* * * * \n",
      "* * * * * \n",
      "* * * * * * \n",
      "* * * * * * * \n",
      "* * * * * * * * \n",
      "* * * * * * * * * \n",
      "* * * * * * * * * * \n",
      "* * * * * * * * * * * \n",
      "* * * * * * * * * * * * \n",
      "* * * * * * * * * * * * * \n"
     ]
    }
   ],
   "source": [
    "for i in range(1, 14):\n",
    "    for j in range(0, i):\n",
    "        print(\"*\", end = ' ')\n",
    "    print(\"\")"
   ]
  },
  {
   "cell_type": "code",
   "execution_count": 204,
   "id": "b63e5c5f",
   "metadata": {},
   "outputs": [
    {
     "name": "stdout",
     "output_type": "stream",
     "text": [
      "Enter the number of Rows14\n",
      "* \n",
      "* * \n",
      "* * * \n",
      "* * * * \n",
      "* * * * * \n",
      "* * * * * * \n",
      "* * * * * * * \n",
      "* * * * * * * * \n",
      "* * * * * * * * * \n",
      "* * * * * * * * * * \n",
      "* * * * * * * * * * * \n",
      "* * * * * * * * * * * * \n",
      "* * * * * * * * * * * * * \n",
      "* * * * * * * * * * * * * * \n"
     ]
    }
   ],
   "source": [
    "rows = int(input(\"Enter the number of Rows\"))\n",
    "\n",
    "for i in range(1, rows + 1):\n",
    "    for j in range(0, i):\n",
    "        print(\"*\", end = ' ')\n",
    "    print(\"\")"
   ]
  },
  {
   "cell_type": "code",
   "execution_count": 208,
   "id": "c5614b00",
   "metadata": {},
   "outputs": [
    {
     "name": "stdout",
     "output_type": "stream",
     "text": [
      "1 1\n",
      "1 2\n",
      "1 3\n",
      "2 1\n",
      "2 2\n",
      "2 3\n",
      "3 1\n",
      "3 2\n",
      "3 3\n",
      "4 1\n",
      "4 2\n",
      "4 3\n"
     ]
    }
   ],
   "source": [
    "for i in range(1,5):\n",
    "    for j in range(1,4):\n",
    "        print(i, j)"
   ]
  },
  {
   "cell_type": "code",
   "execution_count": 211,
   "id": "3e77fae9",
   "metadata": {},
   "outputs": [
    {
     "name": "stdout",
     "output_type": "stream",
     "text": [
      "1 \t 2 \t 3 \t 4 \t 5 \t 6 \t 7 \t 8 \t 9 \t 10 \t \n",
      "2 \t 4 \t 6 \t 8 \t 10 \t 12 \t 14 \t 16 \t 18 \t 20 \t \n",
      "3 \t 6 \t 9 \t 12 \t 15 \t 18 \t 21 \t 24 \t 27 \t 30 \t \n",
      "4 \t 8 \t 12 \t 16 \t 20 \t 24 \t 28 \t 32 \t 36 \t 40 \t \n",
      "5 \t 10 \t 15 \t 20 \t 25 \t 30 \t 35 \t 40 \t 45 \t 50 \t \n",
      "6 \t 12 \t 18 \t 24 \t 30 \t 36 \t 42 \t 48 \t 54 \t 60 \t \n",
      "7 \t 14 \t 21 \t 28 \t 35 \t 42 \t 49 \t 56 \t 63 \t 70 \t \n",
      "8 \t 16 \t 24 \t 32 \t 40 \t 48 \t 56 \t 64 \t 72 \t 80 \t \n",
      "9 \t 18 \t 27 \t 36 \t 45 \t 54 \t 63 \t 72 \t 81 \t 90 \t \n",
      "10 \t 20 \t 30 \t 40 \t 50 \t 60 \t 70 \t 80 \t 90 \t 100 \t \n"
     ]
    }
   ],
   "source": [
    "for i in range(1,11):\n",
    "    for j in range(1,11):\n",
    "        print(i*j, end = ' \\t ')\n",
    "    print()"
   ]
  }
 ],
 "metadata": {
  "kernelspec": {
   "display_name": "Python 3 (ipykernel)",
   "language": "python",
   "name": "python3"
  },
  "language_info": {
   "codemirror_mode": {
    "name": "ipython",
    "version": 3
   },
   "file_extension": ".py",
   "mimetype": "text/x-python",
   "name": "python",
   "nbconvert_exporter": "python",
   "pygments_lexer": "ipython3",
   "version": "3.11.5"
  }
 },
 "nbformat": 4,
 "nbformat_minor": 5
}
