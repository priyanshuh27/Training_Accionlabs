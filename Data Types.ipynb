{
 "cells": [
  {
   "cell_type": "markdown",
   "id": "d04c610b",
   "metadata": {},
   "source": [
    "## Data Types\n",
    "We have three categories \n",
    "- Basic Types\n",
    "- Container Types\n",
    "- User Defined"
   ]
  },
  {
   "cell_type": "markdown",
   "id": "40e7bd3c",
   "metadata": {},
   "source": [
    "### Basic Types\n",
    "1) integer\n",
    "2) float\n",
    "3) complex\n",
    "4) boolean\n",
    "5) string"
   ]
  },
  {
   "cell_type": "markdown",
   "id": "7c9584ed",
   "metadata": {},
   "source": [
    "#### Integer"
   ]
  },
  {
   "cell_type": "code",
   "execution_count": 1,
   "id": "444eab68",
   "metadata": {},
   "outputs": [
    {
     "data": {
      "text/plain": [
       "int"
      ]
     },
     "execution_count": 1,
     "metadata": {},
     "output_type": "execute_result"
    }
   ],
   "source": [
    "#int\n",
    "a = 4\n",
    "type(a)"
   ]
  },
  {
   "cell_type": "code",
   "execution_count": 2,
   "id": "21d167fe",
   "metadata": {},
   "outputs": [
    {
     "data": {
      "text/plain": [
       "3"
      ]
     },
     "execution_count": 2,
     "metadata": {},
     "output_type": "execute_result"
    }
   ],
   "source": [
    "int(3)"
   ]
  },
  {
   "cell_type": "markdown",
   "id": "7d216249",
   "metadata": {},
   "source": [
    "#### Float"
   ]
  },
  {
   "cell_type": "code",
   "execution_count": 29,
   "id": "a71befd6",
   "metadata": {},
   "outputs": [
    {
     "name": "stdout",
     "output_type": "stream",
     "text": [
      "5.7768\n"
     ]
    },
    {
     "data": {
      "text/plain": [
       "float"
      ]
     },
     "execution_count": 29,
     "metadata": {},
     "output_type": "execute_result"
    }
   ],
   "source": [
    "#float\n",
    "a = 5.7768\n",
    "print(a)\n",
    "type(a)"
   ]
  },
  {
   "cell_type": "code",
   "execution_count": 4,
   "id": "c87de8af",
   "metadata": {},
   "outputs": [
    {
     "data": {
      "text/plain": [
       "5.7768"
      ]
     },
     "execution_count": 4,
     "metadata": {},
     "output_type": "execute_result"
    }
   ],
   "source": [
    "float(a)"
   ]
  },
  {
   "cell_type": "code",
   "execution_count": 6,
   "id": "940a71b2",
   "metadata": {},
   "outputs": [
    {
     "data": {
      "text/plain": [
       "5"
      ]
     },
     "execution_count": 6,
     "metadata": {},
     "output_type": "execute_result"
    }
   ],
   "source": [
    "# we can convert a float into an integer by using given below syntax.\n",
    "int(a)"
   ]
  },
  {
   "cell_type": "markdown",
   "id": "9643c942",
   "metadata": {},
   "source": [
    "#### Boolean"
   ]
  },
  {
   "cell_type": "code",
   "execution_count": 30,
   "id": "3365af83",
   "metadata": {},
   "outputs": [
    {
     "data": {
      "text/plain": [
       "bool"
      ]
     },
     "execution_count": 30,
     "metadata": {},
     "output_type": "execute_result"
    }
   ],
   "source": [
    "#bool\n",
    "# we have True & False\n",
    "x = True\n",
    "type(x)"
   ]
  },
  {
   "cell_type": "code",
   "execution_count": 8,
   "id": "ffb5efe9",
   "metadata": {},
   "outputs": [
    {
     "data": {
      "text/plain": [
       "True"
      ]
     },
     "execution_count": 8,
     "metadata": {},
     "output_type": "execute_result"
    }
   ],
   "source": [
    "bool(x)"
   ]
  },
  {
   "cell_type": "code",
   "execution_count": 13,
   "id": "489c9ff7",
   "metadata": {},
   "outputs": [
    {
     "data": {
      "text/plain": [
       "bool"
      ]
     },
     "execution_count": 13,
     "metadata": {},
     "output_type": "execute_result"
    }
   ],
   "source": [
    "y = False\n",
    "type(y)"
   ]
  },
  {
   "cell_type": "code",
   "execution_count": 14,
   "id": "1f9bd967",
   "metadata": {},
   "outputs": [
    {
     "data": {
      "text/plain": [
       "False"
      ]
     },
     "execution_count": 14,
     "metadata": {},
     "output_type": "execute_result"
    }
   ],
   "source": [
    "bool(y)"
   ]
  },
  {
   "cell_type": "markdown",
   "id": "a068439a",
   "metadata": {},
   "source": [
    "#### Complex"
   ]
  },
  {
   "cell_type": "code",
   "execution_count": 31,
   "id": "1f7fe142",
   "metadata": {},
   "outputs": [
    {
     "data": {
      "text/plain": [
       "complex"
      ]
     },
     "execution_count": 31,
     "metadata": {},
     "output_type": "execute_result"
    }
   ],
   "source": [
    "#complex\n",
    "b = 4 + 6j\n",
    "type(b)"
   ]
  },
  {
   "cell_type": "code",
   "execution_count": 16,
   "id": "368593f4",
   "metadata": {},
   "outputs": [
    {
     "data": {
      "text/plain": [
       "(4+6j)"
      ]
     },
     "execution_count": 16,
     "metadata": {},
     "output_type": "execute_result"
    }
   ],
   "source": [
    "complex(b)"
   ]
  },
  {
   "cell_type": "markdown",
   "id": "ea4c88a1",
   "metadata": {},
   "source": [
    "#### String"
   ]
  },
  {
   "cell_type": "code",
   "execution_count": 19,
   "id": "1dd979c2",
   "metadata": {},
   "outputs": [],
   "source": [
    "#Converts numbers into text"
   ]
  },
  {
   "cell_type": "code",
   "execution_count": 32,
   "id": "4d6ec5f6",
   "metadata": {},
   "outputs": [
    {
     "name": "stdout",
     "output_type": "stream",
     "text": [
      "10 Rupees \n"
     ]
    }
   ],
   "source": [
    "#str\n",
    "y = 10\n",
    "print(str(y) + \" Rupees \")"
   ]
  },
  {
   "cell_type": "code",
   "execution_count": 33,
   "id": "ceee5cc9",
   "metadata": {},
   "outputs": [
    {
     "data": {
      "text/plain": [
       "int"
      ]
     },
     "execution_count": 33,
     "metadata": {},
     "output_type": "execute_result"
    }
   ],
   "source": [
    "type(y)"
   ]
  },
  {
   "cell_type": "code",
   "execution_count": 34,
   "id": "fa8ac979",
   "metadata": {},
   "outputs": [
    {
     "data": {
      "text/plain": [
       "str"
      ]
     },
     "execution_count": 34,
     "metadata": {},
     "output_type": "execute_result"
    }
   ],
   "source": [
    "z = \"10 Dollars\"\n",
    "type(z)"
   ]
  },
  {
   "cell_type": "code",
   "execution_count": 35,
   "id": "f66e85df",
   "metadata": {},
   "outputs": [
    {
     "name": "stdout",
     "output_type": "stream",
     "text": [
      "Priyanshu\n",
      "Priyanshu's\n",
      "\"Priyanshu's\"\n",
      "'Priyanshu's'\n"
     ]
    }
   ],
   "source": [
    "print('Priyanshu')\n",
    "print(\"Priyanshu's\")\n",
    "print('''\"Priyanshu's\"''')\n",
    "print(\"\"\"'Priyanshu's'\"\"\")"
   ]
  },
  {
   "cell_type": "code",
   "execution_count": 36,
   "id": "a6f9607c",
   "metadata": {},
   "outputs": [
    {
     "data": {
      "text/plain": [
       "\"I'm from Priyanshu's team\""
      ]
     },
     "execution_count": 36,
     "metadata": {},
     "output_type": "execute_result"
    }
   ],
   "source": [
    "x = \"I'm from Priyanshu's team\" \n",
    "x"
   ]
  },
  {
   "cell_type": "code",
   "execution_count": 37,
   "id": "08834c0e",
   "metadata": {},
   "outputs": [],
   "source": [
    "# \\ is used as an escape character"
   ]
  },
  {
   "cell_type": "code",
   "execution_count": 38,
   "id": "3830046d",
   "metadata": {},
   "outputs": [
    {
     "name": "stdout",
     "output_type": "stream",
     "text": [
      "I'm fine\n"
     ]
    }
   ],
   "source": [
    "print('I\\'m fine')"
   ]
  },
  {
   "cell_type": "code",
   "execution_count": 39,
   "id": "2b6e896f",
   "metadata": {},
   "outputs": [
    {
     "name": "stdout",
     "output_type": "stream",
     "text": [
      "Priyanshu Priyanshu Priyanshu\n"
     ]
    }
   ],
   "source": [
    "print('Priyanshu',\"Priyanshu\",\"\"\"Priyanshu\"\"\")"
   ]
  },
  {
   "cell_type": "markdown",
   "id": "fc227601",
   "metadata": {},
   "source": [
    "### Container Types\n",
    "1) Lists\n",
    "2) Tuples\n",
    "3) Dictionary"
   ]
  },
  {
   "cell_type": "markdown",
   "id": "7f0fa6ec",
   "metadata": {},
   "source": [
    "### Lists\n",
    "A list is a type of sequence of data points\n",
    "\n",
    "##### Note - \n",
    "Use square brackets [ ] & Use quotation marks ' '"
   ]
  },
  {
   "cell_type": "code",
   "execution_count": 40,
   "id": "25672013",
   "metadata": {},
   "outputs": [
    {
     "data": {
      "text/plain": [
       "['Ram', 'Mohan', 'Krishna', 'john']"
      ]
     },
     "execution_count": 40,
     "metadata": {},
     "output_type": "execute_result"
    }
   ],
   "source": [
    "Participants = ['Ram', 'Mohan', 'Krishna', 'john']\n",
    "Participants"
   ]
  },
  {
   "cell_type": "code",
   "execution_count": 41,
   "id": "ebb602a3",
   "metadata": {},
   "outputs": [
    {
     "name": "stdout",
     "output_type": "stream",
     "text": [
      "Krishna\n"
     ]
    }
   ],
   "source": [
    "print(Participants[2])"
   ]
  },
  {
   "cell_type": "code",
   "execution_count": 42,
   "id": "37af1086",
   "metadata": {},
   "outputs": [
    {
     "name": "stdout",
     "output_type": "stream",
     "text": [
      "john\n"
     ]
    }
   ],
   "source": [
    "print(Participants[-1])"
   ]
  },
  {
   "cell_type": "code",
   "execution_count": 44,
   "id": "713ee508",
   "metadata": {},
   "outputs": [
    {
     "data": {
      "text/plain": [
       "['Ram', 'Mohan', 'Krishna', '']"
      ]
     },
     "execution_count": 44,
     "metadata": {},
     "output_type": "execute_result"
    }
   ],
   "source": [
    "Participants[-1] = ''\n",
    "Participants"
   ]
  },
  {
   "cell_type": "code",
   "execution_count": 45,
   "id": "0e100203",
   "metadata": {},
   "outputs": [
    {
     "data": {
      "text/plain": [
       "['Ram', 'Mohan', 'Krishna']"
      ]
     },
     "execution_count": 45,
     "metadata": {},
     "output_type": "execute_result"
    }
   ],
   "source": [
    "# to remove any name will use del\n",
    "del(Participants[-1])\n",
    "Participants"
   ]
  },
  {
   "cell_type": "code",
   "execution_count": 46,
   "id": "1bc03048",
   "metadata": {},
   "outputs": [
    {
     "data": {
      "text/plain": [
       "['Ram', 'Mohan', 'Krishna', 'king']"
      ]
     },
     "execution_count": 46,
     "metadata": {},
     "output_type": "execute_result"
    }
   ],
   "source": [
    "#to add we will use append\n",
    "Participants.append(\"king\")\n",
    "Participants"
   ]
  },
  {
   "cell_type": "code",
   "execution_count": 48,
   "id": "64662167",
   "metadata": {},
   "outputs": [
    {
     "data": {
      "text/plain": [
       "['Ram', 'Mohan', 'Krishna', 'king', 'Minister']"
      ]
     },
     "execution_count": 48,
     "metadata": {},
     "output_type": "execute_result"
    }
   ],
   "source": [
    "#we can also use the extend\n",
    "Participants.extend([\"Minister\"])\n",
    "Participants"
   ]
  },
  {
   "cell_type": "code",
   "execution_count": 49,
   "id": "a01258be",
   "metadata": {},
   "outputs": [
    {
     "data": {
      "text/plain": [
       "['Ram', 'Mohan', 'Krishna', 'king', 'Minister', 'Queen']"
      ]
     },
     "execution_count": 49,
     "metadata": {},
     "output_type": "execute_result"
    }
   ],
   "source": [
    "# there is another method as well for extending the list\n",
    "Participants += ['Queen']\n",
    "Participants"
   ]
  },
  {
   "cell_type": "code",
   "execution_count": 51,
   "id": "88d8379b",
   "metadata": {},
   "outputs": [
    {
     "data": {
      "text/plain": [
       "6"
      ]
     },
     "execution_count": 51,
     "metadata": {},
     "output_type": "execute_result"
    }
   ],
   "source": [
    "#We can find the length(number of elements that our list contain) by using len.\n",
    "len(Participants)"
   ]
  },
  {
   "cell_type": "markdown",
   "id": "e16e898b",
   "metadata": {},
   "source": [
    "#### Slicing"
   ]
  },
  {
   "cell_type": "code",
   "execution_count": 52,
   "id": "c3d5988f",
   "metadata": {},
   "outputs": [
    {
     "data": {
      "text/plain": [
       "['Ram', 'Mohan']"
      ]
     },
     "execution_count": 52,
     "metadata": {},
     "output_type": "execute_result"
    }
   ],
   "source": [
    "Participants[:2]"
   ]
  },
  {
   "cell_type": "code",
   "execution_count": 53,
   "id": "6f2d6dac",
   "metadata": {},
   "outputs": [
    {
     "data": {
      "text/plain": [
       "['Mohan', 'Krishna']"
      ]
     },
     "execution_count": 53,
     "metadata": {},
     "output_type": "execute_result"
    }
   ],
   "source": [
    "Participants[1:3]"
   ]
  },
  {
   "cell_type": "markdown",
   "id": "7bc21961",
   "metadata": {},
   "source": [
    "#### Sorting"
   ]
  },
  {
   "cell_type": "code",
   "execution_count": 55,
   "id": "a2590d52",
   "metadata": {},
   "outputs": [
    {
     "data": {
      "text/plain": [
       "[1, 7, 3, 6, 2, 90, 45, 60]"
      ]
     },
     "execution_count": 55,
     "metadata": {},
     "output_type": "execute_result"
    }
   ],
   "source": [
    "Numbers = [1,7,3,6,2,90,45,60]\n",
    "Numbers"
   ]
  },
  {
   "cell_type": "code",
   "execution_count": 57,
   "id": "11cf269b",
   "metadata": {},
   "outputs": [
    {
     "data": {
      "text/plain": [
       "[1, 2, 3, 6, 7, 45, 60, 90]"
      ]
     },
     "execution_count": 57,
     "metadata": {},
     "output_type": "execute_result"
    }
   ],
   "source": [
    "Numbers.sort()\n",
    "Numbers"
   ]
  },
  {
   "cell_type": "code",
   "execution_count": 65,
   "id": "a4154e5b",
   "metadata": {
    "scrolled": true
   },
   "outputs": [
    {
     "data": {
      "text/plain": [
       "[90, 60, 45, 7, 6, 3, 2, 1]"
      ]
     },
     "execution_count": 65,
     "metadata": {},
     "output_type": "execute_result"
    }
   ],
   "source": [
    "# Descending Order\n",
    "Numbers.sort(reverse = True)\n",
    "Numbers"
   ]
  },
  {
   "cell_type": "code",
   "execution_count": 64,
   "id": "f9b5b78b",
   "metadata": {},
   "outputs": [
    {
     "data": {
      "text/plain": [
       "[1, 2, 3, 6, 7, 45, 60, 90]"
      ]
     },
     "execution_count": 64,
     "metadata": {},
     "output_type": "execute_result"
    }
   ],
   "source": [
    "Numbers.sort(reverse = False)\n",
    "Numbers"
   ]
  },
  {
   "cell_type": "markdown",
   "id": "e8d89130",
   "metadata": {},
   "source": [
    "### Tuples\n",
    "Tuples are immutable, can't be changed\n",
    "\n",
    "Placed within Parentheses ()"
   ]
  },
  {
   "cell_type": "code",
   "execution_count": 66,
   "id": "ac5bf3d1",
   "metadata": {},
   "outputs": [
    {
     "data": {
      "text/plain": [
       "(10, 20, 30, 40)"
      ]
     },
     "execution_count": 66,
     "metadata": {},
     "output_type": "execute_result"
    }
   ],
   "source": [
    "x = (10, 20, 30, 40)\n",
    "x"
   ]
  },
  {
   "cell_type": "code",
   "execution_count": 67,
   "id": "ab40fa19",
   "metadata": {},
   "outputs": [
    {
     "data": {
      "text/plain": [
       "(12, 24, 36, 48)"
      ]
     },
     "execution_count": 67,
     "metadata": {},
     "output_type": "execute_result"
    }
   ],
   "source": [
    "y = (12, 24, 36, 48)\n",
    "y"
   ]
  },
  {
   "cell_type": "code",
   "execution_count": 68,
   "id": "ac8eaa35",
   "metadata": {},
   "outputs": [
    {
     "data": {
      "text/plain": [
       "[(10, 20, 30, 40), (12, 24, 36, 48)]"
      ]
     },
     "execution_count": 68,
     "metadata": {},
     "output_type": "execute_result"
    }
   ],
   "source": [
    "List = [x,y]\n",
    "List"
   ]
  },
  {
   "cell_type": "code",
   "execution_count": 69,
   "id": "7a26d289",
   "metadata": {},
   "outputs": [
    {
     "name": "stdout",
     "output_type": "stream",
     "text": [
      "4\n",
      "1\n"
     ]
    }
   ],
   "source": [
    "(month, Internship_month) = \"4,1\".split(',')\n",
    "print(month)\n",
    "print(Internship_month)"
   ]
  },
  {
   "cell_type": "markdown",
   "id": "24232ca6",
   "metadata": {},
   "source": [
    "### Dictionaries\n",
    "Use curly braces {}"
   ]
  },
  {
   "cell_type": "code",
   "execution_count": 70,
   "id": "4f77c8de",
   "metadata": {},
   "outputs": [
    {
     "data": {
      "text/plain": [
       "{'k1': 'cat', 'k2': 'dog'}"
      ]
     },
     "execution_count": 70,
     "metadata": {},
     "output_type": "execute_result"
    }
   ],
   "source": [
    "dict = {'k1' : \"cat\" , 'k2' : \"dog\"}\n",
    "dict"
   ]
  },
  {
   "cell_type": "code",
   "execution_count": 71,
   "id": "92bf49dd",
   "metadata": {},
   "outputs": [
    {
     "data": {
      "text/plain": [
       "'cat'"
      ]
     },
     "execution_count": 71,
     "metadata": {},
     "output_type": "execute_result"
    }
   ],
   "source": [
    "dict['k1']"
   ]
  },
  {
   "cell_type": "code",
   "execution_count": 77,
   "id": "1f232c6f",
   "metadata": {},
   "outputs": [],
   "source": [
    "#Attach the Desserts list in the form of a sixth meal.\n",
    "Menu = {'meal_1':'Spaghetti', 'meal_2':'Fries', 'meal_3':'Cheeseburger', 'meal_4':'Lasagna'} \n",
    "Dessert = ['Pancakes', 'Ice-cream', 'Tiramisu']"
   ]
  },
  {
   "cell_type": "code",
   "execution_count": 78,
   "id": "b359c2e5",
   "metadata": {},
   "outputs": [],
   "source": [
    "Menu['meal_6'] = Dessert"
   ]
  },
  {
   "cell_type": "code",
   "execution_count": 80,
   "id": "62bc46e8",
   "metadata": {},
   "outputs": [
    {
     "data": {
      "text/plain": [
       "{'meal_1': 'Spaghetti',\n",
       " 'meal_2': 'Fries',\n",
       " 'meal_3': 'Cheeseburger',\n",
       " 'meal_4': 'Lasagna',\n",
       " 'meal_6': ['Pancakes', 'Ice-cream', 'Tiramisu']}"
      ]
     },
     "execution_count": 80,
     "metadata": {},
     "output_type": "execute_result"
    }
   ],
   "source": [
    "Menu"
   ]
  },
  {
   "cell_type": "markdown",
   "id": "f5edfd31",
   "metadata": {},
   "source": [
    "### Question\n",
    "#### Create a new dictionary called Price_list that contains the first five meals of the Menu dictionary as keys and assign the following five values as prices (assumed in dollars): 10, 5, 8, 12, 5. Start by Price_list = {}."
   ]
  },
  {
   "cell_type": "code",
   "execution_count": 103,
   "id": "8d46b2d8",
   "metadata": {},
   "outputs": [],
   "source": [
    "Menu = {'meal_1':'Spaghetti', 'meal_2':'Fries', 'meal_3':'Cheeseburger', 'meal_4':'Lasagna', 'meal_5':'Soup'}\n",
    "Price_list = {}\n",
    "Price_list['Spaghetti'] = 10\n",
    "Price_list['Fries'] = 5\n",
    "Price_list['Cheeseburger'] = 8\n",
    "Price_list['Lasagna'] = 12\n",
    "Price_list['Soup'] = 5"
   ]
  },
  {
   "cell_type": "code",
   "execution_count": 107,
   "id": "f9ea6bf8",
   "metadata": {},
   "outputs": [
    {
     "name": "stdout",
     "output_type": "stream",
     "text": [
      "{'Spaghetti': 10, 'Fries': 5, 'Cheeseburger': 8, 'Lasagna': 12, 'Soup': 5}\n"
     ]
    }
   ],
   "source": [
    "print(Price_list)"
   ]
  },
  {
   "cell_type": "code",
   "execution_count": 108,
   "id": "dd0e3fb6",
   "metadata": {},
   "outputs": [
    {
     "name": "stdout",
     "output_type": "stream",
     "text": [
      "{'Spaghetti': 10, 'Fries': 5, 'Cheeseburger': 8, 'Lasagna': 12, 'Soup': 5}\n"
     ]
    }
   ],
   "source": [
    "Price_list[Menu['meal_1']] = 10\n",
    "Price_list[Menu['meal_2']] = 5\n",
    "Price_list[Menu['meal_3']] = 8\n",
    "Price_list[Menu['meal_4']] = 12\n",
    "Price_list[Menu['meal_5']] = 5\n",
    "\n",
    "print(Price_list)"
   ]
  },
  {
   "cell_type": "markdown",
   "id": "3869f11f",
   "metadata": {},
   "source": [
    "### Another short method\n",
    "Dictionary Comprehension:\n",
    "\n",
    "In Python, a dictionary comprehension allows us to create a dictionary based on an expression and iterable(s).\n",
    "It has the form {key: value for (key, value) in iterable}.\n",
    "###  zip() function:\n",
    "\n",
    "The zip() function in Python takes iterables (like lists, tuples, etc.) and returns an iterator of tuples by aggregating corresponding elements.\n",
    "For example, zip([1, 2, 3], ['a', 'b', 'c']) would yield [(1, 'a'), (2, 'b'), (3, 'c')].\n",
    "Now, let's see how the code works:\n",
    "\n",
    "Menu.keys(): This returns a view object of all the keys in the Menu dictionary.\n",
    "[10, 5, 8, 12, 5]: This is a list of prices corresponding to the meals.\n",
    "zip(Menu.keys(), [10, 5, 8, 12, 5]): This pairs each meal key with its corresponding price. For example, it pairs 'meal_1' with 10, 'meal_2' with 5, and so on.\n",
    "{Menu[key]: price for key, price in zip(Menu.keys(), [10, 5, 8, 12, 5])}: This is the dictionary comprehension. It iterates through each pair of key and price generated by zip(). For each pair, it assigns the meal name (Menu[key]) as the key and the price as the value to create the Price_list dictionary.\n",
    "So, the dictionary comprehension creates the Price_list dictionary by pairing each meal from the Menu dictionary with its corresponding price using zip()."
   ]
  },
  {
   "cell_type": "code",
   "execution_count": 110,
   "id": "54940437",
   "metadata": {},
   "outputs": [
    {
     "name": "stdout",
     "output_type": "stream",
     "text": [
      "{'Spaghetti': 10, 'Fries': 5, 'Cheeseburger': 8, 'Lasagna': 12, 'Soup': 5}\n"
     ]
    }
   ],
   "source": [
    "Menu = {'meal_1':'Spaghetti', 'meal_2':'Fries', 'meal_3':'Cheeseburger', 'meal_4':'Lasagna', 'meal_5':'Soup'}\n",
    "Price_list = {Menu[key]: price for key, price in zip(Menu.keys(), [10, 5, 8, 12, 5])}\n",
    "\n",
    "print(Price_list)"
   ]
  },
  {
   "cell_type": "code",
   "execution_count": 111,
   "id": "11508b46",
   "metadata": {},
   "outputs": [],
   "source": [
    "def Square_info(p):\n",
    "    A = p** 4\n",
    "    P = p*4\n",
    "    print(\"Area & Perimeter:\")\n",
    "    return A, P"
   ]
  },
  {
   "cell_type": "code",
   "execution_count": 112,
   "id": "2b56edb7",
   "metadata": {},
   "outputs": [
    {
     "name": "stdout",
     "output_type": "stream",
     "text": [
      "Area & Perimeter:\n"
     ]
    },
    {
     "data": {
      "text/plain": [
       "(1305598571945919569761, 760348)"
      ]
     },
     "execution_count": 112,
     "metadata": {},
     "output_type": "execute_result"
    }
   ],
   "source": [
    "Square_info(190087)"
   ]
  },
  {
   "cell_type": "code",
   "execution_count": null,
   "id": "03022132",
   "metadata": {},
   "outputs": [],
   "source": []
  }
 ],
 "metadata": {
  "kernelspec": {
   "display_name": "Python 3 (ipykernel)",
   "language": "python",
   "name": "python3"
  },
  "language_info": {
   "codemirror_mode": {
    "name": "ipython",
    "version": 3
   },
   "file_extension": ".py",
   "mimetype": "text/x-python",
   "name": "python",
   "nbconvert_exporter": "python",
   "pygments_lexer": "ipython3",
   "version": "3.11.5"
  }
 },
 "nbformat": 4,
 "nbformat_minor": 5
}
