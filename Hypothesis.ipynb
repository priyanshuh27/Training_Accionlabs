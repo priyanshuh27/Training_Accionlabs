{
 "cells": [
  {
   "cell_type": "markdown",
   "id": "0055cce4",
   "metadata": {},
   "source": [
    "# Assignment 1 \n",
    "## Hypothesis Testing\n"
   ]
  },
  {
   "cell_type": "markdown",
   "id": "59fa9a67",
   "metadata": {},
   "source": [
    "### Question 1\n",
    "In the past, the mean running time for a certain type of flashlight battery has been\n",
    "8.5 hours. The manufacturer has introduced a change in the production method which\n",
    "he hopes has increased the mean running time. The mean running time for a random\n",
    "sample of 40 light bulbs was 8.7 hours. Do the data provide sufficient evidence to\n",
    "conclude that the mean running time of all light bulbs, μ, has increased from the\n",
    "previous mean of 8.5 hours? Assume that σ = 0.5 hours."
   ]
  },
  {
   "cell_type": "code",
   "execution_count": 57,
   "id": "3d914cd8",
   "metadata": {},
   "outputs": [],
   "source": [
    "import numpy as np\n",
    "import pandas as pd\n",
    "import math"
   ]
  },
  {
   "cell_type": "code",
   "execution_count": 55,
   "id": "55964b5b",
   "metadata": {},
   "outputs": [],
   "source": [
    "# Given data\n",
    "\n",
    "# Sample mean running time\n",
    "sample_mean = 8.7  \n",
    "\n",
    "# Population mean running time\n",
    "population_mean = 8.5\n",
    "\n",
    " # Population standard deviation\n",
    "population_stddev = 0.5 \n",
    "\n",
    "# Sample size\n",
    "sample_size = 40 \n",
    "\n",
    "# Significance level\n",
    "alpha = 0.05  "
   ]
  },
  {
   "cell_type": "code",
   "execution_count": 59,
   "id": "3725348a",
   "metadata": {},
   "outputs": [],
   "source": [
    "# Calculate the z-score\n",
    "z_score = (sample_mean - population_mean) / (population_stddev / math.sqrt(sample_size))"
   ]
  },
  {
   "cell_type": "code",
   "execution_count": 60,
   "id": "135822dc",
   "metadata": {},
   "outputs": [
    {
     "data": {
      "text/plain": [
       "2.529822128134694"
      ]
     },
     "execution_count": 60,
     "metadata": {},
     "output_type": "execute_result"
    }
   ],
   "source": [
    "z_score"
   ]
  },
  {
   "cell_type": "code",
   "execution_count": 62,
   "id": "4962c8c3",
   "metadata": {},
   "outputs": [],
   "source": [
    "# Assuming a one-tailed test (since we're testing if the mean has increased)\n",
    "p_value = 1 - 0.5 * (1 + math.erf(z_score / math.sqrt(2)))"
   ]
  },
  {
   "cell_type": "code",
   "execution_count": 63,
   "id": "fa24119c",
   "metadata": {},
   "outputs": [
    {
     "data": {
      "text/plain": [
       "0.0057060181930009835"
      ]
     },
     "execution_count": 63,
     "metadata": {},
     "output_type": "execute_result"
    }
   ],
   "source": [
    "p_value"
   ]
  },
  {
   "cell_type": "code",
   "execution_count": 64,
   "id": "190e1e0e",
   "metadata": {},
   "outputs": [
    {
     "name": "stdout",
     "output_type": "stream",
     "text": [
      "Z-score: 2.529822128134694\n",
      "P-value: 0.0057060181930009835\n"
     ]
    }
   ],
   "source": [
    "# Print the results\n",
    "print(\"Z-score:\", z_score)\n",
    "print(\"P-value:\", p_value)"
   ]
  },
  {
   "cell_type": "code",
   "execution_count": 65,
   "id": "d1ba6ad6",
   "metadata": {},
   "outputs": [
    {
     "name": "stdout",
     "output_type": "stream",
     "text": [
      "Reject the null hypothesis. There is sufficient evidence to conclude that the mean running time has increased.\n"
     ]
    }
   ],
   "source": [
    "# Compare p-value with significance level\n",
    "if p_value < alpha:\n",
    "    print(\"Reject the null hypothesis. There is sufficient evidence to conclude that the mean running time has increased.\")\n",
    "else:\n",
    "    print(\"Fail to reject the null hypothesis. There is not sufficient evidence to conclude that the mean running time has increased.\")"
   ]
  },
  {
   "cell_type": "markdown",
   "id": "60228373",
   "metadata": {},
   "source": [
    "Based on the conducted one-sample z-test with a significance level of 0.05, the obtained p-value of 0.0057060181930009835 indicates that we reject the null hypothesis. Therefore, there is sufficient evidence to conclude that the mean running time of all flashlight batteries has increased from the previous mean of 8.5 hours."
   ]
  },
  {
   "cell_type": "code",
   "execution_count": null,
   "id": "cd2043c7",
   "metadata": {},
   "outputs": [],
   "source": []
  },
  {
   "cell_type": "markdown",
   "id": "f7a4fac5",
   "metadata": {},
   "source": [
    "## Question 2\n",
    "The forced vital capacity (FVC) is often used by physicians to assess a person’s ability\n",
    "to move air in and out of their lungs. For adult males, the average FVC is 5.0 liters. A\n",
    "researcher wants to perform a hypothesis test to determine whether the average FVC\n",
    "for women differs from this value. The mean forced vital capacity for a random sample\n",
    "of 85 women was 4.8 liters. Do the data provide sufficient evidence to conclude that\n",
    "the mean FVC for women differs from the mean value for men of 5.0 liters? Assume\n",
    "that σ = 0.9 liters."
   ]
  },
  {
   "cell_type": "code",
   "execution_count": 66,
   "id": "e92865aa",
   "metadata": {},
   "outputs": [],
   "source": [
    "import numpy as np\n",
    "import pandas as pd\n",
    "import math"
   ]
  },
  {
   "cell_type": "code",
   "execution_count": 67,
   "id": "b4c6f3d3",
   "metadata": {},
   "outputs": [],
   "source": [
    "# Given data\n",
    "sample_mean = 4.8  # Sample mean FVC for women\n",
    "population_mean = 5.0  # Population mean FVC for men\n",
    "population_stddev = 0.9  # Population standard deviation\n",
    "sample_size = 85  # Sample size\n",
    "alpha = 0.05  # Significance level"
   ]
  },
  {
   "cell_type": "code",
   "execution_count": 68,
   "id": "709dfcd5",
   "metadata": {},
   "outputs": [],
   "source": [
    "# Calculate the z-score\n",
    "z_score = (sample_mean - population_mean) / (population_stddev / math.sqrt(sample_size))"
   ]
  },
  {
   "cell_type": "code",
   "execution_count": 69,
   "id": "37c6bd3a",
   "metadata": {},
   "outputs": [
    {
     "data": {
      "text/plain": [
       "-2.0487876571761987"
      ]
     },
     "execution_count": 69,
     "metadata": {},
     "output_type": "execute_result"
    }
   ],
   "source": [
    "z_score"
   ]
  },
  {
   "cell_type": "code",
   "execution_count": 70,
   "id": "dad47301",
   "metadata": {},
   "outputs": [],
   "source": [
    "# Find the two-tailed p-value using z-table (standard normal distribution table)\n",
    "# Since it's a two-tailed test, we need to consider both tails\n",
    "p_value = 2 * (1 - 0.5 * (1 + math.erf(abs(z_score) / math.sqrt(2))))"
   ]
  },
  {
   "cell_type": "code",
   "execution_count": 71,
   "id": "0693f025",
   "metadata": {},
   "outputs": [
    {
     "data": {
      "text/plain": [
       "0.04048288322366167"
      ]
     },
     "execution_count": 71,
     "metadata": {},
     "output_type": "execute_result"
    }
   ],
   "source": [
    "p_value"
   ]
  },
  {
   "cell_type": "code",
   "execution_count": 72,
   "id": "46827b80",
   "metadata": {},
   "outputs": [
    {
     "name": "stdout",
     "output_type": "stream",
     "text": [
      "Z-score: -2.0487876571761987\n",
      "P-value: 0.04048288322366167\n"
     ]
    }
   ],
   "source": [
    "# Print the results\n",
    "print(\"Z-score:\", z_score)\n",
    "print(\"P-value:\", p_value)"
   ]
  },
  {
   "cell_type": "code",
   "execution_count": 73,
   "id": "a48ff8c0",
   "metadata": {},
   "outputs": [
    {
     "name": "stdout",
     "output_type": "stream",
     "text": [
      "Reject the null hypothesis. There is sufficient evidence to conclude that the mean FVC for women differs from the mean value for men.\n"
     ]
    }
   ],
   "source": [
    "# Compare p-value with significance level\n",
    "if p_value < alpha:\n",
    "    print(\"Reject the null hypothesis. There is sufficient evidence to conclude that the mean FVC for women differs from the mean value for men.\")\n",
    "else:\n",
    "    print(\"Fail to reject the null hypothesis. There is not sufficient evidence to conclude that the mean FVC for women differs from the mean value for men.\")"
   ]
  },
  {
   "cell_type": "markdown",
   "id": "0c8677b0",
   "metadata": {},
   "source": [
    "Based on the conducted one-sample z-test with a significance level of 0.05, the obtained p-value of 0.04048288322366167 indicates that we reject the null hypotesis. Therefore, there is sufficient evidence to conclude that the mean forced vital capacity (FVC) for women differs from the mean value for men of 5.0 liters.\n",
    "\n",
    "\n",
    "\n",
    "\n",
    "\n",
    "\n",
    "\n"
   ]
  },
  {
   "cell_type": "code",
   "execution_count": null,
   "id": "84dc1553",
   "metadata": {},
   "outputs": [],
   "source": []
  },
  {
   "cell_type": "markdown",
   "id": "337f9009",
   "metadata": {},
   "source": [
    "## Question 3\n",
    "A manufacturer claims that the mean amount of juice in its 16 ounce bottles is 16.1\n",
    "ounces. A consumer advocacy group wants to perform a hypothesis test to determine\n",
    "whether the mean amount is actually less than this. The mean volume of juice for a\n",
    "random sample of 70 bottles was 15.94 ounces. Do the data provide sufficient evidence\n",
    "to conclude that the mean amount of juice for all 16-ounce bottles, μ, is less than 16.1\n",
    "ounces? Assume that σ = 0.9 ounces."
   ]
  },
  {
   "cell_type": "code",
   "execution_count": 77,
   "id": "6efd79ed",
   "metadata": {},
   "outputs": [],
   "source": [
    "import math\n",
    "from scipy.stats import norm"
   ]
  },
  {
   "cell_type": "markdown",
   "id": "2c689364",
   "metadata": {},
   "source": [
    "Since we are interested in whether the mean amount of juice is less than 16.1 ounces, we use the CDF to find the probability in the left tail of the distribution."
   ]
  },
  {
   "cell_type": "code",
   "execution_count": 78,
   "id": "01bbc296",
   "metadata": {},
   "outputs": [],
   "source": [
    "# Given data\n",
    "sample_mean = 15.94  # Sample mean amount of juice\n",
    "population_mean = 16.1  # Population mean amount of juice\n",
    "population_stddev = 0.9  # Population standard deviation\n",
    "sample_size = 70  # Sample size\n",
    "alpha = 0.05  # Significance level"
   ]
  },
  {
   "cell_type": "code",
   "execution_count": 79,
   "id": "4ff1aa35",
   "metadata": {},
   "outputs": [],
   "source": [
    "# Calculate the z-score\n",
    "z_score = (sample_mean - population_mean) / (population_stddev / math.sqrt(sample_size))"
   ]
  },
  {
   "cell_type": "code",
   "execution_count": 80,
   "id": "83997a99",
   "metadata": {},
   "outputs": [
    {
     "data": {
      "text/plain": [
       "-1.4873956027272632"
      ]
     },
     "execution_count": 80,
     "metadata": {},
     "output_type": "execute_result"
    }
   ],
   "source": [
    "z_score"
   ]
  },
  {
   "cell_type": "code",
   "execution_count": 81,
   "id": "53d26b47",
   "metadata": {},
   "outputs": [],
   "source": [
    "# Calculate the one-tailed p-value using the cumulative distribution function (CDF)\n",
    "p_value = norm.cdf(z_score)"
   ]
  },
  {
   "cell_type": "code",
   "execution_count": 82,
   "id": "510922c6",
   "metadata": {},
   "outputs": [
    {
     "data": {
      "text/plain": [
       "0.06845517880167845"
      ]
     },
     "execution_count": 82,
     "metadata": {},
     "output_type": "execute_result"
    }
   ],
   "source": [
    "p_value"
   ]
  },
  {
   "cell_type": "code",
   "execution_count": 83,
   "id": "33deb96f",
   "metadata": {},
   "outputs": [
    {
     "name": "stdout",
     "output_type": "stream",
     "text": [
      "Z-score: -1.4873956027272632\n",
      "P-value: 0.06845517880167845\n"
     ]
    }
   ],
   "source": [
    "# Print the results\n",
    "print(\"Z-score:\", z_score)\n",
    "print(\"P-value:\", p_value)"
   ]
  },
  {
   "cell_type": "code",
   "execution_count": 84,
   "id": "f652bf20",
   "metadata": {},
   "outputs": [
    {
     "name": "stdout",
     "output_type": "stream",
     "text": [
      "Fail to reject the null hypothesis. There is not sufficient evidence to conclude that the mean amount of juice for all 16-ounce bottles is less than 16.1 ounces.\n"
     ]
    }
   ],
   "source": [
    "# Compare p-value with significance level\n",
    "if p_value < alpha:\n",
    "    print(\"Reject the null hypothesis. There is sufficient evidence to conclude that the mean amount of juice for all 16-ounce bottles is less than 16.1 ounces.\")\n",
    "else:\n",
    "    print(\"Fail to reject the null hypothesis. There is not sufficient evidence to conclude that the mean amount of juice for all 16-ounce bottles is less than 16.1 ounces.\")"
   ]
  },
  {
   "cell_type": "markdown",
   "id": "b75e5672",
   "metadata": {},
   "source": [
    "The p-value of 0.06845517880167845 suggests that the mean amount of juice for 16-ounce bottles is not less than 16.1 ounces at a significance level of 0.05"
   ]
  }
 ],
 "metadata": {
  "kernelspec": {
   "display_name": "Python 3 (ipykernel)",
   "language": "python",
   "name": "python3"
  },
  "language_info": {
   "codemirror_mode": {
    "name": "ipython",
    "version": 3
   },
   "file_extension": ".py",
   "mimetype": "text/x-python",
   "name": "python",
   "nbconvert_exporter": "python",
   "pygments_lexer": "ipython3",
   "version": "3.11.5"
  }
 },
 "nbformat": 4,
 "nbformat_minor": 5
}
