{
 "cells": [
  {
   "cell_type": "markdown",
   "id": "8d6b5067",
   "metadata": {},
   "source": [
    "### Functions"
   ]
  },
  {
   "cell_type": "code",
   "execution_count": 1,
   "id": "cb00b8cb",
   "metadata": {},
   "outputs": [
    {
     "name": "stdout",
     "output_type": "stream",
     "text": [
      "30\n"
     ]
    }
   ],
   "source": [
    "def plus_five(x):\n",
    "    return x + 5\n",
    "def m_by_3(y):\n",
    "    return y * 3 \n",
    "\n",
    "result = m_by_3(plus_five(5))\n",
    "print(result)"
   ]
  },
  {
   "cell_type": "code",
   "execution_count": 3,
   "id": "b48c2361",
   "metadata": {},
   "outputs": [],
   "source": [
    "#Define a function, called compare_the_two(), with two arguments. If the first one is greater than the second one, \n",
    "#let it print \"Greater\". \n",
    "#If the second one is greater, it should print \"Less\".\n",
    "#Let it print \"Equal\" if the two values are the same number.\n",
    "\n",
    "def compare_the_two(a,b):\n",
    "    if a > b:\n",
    "        return \"Greater\"\n",
    "    elif a < b :\n",
    "        return \"Less\"\n",
    "    else :\n",
    "        return \"Equal\""
   ]
  },
  {
   "cell_type": "code",
   "execution_count": 4,
   "id": "c7d52c61",
   "metadata": {},
   "outputs": [
    {
     "data": {
      "text/plain": [
       "'Equal'"
      ]
     },
     "execution_count": 4,
     "metadata": {},
     "output_type": "execute_result"
    }
   ],
   "source": [
    "compare_the_two(20,20)"
   ]
  },
  {
   "cell_type": "code",
   "execution_count": 5,
   "id": "60193a37",
   "metadata": {},
   "outputs": [
    {
     "data": {
      "text/plain": [
       "'Greater'"
      ]
     },
     "execution_count": 5,
     "metadata": {},
     "output_type": "execute_result"
    }
   ],
   "source": [
    "compare_the_two(90,20)"
   ]
  },
  {
   "cell_type": "code",
   "execution_count": 6,
   "id": "c85e225c",
   "metadata": {},
   "outputs": [],
   "source": [
    "#Create a function, called distance_from_zero(), \n",
    "#that returns the absolute value of a provided single argument and prints a statement \"Not possible\" \n",
    "#if the argument provided is not a number.\n",
    "#To solve the task, use the type() function in the body of distance_from_zero().\n",
    "\n",
    "def distance_from_zero(num):\n",
    "    if type(num) == int or type(num) == float:\n",
    "        return abs(num)\n",
    "    else :\n",
    "        print(\"Not possible\")"
   ]
  },
  {
   "cell_type": "code",
   "execution_count": 7,
   "id": "4f8ea20b",
   "metadata": {},
   "outputs": [
    {
     "name": "stdout",
     "output_type": "stream",
     "text": [
      "10\n",
      "Not possible\n"
     ]
    }
   ],
   "source": [
    "print(distance_from_zero(-10))\n",
    "(distance_from_zero(\"cat\"))"
   ]
  },
  {
   "cell_type": "code",
   "execution_count": 8,
   "id": "fadcfb07",
   "metadata": {},
   "outputs": [
    {
     "name": "stdout",
     "output_type": "stream",
     "text": [
      "Not possible\n",
      "None\n"
     ]
    }
   ],
   "source": [
    "print(distance_from_zero(\"cat\"))"
   ]
  },
  {
   "cell_type": "code",
   "execution_count": 10,
   "id": "364c6da7",
   "metadata": {},
   "outputs": [],
   "source": [
    "def Square_info(p):\n",
    "    A = p** 4\n",
    "    P = p*4\n",
    "    print(\"Area & Perimeter:\")\n",
    "    return A, P"
   ]
  },
  {
   "cell_type": "code",
   "execution_count": 11,
   "id": "f5f46e88",
   "metadata": {},
   "outputs": [
    {
     "name": "stdout",
     "output_type": "stream",
     "text": [
      "Area & Perimeter:\n"
     ]
    },
    {
     "data": {
      "text/plain": [
       "(2318785835536, 4936)"
      ]
     },
     "execution_count": 11,
     "metadata": {},
     "output_type": "execute_result"
    }
   ],
   "source": [
    "Square_info(1234)"
   ]
  },
  {
   "cell_type": "code",
   "execution_count": 12,
   "id": "31acbb7a",
   "metadata": {},
   "outputs": [],
   "source": [
    "def rectangle_info(x,y):\n",
    "    A = x * y\n",
    "    print(\"Area\")\n",
    "    return A"
   ]
  },
  {
   "cell_type": "code",
   "execution_count": 13,
   "id": "31e75d77",
   "metadata": {},
   "outputs": [
    {
     "name": "stdout",
     "output_type": "stream",
     "text": [
      "Area\n"
     ]
    },
    {
     "data": {
      "text/plain": [
       "150"
      ]
     },
     "execution_count": 13,
     "metadata": {},
     "output_type": "execute_result"
    }
   ],
   "source": [
    "rectangle_info(10,15)"
   ]
  },
  {
   "cell_type": "code",
   "execution_count": 14,
   "id": "8c7781ba",
   "metadata": {},
   "outputs": [],
   "source": [
    "def square_info(x):\n",
    "    A = x ** 2\n",
    "    P = 4 * x\n",
    "    print(\"Area and Paremeter\")\n",
    "    return A,P"
   ]
  },
  {
   "cell_type": "code",
   "execution_count": 15,
   "id": "e58319fe",
   "metadata": {},
   "outputs": [
    {
     "name": "stdout",
     "output_type": "stream",
     "text": [
      "Area and Paremeter\n"
     ]
    },
    {
     "data": {
      "text/plain": [
       "(625, 100)"
      ]
     },
     "execution_count": 15,
     "metadata": {},
     "output_type": "execute_result"
    }
   ],
   "source": [
    "square_info(25)"
   ]
  },
  {
   "cell_type": "code",
   "execution_count": 16,
   "id": "856d0588",
   "metadata": {},
   "outputs": [
    {
     "name": "stdout",
     "output_type": "stream",
     "text": [
      "Area and Paremeter\n"
     ]
    },
    {
     "data": {
      "text/plain": [
       "(17689, 532)"
      ]
     },
     "execution_count": 16,
     "metadata": {},
     "output_type": "execute_result"
    }
   ],
   "source": [
    "square_info(133)"
   ]
  },
  {
   "cell_type": "code",
   "execution_count": 18,
   "id": "6b94a59c",
   "metadata": {},
   "outputs": [],
   "source": [
    "def value(x):\n",
    "    if x > 3:\n",
    "        return \"Case 1\"\n",
    "    else:\n",
    "        return \"Case 2\""
   ]
  },
  {
   "cell_type": "code",
   "execution_count": 19,
   "id": "f41e9395",
   "metadata": {},
   "outputs": [
    {
     "name": "stdout",
     "output_type": "stream",
     "text": [
      "Case 1\n"
     ]
    }
   ],
   "source": [
    "print(value(10))"
   ]
  },
  {
   "cell_type": "code",
   "execution_count": 20,
   "id": "6e32ddde",
   "metadata": {},
   "outputs": [],
   "source": [
    "def wage(w_hours):\n",
    "    return w_hours * 50\n",
    "def with_bonus(w_hours):\n",
    "    return wage(w_hours) + 100"
   ]
  },
  {
   "cell_type": "code",
   "execution_count": 21,
   "id": "72123fa4",
   "metadata": {},
   "outputs": [
    {
     "data": {
      "text/plain": [
       "(500, 600)"
      ]
     },
     "execution_count": 21,
     "metadata": {},
     "output_type": "execute_result"
    }
   ],
   "source": [
    "wage(10) , with_bonus(10)"
   ]
  },
  {
   "cell_type": "code",
   "execution_count": 22,
   "id": "6a95e045",
   "metadata": {},
   "outputs": [],
   "source": [
    "def add_10(x):\n",
    "    if x >= 100:\n",
    "        x = x + 10\n",
    "        return x\n",
    "    else:\n",
    "        return \"Save More!\""
   ]
  },
  {
   "cell_type": "code",
   "execution_count": 23,
   "id": "056d78e2",
   "metadata": {},
   "outputs": [
    {
     "data": {
      "text/plain": [
       "130"
      ]
     },
     "execution_count": 23,
     "metadata": {},
     "output_type": "execute_result"
    }
   ],
   "source": [
    "add_10(120)"
   ]
  },
  {
   "cell_type": "code",
   "execution_count": 24,
   "id": "8daf00db",
   "metadata": {},
   "outputs": [
    {
     "data": {
      "text/plain": [
       "'Save More!'"
      ]
     },
     "execution_count": 24,
     "metadata": {},
     "output_type": "execute_result"
    }
   ],
   "source": [
    "add_10(85)"
   ]
  },
  {
   "cell_type": "markdown",
   "id": "84b6dc45",
   "metadata": {},
   "source": [
    "### Lambda Function\n",
    "- Is a small anonymous function without a name. It is defined using the lambda keyword and has the following syntax\n",
    "- lambda arguments: expression\n",
    "\n",
    "- Used in situations where a small function is required for a short period of time.\n",
    "- They are commonly used as arguments to higher-order functions, such as map, filter, and reduce"
   ]
  },
  {
   "cell_type": "code",
   "execution_count": 25,
   "id": "0e4aae98",
   "metadata": {},
   "outputs": [
    {
     "name": "stdout",
     "output_type": "stream",
     "text": [
      "10\n"
     ]
    }
   ],
   "source": [
    "def double(x):\n",
    "    return x*2\n",
    "\n",
    "print(double(5))"
   ]
  },
  {
   "cell_type": "code",
   "execution_count": 27,
   "id": "66c6bb99",
   "metadata": {},
   "outputs": [
    {
     "name": "stdout",
     "output_type": "stream",
     "text": [
      "12\n"
     ]
    }
   ],
   "source": [
    "double = lambda x: x*2\n",
    "print(double(6))"
   ]
  },
  {
   "cell_type": "code",
   "execution_count": 28,
   "id": "67f58de1",
   "metadata": {},
   "outputs": [
    {
     "name": "stdout",
     "output_type": "stream",
     "text": [
      "512\n"
     ]
    }
   ],
   "source": [
    "cube = lambda x: x*x*x\n",
    "print(cube(8))"
   ]
  },
  {
   "cell_type": "code",
   "execution_count": 31,
   "id": "90f492b7",
   "metadata": {},
   "outputs": [
    {
     "name": "stdout",
     "output_type": "stream",
     "text": [
      "9.5\n"
     ]
    }
   ],
   "source": [
    "avg = lambda x, y: (x+y)/2\n",
    "print(avg(9,10))"
   ]
  }
 ],
 "metadata": {
  "kernelspec": {
   "display_name": "Python 3 (ipykernel)",
   "language": "python",
   "name": "python3"
  },
  "language_info": {
   "codemirror_mode": {
    "name": "ipython",
    "version": 3
   },
   "file_extension": ".py",
   "mimetype": "text/x-python",
   "name": "python",
   "nbconvert_exporter": "python",
   "pygments_lexer": "ipython3",
   "version": "3.11.5"
  }
 },
 "nbformat": 4,
 "nbformat_minor": 5
}
