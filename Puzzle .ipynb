{
 "cells": [
  {
   "cell_type": "markdown",
   "id": "3ad0039d",
   "metadata": {},
   "source": [
    "## Puzzle Problem (Loops)\n",
    "- There are 100 light bulbs lined up in a row in a long room. Each bulb has its own switch and is currently switched off. The room has an entry door and an exit door. There are 10 people lined up outside the entry door. Each bulb is numbered consecutively from 1 to 100. So is each person.\n",
    "\n",
    "- Person No. 1 enters the room, switches on every bulb, and exits. Person No. 2 enters and flips the switch on every second bulb \n",
    "(turning off bulbs 2, 4, 6...). Person No. 3 enters and flips the switch on every third bulb (changing the state on bulbs 3, 6, 9...). This continues until all 10 people have passed through the room.\n",
    "Create A LOOP to find how many bulbs will stay on in the end."
   ]
  },
  {
   "cell_type": "markdown",
   "id": "8c7325a4",
   "metadata": {},
   "source": [
    "## Final answer\n",
    "100 bulbs 10 people"
   ]
  },
  {
   "cell_type": "code",
   "execution_count": 4,
   "id": "9c5cc55e",
   "metadata": {},
   "outputs": [],
   "source": [
    "n = [0]*100\n",
    "for i in range(1,101):\n",
    "    for j in range(i-1,10,i):\n",
    "        if n[j] == 0:\n",
    "            n[j] = 1\n",
    "        else:\n",
    "            n[j] = 0          "
   ]
  },
  {
   "cell_type": "code",
   "execution_count": 5,
   "id": "ba449dd8",
   "metadata": {
    "scrolled": true
   },
   "outputs": [
    {
     "name": "stdout",
     "output_type": "stream",
     "text": [
      "[1, 0, 0, 1, 0, 0, 0, 0, 1, 0, 0, 0, 0, 0, 0, 0, 0, 0, 0, 0, 0, 0, 0, 0, 0, 0, 0, 0, 0, 0, 0, 0, 0, 0, 0, 0, 0, 0, 0, 0, 0, 0, 0, 0, 0, 0, 0, 0, 0, 0, 0, 0, 0, 0, 0, 0, 0, 0, 0, 0, 0, 0, 0, 0, 0, 0, 0, 0, 0, 0, 0, 0, 0, 0, 0, 0, 0, 0, 0, 0, 0, 0, 0, 0, 0, 0, 0, 0, 0, 0, 0, 0, 0, 0, 0, 0, 0, 0, 0, 0]\n"
     ]
    }
   ],
   "source": [
    "print(n)"
   ]
  },
  {
   "cell_type": "code",
   "execution_count": 12,
   "id": "9e3e0541",
   "metadata": {},
   "outputs": [
    {
     "name": "stdout",
     "output_type": "stream",
     "text": [
      "Number of 1s: 10\n"
     ]
    }
   ],
   "source": [
    "# Count the number of occurrences of 1 in the list\n",
    "Turned_on_bulbs = n.count(1)\n",
    "print(\"Number of 1s:\", count_1)"
   ]
  },
  {
   "cell_type": "markdown",
   "id": "2b773d18",
   "metadata": {},
   "source": [
    "### Mathematical approach\n",
    "## Please note that this will not going to work always"
   ]
  },
  {
   "cell_type": "code",
   "execution_count": 13,
   "id": "a470d0bb",
   "metadata": {
    "scrolled": true
   },
   "outputs": [
    {
     "name": "stdout",
     "output_type": "stream",
     "text": [
      "Light bulb 1 will be on\n",
      "Light bulb 4 will be on\n",
      "Light bulb 9 will be on\n",
      "Light bulb 16 will be on\n",
      "Light bulb 25 will be on\n",
      "Light bulb 36 will be on\n",
      "Light bulb 49 will be on\n",
      "Light bulb 64 will be on\n",
      "Light bulb 81 will be on\n",
      "Light bulb 100 will be on\n",
      "Total 10 light bulbs will be on\n",
      "in the end out of 100 light bulbs\n"
     ]
    }
   ],
   "source": [
    "import math\n",
    "root = int(math.sqrt(100))\n",
    " \n",
    "for i in range(1, root + 1):\n",
    "    print(\"Light bulb %d will be on\"%(i * i))\n",
    "     \n",
    "print(\"\"\"Total %d light bulbs will be on\n",
    "in the end out of 100 light bulbs\"\"\"%root)"
   ]
  },
  {
   "cell_type": "code",
   "execution_count": 9,
   "id": "c9ee862e",
   "metadata": {},
   "outputs": [
    {
     "name": "stdout",
     "output_type": "stream",
     "text": [
      "[1, 0, 0, 1, 0, 0, 0, 0, 1, 0, 0, 0, 0, 0, 0, 1, 0, 0, 0, 0, 0, 0, 0, 0, 1, 0, 0, 0, 0, 0, 0, 0, 0, 0, 0, 1, 0, 0, 0, 0, 0, 0, 0, 0, 0, 0, 0, 0, 1, 0, 0, 0, 0, 0, 0, 0, 0, 0, 0, 0, 0, 0, 0, 1, 0, 0, 0, 0, 0, 0, 0, 0, 0, 0, 0, 0, 0, 0, 0, 0, 1, 0, 0, 0, 0, 0, 0, 0, 0, 0, 0, 0, 0, 0, 0, 0, 0, 0, 0, 1]\n"
     ]
    }
   ],
   "source": [
    "# Another way\n",
    "n = [0]*100\n",
    "for i in range(1,101):\n",
    "    for j in range(i-1,100,i):\n",
    "        n[j] = 1-n[j]\n",
    "print(n)"
   ]
  },
  {
   "cell_type": "markdown",
   "id": "2630c6fc",
   "metadata": {},
   "source": [
    "### Thank you\n"
   ]
  }
 ],
 "metadata": {
  "kernelspec": {
   "display_name": "Python 3 (ipykernel)",
   "language": "python",
   "name": "python3"
  },
  "language_info": {
   "codemirror_mode": {
    "name": "ipython",
    "version": 3
   },
   "file_extension": ".py",
   "mimetype": "text/x-python",
   "name": "python",
   "nbconvert_exporter": "python",
   "pygments_lexer": "ipython3",
   "version": "3.11.5"
  }
 },
 "nbformat": 4,
 "nbformat_minor": 5
}
