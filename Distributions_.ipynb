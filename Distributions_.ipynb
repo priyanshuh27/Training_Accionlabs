{
 "cells": [
  {
   "cell_type": "markdown",
   "id": "905abb98",
   "metadata": {},
   "source": [
    "## Binomial Distribution\n"
   ]
  },
  {
   "cell_type": "markdown",
   "id": "c1da6350",
   "metadata": {},
   "source": [
    "## Question\n",
    "if you roll a die 16 times, what is the probability that a five comes up 3 times?"
   ]
  },
  {
   "cell_type": "code",
   "execution_count": 3,
   "id": "0dba5679",
   "metadata": {},
   "outputs": [
    {
     "data": {
      "text/plain": [
       "0.24231376033713137"
      ]
     },
     "execution_count": 3,
     "metadata": {},
     "output_type": "execute_result"
    }
   ],
   "source": [
    "from scipy.stats import binom\n",
    "binom.pmf(3,16,1/6)"
   ]
  },
  {
   "cell_type": "markdown",
   "id": "222c6573",
   "metadata": {},
   "source": [
    "## Poisson Distribution"
   ]
  },
  {
   "cell_type": "markdown",
   "id": "b78f7e4e",
   "metadata": {},
   "source": [
    "### Question\n",
    "A wharehouse typically receives 8 deliveries between 4 & 5 pm on friday.\n",
    "1) What is the probability that only 4 deliverables will arive between 4 and 5 pm this friday?\n",
    "2) fewer than 3?"
   ]
  },
  {
   "cell_type": "code",
   "execution_count": 4,
   "id": "e5d258cb",
   "metadata": {},
   "outputs": [
    {
     "data": {
      "text/plain": [
       "0.057252288495362"
      ]
     },
     "execution_count": 4,
     "metadata": {},
     "output_type": "execute_result"
    }
   ],
   "source": [
    "from scipy.stats import poisson\n",
    "poisson.pmf(4,8)"
   ]
  },
  {
   "cell_type": "code",
   "execution_count": 5,
   "id": "c7271f7d",
   "metadata": {},
   "outputs": [
    {
     "data": {
      "text/plain": [
       "0.013753967744002971"
      ]
     },
     "execution_count": 5,
     "metadata": {},
     "output_type": "execute_result"
    }
   ],
   "source": [
    "poisson.cdf(2,8)"
   ]
  },
  {
   "cell_type": "markdown",
   "id": "e5052e12",
   "metadata": {},
   "source": [
    "## Normal Distribution\n",
    "z and p score"
   ]
  },
  {
   "cell_type": "code",
   "execution_count": 8,
   "id": "d1755114",
   "metadata": {},
   "outputs": [
    {
     "data": {
      "text/plain": [
       "0.758036347776927"
      ]
     },
     "execution_count": 8,
     "metadata": {},
     "output_type": "execute_result"
    }
   ],
   "source": [
    "from scipy import stats\n",
    "z = .70\n",
    "stats.norm.cdf(z)"
   ]
  },
  {
   "cell_type": "code",
   "execution_count": 9,
   "id": "b5e43a3b",
   "metadata": {},
   "outputs": [
    {
     "data": {
      "text/plain": [
       "1.6448536269514722"
      ]
     },
     "execution_count": 9,
     "metadata": {},
     "output_type": "execute_result"
    }
   ],
   "source": [
    "p = .95\n",
    "stats.norm.ppf(p)"
   ]
  },
  {
   "cell_type": "code",
   "execution_count": 20,
   "id": "4d2340ef",
   "metadata": {},
   "outputs": [],
   "source": [
    "import numpy as np"
   ]
  },
  {
   "cell_type": "code",
   "execution_count": 6,
   "id": "485c9822",
   "metadata": {},
   "outputs": [],
   "source": [
    "import pandas as pd\n",
    "import seaborn as sn"
   ]
  },
  {
   "cell_type": "code",
   "execution_count": 7,
   "id": "88286b40",
   "metadata": {},
   "outputs": [
    {
     "data": {
      "text/html": [
       "<div>\n",
       "<style scoped>\n",
       "    .dataframe tbody tr th:only-of-type {\n",
       "        vertical-align: middle;\n",
       "    }\n",
       "\n",
       "    .dataframe tbody tr th {\n",
       "        vertical-align: top;\n",
       "    }\n",
       "\n",
       "    .dataframe thead th {\n",
       "        text-align: right;\n",
       "    }\n",
       "</style>\n",
       "<table border=\"1\" class=\"dataframe\">\n",
       "  <thead>\n",
       "    <tr style=\"text-align: right;\">\n",
       "      <th></th>\n",
       "      <th>Gender</th>\n",
       "      <th>Height</th>\n",
       "    </tr>\n",
       "  </thead>\n",
       "  <tbody>\n",
       "    <tr>\n",
       "      <th>0</th>\n",
       "      <td>Male</td>\n",
       "      <td>73.847017</td>\n",
       "    </tr>\n",
       "    <tr>\n",
       "      <th>1</th>\n",
       "      <td>Male</td>\n",
       "      <td>68.781904</td>\n",
       "    </tr>\n",
       "    <tr>\n",
       "      <th>2</th>\n",
       "      <td>Male</td>\n",
       "      <td>74.110105</td>\n",
       "    </tr>\n",
       "    <tr>\n",
       "      <th>3</th>\n",
       "      <td>Male</td>\n",
       "      <td>71.730978</td>\n",
       "    </tr>\n",
       "    <tr>\n",
       "      <th>4</th>\n",
       "      <td>Male</td>\n",
       "      <td>69.881796</td>\n",
       "    </tr>\n",
       "  </tbody>\n",
       "</table>\n",
       "</div>"
      ],
      "text/plain": [
       "  Gender     Height\n",
       "0   Male  73.847017\n",
       "1   Male  68.781904\n",
       "2   Male  74.110105\n",
       "3   Male  71.730978\n",
       "4   Male  69.881796"
      ]
     },
     "execution_count": 7,
     "metadata": {},
     "output_type": "execute_result"
    }
   ],
   "source": [
    "#df is data frame\n",
    "df = pd.read_csv(\"DATA-nor.csv\")\n",
    "df.head()"
   ]
  },
  {
   "cell_type": "code",
   "execution_count": 8,
   "id": "cab650f0",
   "metadata": {},
   "outputs": [
    {
     "data": {
      "text/plain": [
       "count    10000.000000\n",
       "mean        66.367560\n",
       "std          3.847528\n",
       "min         54.263133\n",
       "25%         63.505620\n",
       "50%         66.318070\n",
       "75%         69.174262\n",
       "max         78.998742\n",
       "Name: Height, dtype: float64"
      ]
     },
     "execution_count": 8,
     "metadata": {},
     "output_type": "execute_result"
    }
   ],
   "source": [
    "df.Height.describe()"
   ]
  },
  {
   "cell_type": "code",
   "execution_count": 9,
   "id": "82dd1b70",
   "metadata": {},
   "outputs": [
    {
     "data": {
      "text/plain": [
       "count     10000\n",
       "unique        2\n",
       "top        Male\n",
       "freq       5000\n",
       "Name: Gender, dtype: object"
      ]
     },
     "execution_count": 9,
     "metadata": {},
     "output_type": "execute_result"
    }
   ],
   "source": [
    "df.Gender.describe()"
   ]
  },
  {
   "cell_type": "code",
   "execution_count": 30,
   "id": "15730027",
   "metadata": {},
   "outputs": [
    {
     "data": {
      "text/plain": [
       "<Axes: xlabel='Height', ylabel='Count'>"
      ]
     },
     "execution_count": 30,
     "metadata": {},
     "output_type": "execute_result"
    },
    {
     "data": {
      "image/png": "[encoded data removed]",
      "text/plain": [
       "<Figure size 640x480 with 1 Axes>"
      ]
     },
     "metadata": {},
     "output_type": "display_data"
    }
   ],
   "source": [
    "sn.histplot(df.Height,kde=True)"
   ]
  },
  {
   "cell_type": "code",
   "execution_count": 11,
   "id": "2b3d061b",
   "metadata": {},
   "outputs": [
    {
     "data": {
      "text/plain": [
       "66.367559754866"
      ]
     },
     "execution_count": 11,
     "metadata": {},
     "output_type": "execute_result"
    }
   ],
   "source": [
    "mean=df.Height.mean()\n",
    "mean"
   ]
  },
  {
   "cell_type": "code",
   "execution_count": 15,
   "id": "3aa16263",
   "metadata": {},
   "outputs": [
    {
     "data": {
      "text/plain": [
       "3.847528120795573"
      ]
     },
     "execution_count": 15,
     "metadata": {},
     "output_type": "execute_result"
    }
   ],
   "source": [
    "std_deviation = df.Height.std()\n",
    "std_deviation"
   ]
  },
  {
   "cell_type": "code",
   "execution_count": 16,
   "id": "4949c307",
   "metadata": {},
   "outputs": [
    {
     "data": {
      "text/plain": [
       "54.824975392479274"
      ]
     },
     "execution_count": 16,
     "metadata": {},
     "output_type": "execute_result"
    }
   ],
   "source": [
    "mean - 3*std_deviation"
   ]
  },
  {
   "cell_type": "code",
   "execution_count": 17,
   "id": "ad66cee3",
   "metadata": {},
   "outputs": [
    {
     "data": {
      "text/plain": [
       "77.91014411725271"
      ]
     },
     "execution_count": 17,
     "metadata": {},
     "output_type": "execute_result"
    }
   ],
   "source": [
    "mean + 3*std_deviation"
   ]
  },
  {
   "cell_type": "code",
   "execution_count": 18,
   "id": "39a0c5c3",
   "metadata": {},
   "outputs": [
    {
     "data": {
      "text/html": [
       "<div>\n",
       "<style scoped>\n",
       "    .dataframe tbody tr th:only-of-type {\n",
       "        vertical-align: middle;\n",
       "    }\n",
       "\n",
       "    .dataframe tbody tr th {\n",
       "        vertical-align: top;\n",
       "    }\n",
       "\n",
       "    .dataframe thead th {\n",
       "        text-align: right;\n",
       "    }\n",
       "</style>\n",
       "<table border=\"1\" class=\"dataframe\">\n",
       "  <thead>\n",
       "    <tr style=\"text-align: right;\">\n",
       "      <th></th>\n",
       "      <th>Gender</th>\n",
       "      <th>Height</th>\n",
       "    </tr>\n",
       "  </thead>\n",
       "  <tbody>\n",
       "    <tr>\n",
       "      <th>994</th>\n",
       "      <td>Male</td>\n",
       "      <td>78.095867</td>\n",
       "    </tr>\n",
       "    <tr>\n",
       "      <th>1317</th>\n",
       "      <td>Male</td>\n",
       "      <td>78.462053</td>\n",
       "    </tr>\n",
       "    <tr>\n",
       "      <th>2014</th>\n",
       "      <td>Male</td>\n",
       "      <td>78.998742</td>\n",
       "    </tr>\n",
       "    <tr>\n",
       "      <th>3285</th>\n",
       "      <td>Male</td>\n",
       "      <td>78.528210</td>\n",
       "    </tr>\n",
       "    <tr>\n",
       "      <th>3757</th>\n",
       "      <td>Male</td>\n",
       "      <td>78.621374</td>\n",
       "    </tr>\n",
       "  </tbody>\n",
       "</table>\n",
       "</div>"
      ],
      "text/plain": [
       "     Gender     Height\n",
       "994    Male  78.095867\n",
       "1317   Male  78.462053\n",
       "2014   Male  78.998742\n",
       "3285   Male  78.528210\n",
       "3757   Male  78.621374"
      ]
     },
     "execution_count": 18,
     "metadata": {},
     "output_type": "execute_result"
    }
   ],
   "source": [
    "df [df.Height > 77.91014411725271]"
   ]
  },
  {
   "cell_type": "code",
   "execution_count": 19,
   "id": "c56acbad",
   "metadata": {},
   "outputs": [
    {
     "data": {
      "text/html": [
       "<div>\n",
       "<style scoped>\n",
       "    .dataframe tbody tr th:only-of-type {\n",
       "        vertical-align: middle;\n",
       "    }\n",
       "\n",
       "    .dataframe tbody tr th {\n",
       "        vertical-align: top;\n",
       "    }\n",
       "\n",
       "    .dataframe thead th {\n",
       "        text-align: right;\n",
       "    }\n",
       "</style>\n",
       "<table border=\"1\" class=\"dataframe\">\n",
       "  <thead>\n",
       "    <tr style=\"text-align: right;\">\n",
       "      <th></th>\n",
       "      <th>Gender</th>\n",
       "      <th>Height</th>\n",
       "    </tr>\n",
       "  </thead>\n",
       "  <tbody>\n",
       "    <tr>\n",
       "      <th>6624</th>\n",
       "      <td>Female</td>\n",
       "      <td>54.616858</td>\n",
       "    </tr>\n",
       "    <tr>\n",
       "      <th>9285</th>\n",
       "      <td>Female</td>\n",
       "      <td>54.263133</td>\n",
       "    </tr>\n",
       "  </tbody>\n",
       "</table>\n",
       "</div>"
      ],
      "text/plain": [
       "      Gender     Height\n",
       "6624  Female  54.616858\n",
       "9285  Female  54.263133"
      ]
     },
     "execution_count": 19,
     "metadata": {},
     "output_type": "execute_result"
    }
   ],
   "source": [
    "df [df.Height <54.824975392479274]"
   ]
  },
  {
   "cell_type": "code",
   "execution_count": 20,
   "id": "2ea66f27",
   "metadata": {},
   "outputs": [
    {
     "data": {
      "text/html": [
       "<div>\n",
       "<style scoped>\n",
       "    .dataframe tbody tr th:only-of-type {\n",
       "        vertical-align: middle;\n",
       "    }\n",
       "\n",
       "    .dataframe tbody tr th {\n",
       "        vertical-align: top;\n",
       "    }\n",
       "\n",
       "    .dataframe thead th {\n",
       "        text-align: right;\n",
       "    }\n",
       "</style>\n",
       "<table border=\"1\" class=\"dataframe\">\n",
       "  <thead>\n",
       "    <tr style=\"text-align: right;\">\n",
       "      <th></th>\n",
       "      <th>Gender</th>\n",
       "      <th>Height</th>\n",
       "    </tr>\n",
       "  </thead>\n",
       "  <tbody>\n",
       "    <tr>\n",
       "      <th>994</th>\n",
       "      <td>Male</td>\n",
       "      <td>78.095867</td>\n",
       "    </tr>\n",
       "    <tr>\n",
       "      <th>1317</th>\n",
       "      <td>Male</td>\n",
       "      <td>78.462053</td>\n",
       "    </tr>\n",
       "    <tr>\n",
       "      <th>2014</th>\n",
       "      <td>Male</td>\n",
       "      <td>78.998742</td>\n",
       "    </tr>\n",
       "    <tr>\n",
       "      <th>3285</th>\n",
       "      <td>Male</td>\n",
       "      <td>78.528210</td>\n",
       "    </tr>\n",
       "    <tr>\n",
       "      <th>3757</th>\n",
       "      <td>Male</td>\n",
       "      <td>78.621374</td>\n",
       "    </tr>\n",
       "    <tr>\n",
       "      <th>6624</th>\n",
       "      <td>Female</td>\n",
       "      <td>54.616858</td>\n",
       "    </tr>\n",
       "    <tr>\n",
       "      <th>9285</th>\n",
       "      <td>Female</td>\n",
       "      <td>54.263133</td>\n",
       "    </tr>\n",
       "  </tbody>\n",
       "</table>\n",
       "</div>"
      ],
      "text/plain": [
       "      Gender     Height\n",
       "994     Male  78.095867\n",
       "1317    Male  78.462053\n",
       "2014    Male  78.998742\n",
       "3285    Male  78.528210\n",
       "3757    Male  78.621374\n",
       "6624  Female  54.616858\n",
       "9285  Female  54.263133"
      ]
     },
     "execution_count": 20,
     "metadata": {},
     "output_type": "execute_result"
    }
   ],
   "source": [
    "df [(df.Height <54.824975392479274) | (df.Height > 77.91014411725271) ]"
   ]
  },
  {
   "cell_type": "code",
   "execution_count": 21,
   "id": "5a45b57f",
   "metadata": {},
   "outputs": [],
   "source": [
    "df_no_outlier = df[(df.Height < 77.91014411725271) & (df.Height > 54.824975392479274) ]"
   ]
  },
  {
   "cell_type": "code",
   "execution_count": 22,
   "id": "758d53ad",
   "metadata": {},
   "outputs": [
    {
     "data": {
      "text/plain": [
       "(9993, 2)"
      ]
     },
     "execution_count": 22,
     "metadata": {},
     "output_type": "execute_result"
    }
   ],
   "source": [
    "df_no_outlier.shape"
   ]
  },
  {
   "cell_type": "code",
   "execution_count": 23,
   "id": "07699ae7",
   "metadata": {},
   "outputs": [
    {
     "data": {
      "text/plain": [
       "(9993, 2)"
      ]
     },
     "execution_count": 23,
     "metadata": {},
     "output_type": "execute_result"
    }
   ],
   "source": [
    "df_no_outlier.shape"
   ]
  },
  {
   "cell_type": "code",
   "execution_count": 59,
   "id": "37a75c44",
   "metadata": {},
   "outputs": [],
   "source": [
    "#z-score\n"
   ]
  },
  {
   "cell_type": "code",
   "execution_count": 24,
   "id": "e7d41a6c",
   "metadata": {},
   "outputs": [
    {
     "data": {
      "text/html": [
       "<div>\n",
       "<style scoped>\n",
       "    .dataframe tbody tr th:only-of-type {\n",
       "        vertical-align: middle;\n",
       "    }\n",
       "\n",
       "    .dataframe tbody tr th {\n",
       "        vertical-align: top;\n",
       "    }\n",
       "\n",
       "    .dataframe thead th {\n",
       "        text-align: right;\n",
       "    }\n",
       "</style>\n",
       "<table border=\"1\" class=\"dataframe\">\n",
       "  <thead>\n",
       "    <tr style=\"text-align: right;\">\n",
       "      <th></th>\n",
       "      <th>Gender</th>\n",
       "      <th>Height</th>\n",
       "      <th>Zscore</th>\n",
       "    </tr>\n",
       "  </thead>\n",
       "  <tbody>\n",
       "    <tr>\n",
       "      <th>0</th>\n",
       "      <td>Male</td>\n",
       "      <td>73.847017</td>\n",
       "      <td>1.943964</td>\n",
       "    </tr>\n",
       "    <tr>\n",
       "      <th>1</th>\n",
       "      <td>Male</td>\n",
       "      <td>68.781904</td>\n",
       "      <td>0.627505</td>\n",
       "    </tr>\n",
       "    <tr>\n",
       "      <th>2</th>\n",
       "      <td>Male</td>\n",
       "      <td>74.110105</td>\n",
       "      <td>2.012343</td>\n",
       "    </tr>\n",
       "    <tr>\n",
       "      <th>3</th>\n",
       "      <td>Male</td>\n",
       "      <td>71.730978</td>\n",
       "      <td>1.393991</td>\n",
       "    </tr>\n",
       "    <tr>\n",
       "      <th>4</th>\n",
       "      <td>Male</td>\n",
       "      <td>69.881796</td>\n",
       "      <td>0.913375</td>\n",
       "    </tr>\n",
       "  </tbody>\n",
       "</table>\n",
       "</div>"
      ],
      "text/plain": [
       "  Gender     Height    Zscore\n",
       "0   Male  73.847017  1.943964\n",
       "1   Male  68.781904  0.627505\n",
       "2   Male  74.110105  2.012343\n",
       "3   Male  71.730978  1.393991\n",
       "4   Male  69.881796  0.913375"
      ]
     },
     "execution_count": 24,
     "metadata": {},
     "output_type": "execute_result"
    }
   ],
   "source": [
    "df['Zscore'] = (df.Height-df.Height.mean())/df.Height.std()\n",
    "df.head()"
   ]
  },
  {
   "cell_type": "code",
   "execution_count": 25,
   "id": "0ac0fc98",
   "metadata": {},
   "outputs": [
    {
     "data": {
      "text/plain": [
       "66.367559754866"
      ]
     },
     "execution_count": 25,
     "metadata": {},
     "output_type": "execute_result"
    }
   ],
   "source": [
    "df.Height.mean()"
   ]
  },
  {
   "cell_type": "code",
   "execution_count": 26,
   "id": "1fd62002",
   "metadata": {},
   "outputs": [
    {
     "data": {
      "text/plain": [
       "<bound method NDFrame._add_numeric_operations.<locals>.mean of 0       73.847017\n",
       "1       68.781904\n",
       "2       74.110105\n",
       "3       71.730978\n",
       "4       69.881796\n",
       "          ...    \n",
       "9995    66.172652\n",
       "9996    67.067155\n",
       "9997    63.867992\n",
       "9998    69.034243\n",
       "9999    61.944246\n",
       "Name: Height, Length: 10000, dtype: float64>"
      ]
     },
     "execution_count": 26,
     "metadata": {},
     "output_type": "execute_result"
    }
   ],
   "source": [
    "df.Height.mean"
   ]
  },
  {
   "cell_type": "code",
   "execution_count": 27,
   "id": "9963197a",
   "metadata": {},
   "outputs": [
    {
     "data": {
      "text/plain": [
       "1.9439642831219734"
      ]
     },
     "execution_count": 27,
     "metadata": {},
     "output_type": "execute_result"
    }
   ],
   "source": [
    "(73.847017 - 66.367559754866 )/3.847528120795573"
   ]
  },
  {
   "cell_type": "code",
   "execution_count": 28,
   "id": "13c07c3d",
   "metadata": {},
   "outputs": [
    {
     "data": {
      "text/html": [
       "<div>\n",
       "<style scoped>\n",
       "    .dataframe tbody tr th:only-of-type {\n",
       "        vertical-align: middle;\n",
       "    }\n",
       "\n",
       "    .dataframe tbody tr th {\n",
       "        vertical-align: top;\n",
       "    }\n",
       "\n",
       "    .dataframe thead th {\n",
       "        text-align: right;\n",
       "    }\n",
       "</style>\n",
       "<table border=\"1\" class=\"dataframe\">\n",
       "  <thead>\n",
       "    <tr style=\"text-align: right;\">\n",
       "      <th></th>\n",
       "      <th>Gender</th>\n",
       "      <th>Height</th>\n",
       "      <th>Zscore</th>\n",
       "    </tr>\n",
       "  </thead>\n",
       "  <tbody>\n",
       "    <tr>\n",
       "      <th>6624</th>\n",
       "      <td>Female</td>\n",
       "      <td>54.616858</td>\n",
       "      <td>-3.054091</td>\n",
       "    </tr>\n",
       "    <tr>\n",
       "      <th>9285</th>\n",
       "      <td>Female</td>\n",
       "      <td>54.263133</td>\n",
       "      <td>-3.146027</td>\n",
       "    </tr>\n",
       "  </tbody>\n",
       "</table>\n",
       "</div>"
      ],
      "text/plain": [
       "      Gender     Height    Zscore\n",
       "6624  Female  54.616858 -3.054091\n",
       "9285  Female  54.263133 -3.146027"
      ]
     },
     "execution_count": 28,
     "metadata": {},
     "output_type": "execute_result"
    }
   ],
   "source": [
    "df[df.Zscore < -3]"
   ]
  },
  {
   "cell_type": "code",
   "execution_count": 31,
   "id": "296649bb",
   "metadata": {},
   "outputs": [
    {
     "data": {
      "text/html": [
       "<div>\n",
       "<style scoped>\n",
       "    .dataframe tbody tr th:only-of-type {\n",
       "        vertical-align: middle;\n",
       "    }\n",
       "\n",
       "    .dataframe tbody tr th {\n",
       "        vertical-align: top;\n",
       "    }\n",
       "\n",
       "    .dataframe thead th {\n",
       "        text-align: right;\n",
       "    }\n",
       "</style>\n",
       "<table border=\"1\" class=\"dataframe\">\n",
       "  <thead>\n",
       "    <tr style=\"text-align: right;\">\n",
       "      <th></th>\n",
       "      <th>Gender</th>\n",
       "      <th>Height</th>\n",
       "      <th>Zscore</th>\n",
       "    </tr>\n",
       "  </thead>\n",
       "  <tbody>\n",
       "    <tr>\n",
       "      <th>994</th>\n",
       "      <td>Male</td>\n",
       "      <td>78.095867</td>\n",
       "      <td>3.048271</td>\n",
       "    </tr>\n",
       "    <tr>\n",
       "      <th>1317</th>\n",
       "      <td>Male</td>\n",
       "      <td>78.462053</td>\n",
       "      <td>3.143445</td>\n",
       "    </tr>\n",
       "    <tr>\n",
       "      <th>2014</th>\n",
       "      <td>Male</td>\n",
       "      <td>78.998742</td>\n",
       "      <td>3.282934</td>\n",
       "    </tr>\n",
       "    <tr>\n",
       "      <th>3285</th>\n",
       "      <td>Male</td>\n",
       "      <td>78.528210</td>\n",
       "      <td>3.160640</td>\n",
       "    </tr>\n",
       "    <tr>\n",
       "      <th>3757</th>\n",
       "      <td>Male</td>\n",
       "      <td>78.621374</td>\n",
       "      <td>3.184854</td>\n",
       "    </tr>\n",
       "  </tbody>\n",
       "</table>\n",
       "</div>"
      ],
      "text/plain": [
       "     Gender     Height    Zscore\n",
       "994    Male  78.095867  3.048271\n",
       "1317   Male  78.462053  3.143445\n",
       "2014   Male  78.998742  3.282934\n",
       "3285   Male  78.528210  3.160640\n",
       "3757   Male  78.621374  3.184854"
      ]
     },
     "execution_count": 31,
     "metadata": {},
     "output_type": "execute_result"
    }
   ],
   "source": [
    "df[df.Zscore > 3]"
   ]
  },
  {
   "cell_type": "code",
   "execution_count": 32,
   "id": "38cdc4c4",
   "metadata": {},
   "outputs": [
    {
     "data": {
      "text/html": [
       "<div>\n",
       "<style scoped>\n",
       "    .dataframe tbody tr th:only-of-type {\n",
       "        vertical-align: middle;\n",
       "    }\n",
       "\n",
       "    .dataframe tbody tr th {\n",
       "        vertical-align: top;\n",
       "    }\n",
       "\n",
       "    .dataframe thead th {\n",
       "        text-align: right;\n",
       "    }\n",
       "</style>\n",
       "<table border=\"1\" class=\"dataframe\">\n",
       "  <thead>\n",
       "    <tr style=\"text-align: right;\">\n",
       "      <th></th>\n",
       "      <th>Gender</th>\n",
       "      <th>Height</th>\n",
       "      <th>Zscore</th>\n",
       "    </tr>\n",
       "  </thead>\n",
       "  <tbody>\n",
       "    <tr>\n",
       "      <th>994</th>\n",
       "      <td>Male</td>\n",
       "      <td>78.095867</td>\n",
       "      <td>3.048271</td>\n",
       "    </tr>\n",
       "    <tr>\n",
       "      <th>1317</th>\n",
       "      <td>Male</td>\n",
       "      <td>78.462053</td>\n",
       "      <td>3.143445</td>\n",
       "    </tr>\n",
       "    <tr>\n",
       "      <th>2014</th>\n",
       "      <td>Male</td>\n",
       "      <td>78.998742</td>\n",
       "      <td>3.282934</td>\n",
       "    </tr>\n",
       "    <tr>\n",
       "      <th>3285</th>\n",
       "      <td>Male</td>\n",
       "      <td>78.528210</td>\n",
       "      <td>3.160640</td>\n",
       "    </tr>\n",
       "    <tr>\n",
       "      <th>3757</th>\n",
       "      <td>Male</td>\n",
       "      <td>78.621374</td>\n",
       "      <td>3.184854</td>\n",
       "    </tr>\n",
       "    <tr>\n",
       "      <th>6624</th>\n",
       "      <td>Female</td>\n",
       "      <td>54.616858</td>\n",
       "      <td>-3.054091</td>\n",
       "    </tr>\n",
       "    <tr>\n",
       "      <th>9285</th>\n",
       "      <td>Female</td>\n",
       "      <td>54.263133</td>\n",
       "      <td>-3.146027</td>\n",
       "    </tr>\n",
       "  </tbody>\n",
       "</table>\n",
       "</div>"
      ],
      "text/plain": [
       "      Gender     Height    Zscore\n",
       "994     Male  78.095867  3.048271\n",
       "1317    Male  78.462053  3.143445\n",
       "2014    Male  78.998742  3.282934\n",
       "3285    Male  78.528210  3.160640\n",
       "3757    Male  78.621374  3.184854\n",
       "6624  Female  54.616858 -3.054091\n",
       "9285  Female  54.263133 -3.146027"
      ]
     },
     "execution_count": 32,
     "metadata": {},
     "output_type": "execute_result"
    }
   ],
   "source": [
    "df[(df.Zscore < -3) | (df.Zscore > 3)]"
   ]
  },
  {
   "cell_type": "code",
   "execution_count": 33,
   "id": "fcb09039",
   "metadata": {},
   "outputs": [],
   "source": [
    "df_no_Outliers = df[(df.Zscore > -3) & (df.Zscore < 3)]"
   ]
  },
  {
   "cell_type": "code",
   "execution_count": 34,
   "id": "4d3261bd",
   "metadata": {},
   "outputs": [
    {
     "data": {
      "text/html": [
       "<div>\n",
       "<style scoped>\n",
       "    .dataframe tbody tr th:only-of-type {\n",
       "        vertical-align: middle;\n",
       "    }\n",
       "\n",
       "    .dataframe tbody tr th {\n",
       "        vertical-align: top;\n",
       "    }\n",
       "\n",
       "    .dataframe thead th {\n",
       "        text-align: right;\n",
       "    }\n",
       "</style>\n",
       "<table border=\"1\" class=\"dataframe\">\n",
       "  <thead>\n",
       "    <tr style=\"text-align: right;\">\n",
       "      <th></th>\n",
       "      <th>Gender</th>\n",
       "      <th>Height</th>\n",
       "      <th>Zscore</th>\n",
       "    </tr>\n",
       "  </thead>\n",
       "  <tbody>\n",
       "    <tr>\n",
       "      <th>0</th>\n",
       "      <td>Male</td>\n",
       "      <td>73.847017</td>\n",
       "      <td>1.943964</td>\n",
       "    </tr>\n",
       "    <tr>\n",
       "      <th>1</th>\n",
       "      <td>Male</td>\n",
       "      <td>68.781904</td>\n",
       "      <td>0.627505</td>\n",
       "    </tr>\n",
       "    <tr>\n",
       "      <th>2</th>\n",
       "      <td>Male</td>\n",
       "      <td>74.110105</td>\n",
       "      <td>2.012343</td>\n",
       "    </tr>\n",
       "    <tr>\n",
       "      <th>3</th>\n",
       "      <td>Male</td>\n",
       "      <td>71.730978</td>\n",
       "      <td>1.393991</td>\n",
       "    </tr>\n",
       "    <tr>\n",
       "      <th>4</th>\n",
       "      <td>Male</td>\n",
       "      <td>69.881796</td>\n",
       "      <td>0.913375</td>\n",
       "    </tr>\n",
       "    <tr>\n",
       "      <th>...</th>\n",
       "      <td>...</td>\n",
       "      <td>...</td>\n",
       "      <td>...</td>\n",
       "    </tr>\n",
       "    <tr>\n",
       "      <th>9995</th>\n",
       "      <td>Female</td>\n",
       "      <td>66.172652</td>\n",
       "      <td>-0.050658</td>\n",
       "    </tr>\n",
       "    <tr>\n",
       "      <th>9996</th>\n",
       "      <td>Female</td>\n",
       "      <td>67.067155</td>\n",
       "      <td>0.181830</td>\n",
       "    </tr>\n",
       "    <tr>\n",
       "      <th>9997</th>\n",
       "      <td>Female</td>\n",
       "      <td>63.867992</td>\n",
       "      <td>-0.649655</td>\n",
       "    </tr>\n",
       "    <tr>\n",
       "      <th>9998</th>\n",
       "      <td>Female</td>\n",
       "      <td>69.034243</td>\n",
       "      <td>0.693090</td>\n",
       "    </tr>\n",
       "    <tr>\n",
       "      <th>9999</th>\n",
       "      <td>Female</td>\n",
       "      <td>61.944246</td>\n",
       "      <td>-1.149651</td>\n",
       "    </tr>\n",
       "  </tbody>\n",
       "</table>\n",
       "<p>9993 rows × 3 columns</p>\n",
       "</div>"
      ],
      "text/plain": [
       "      Gender     Height    Zscore\n",
       "0       Male  73.847017  1.943964\n",
       "1       Male  68.781904  0.627505\n",
       "2       Male  74.110105  2.012343\n",
       "3       Male  71.730978  1.393991\n",
       "4       Male  69.881796  0.913375\n",
       "...      ...        ...       ...\n",
       "9995  Female  66.172652 -0.050658\n",
       "9996  Female  67.067155  0.181830\n",
       "9997  Female  63.867992 -0.649655\n",
       "9998  Female  69.034243  0.693090\n",
       "9999  Female  61.944246 -1.149651\n",
       "\n",
       "[9993 rows x 3 columns]"
      ]
     },
     "execution_count": 34,
     "metadata": {},
     "output_type": "execute_result"
    }
   ],
   "source": [
    "df_no_Outliers"
   ]
  },
  {
   "cell_type": "code",
   "execution_count": 35,
   "id": "a9bf5769",
   "metadata": {},
   "outputs": [
    {
     "data": {
      "text/plain": [
       "(9993, 3)"
      ]
     },
     "execution_count": 35,
     "metadata": {},
     "output_type": "execute_result"
    }
   ],
   "source": [
    "df_no_Outliers.shape"
   ]
  },
  {
   "cell_type": "markdown",
   "id": "722613f1",
   "metadata": {},
   "source": [
    "## Probability mass function\n",
    "Used for Discrete random variable\n",
    "it should follow\n",
    "1) Probability assigned to each value must be non negative\n",
    "2) Sum of all probabilities should be = 1\n"
   ]
  },
  {
   "cell_type": "code",
   "execution_count": 36,
   "id": "24de5b1f",
   "metadata": {},
   "outputs": [],
   "source": [
    "import pandas as pd\n",
    "import numpy as np"
   ]
  },
  {
   "cell_type": "code",
   "execution_count": 37,
   "id": "351a0e85",
   "metadata": {},
   "outputs": [],
   "source": [
    "import random"
   ]
  },
  {
   "cell_type": "code",
   "execution_count": 38,
   "id": "20924d2e",
   "metadata": {},
   "outputs": [],
   "source": [
    "L = []\n",
    "for i in range(1000):\n",
    "    L.append(random.randint(1,6))"
   ]
  },
  {
   "cell_type": "code",
   "execution_count": 39,
   "id": "834c2539",
   "metadata": {},
   "outputs": [
    {
     "data": {
      "text/plain": [
       "1000"
      ]
     },
     "execution_count": 39,
     "metadata": {},
     "output_type": "execute_result"
    }
   ],
   "source": [
    "len(L)"
   ]
  },
  {
   "cell_type": "code",
   "execution_count": 40,
   "id": "94150b4e",
   "metadata": {},
   "outputs": [
    {
     "data": {
      "text/plain": [
       "[4, 1, 1, 3, 6]"
      ]
     },
     "execution_count": 40,
     "metadata": {},
     "output_type": "execute_result"
    }
   ],
   "source": [
    "L[:5]"
   ]
  },
  {
   "cell_type": "code",
   "execution_count": 42,
   "id": "fcdd372f",
   "metadata": {},
   "outputs": [
    {
     "data": {
      "text/plain": [
       "5    0.184\n",
       "2    0.182\n",
       "4    0.162\n",
       "1    0.162\n",
       "6    0.156\n",
       "3    0.154\n",
       "Name: count, dtype: float64"
      ]
     },
     "execution_count": 42,
     "metadata": {},
     "output_type": "execute_result"
    }
   ],
   "source": [
    "pd.Series(L).value_counts()/pd.Series(L).value_counts().sum()"
   ]
  },
  {
   "cell_type": "code",
   "execution_count": 43,
   "id": "8656c239",
   "metadata": {},
   "outputs": [
    {
     "data": {
      "text/plain": [
       "5    184\n",
       "2    182\n",
       "4    162\n",
       "1    162\n",
       "6    156\n",
       "3    154\n",
       "Name: count, dtype: int64"
      ]
     },
     "execution_count": 43,
     "metadata": {},
     "output_type": "execute_result"
    }
   ],
   "source": [
    "pd.Series(L).value_counts()"
   ]
  },
  {
   "cell_type": "code",
   "execution_count": 46,
   "id": "31a1e48e",
   "metadata": {},
   "outputs": [],
   "source": [
    "s = (pd.Series(L).value_counts()/pd.Series(L).value_counts().sum()).sort_index()"
   ]
  },
  {
   "cell_type": "code",
   "execution_count": 47,
   "id": "de760849",
   "metadata": {},
   "outputs": [
    {
     "data": {
      "text/plain": [
       "1    0.162\n",
       "2    0.182\n",
       "3    0.154\n",
       "4    0.162\n",
       "5    0.184\n",
       "6    0.156\n",
       "Name: count, dtype: float64"
      ]
     },
     "execution_count": 47,
     "metadata": {},
     "output_type": "execute_result"
    }
   ],
   "source": [
    "s"
   ]
  },
  {
   "cell_type": "code",
   "execution_count": 48,
   "id": "246ba44d",
   "metadata": {
    "scrolled": false
   },
   "outputs": [
    {
     "data": {
      "text/plain": [
       "<Axes: >"
      ]
     },
     "execution_count": 48,
     "metadata": {},
     "output_type": "execute_result"
    },
    {
     "data": {
      "image/png": "[encoded data removed]",
      "text/plain": [
       "<Figure size 640x480 with 1 Axes>"
      ]
     },
     "metadata": {},
     "output_type": "display_data"
    }
   ],
   "source": [
    "s.plot(kind= 'bar')"
   ]
  },
  {
   "cell_type": "code",
   "execution_count": 77,
   "id": "75fa3e2e",
   "metadata": {},
   "outputs": [],
   "source": [
    "import pandas as pd\n",
    "import random\n",
    "\n",
    "L2 = []\n",
    "for i in range(10000):\n",
    "    a = random.randint(1,6)\n",
    "    b = random.randint(1,6)\n",
    "    \n",
    "    L2.append(a + b)"
   ]
  },
  {
   "cell_type": "code",
   "execution_count": 78,
   "id": "f6f4440a",
   "metadata": {},
   "outputs": [
    {
     "data": {
      "text/plain": [
       "[5,\n",
       " 9,\n",
       " 10,\n",
       " 8,\n",
       " 8,\n",
       " 4,\n",
       " 4,\n",
       " 3,\n",
       " 12,\n",
       " 6,\n",
       " 6,\n",
       " 11,\n",
       " 6,\n",
       " 3,\n",
       " 7,\n",
       " 10,\n",
       " 7,\n",
       " 4,\n",
       " 6,\n",
       " 3,\n",
       " 8,\n",
       " 6,\n",
       " 7,\n",
       " 7,\n",
       " 9,\n",
       " 9,\n",
       " 8,\n",
       " 9,\n",
       " 7,\n",
       " 4,\n",
       " 5,\n",
       " 7,\n",
       " 12,\n",
       " 7,\n",
       " 7,\n",
       " 12,\n",
       " 5,\n",
       " 5,\n",
       " 9,\n",
       " 11,\n",
       " 8,\n",
       " 11,\n",
       " 9,\n",
       " 9,\n",
       " 6,\n",
       " 9,\n",
       " 6,\n",
       " 8,\n",
       " 9,\n",
       " 10,\n",
       " 2,\n",
       " 6,\n",
       " 10,\n",
       " 10,\n",
       " 10,\n",
       " 4,\n",
       " 9,\n",
       " 6,\n",
       " 6,\n",
       " 8,\n",
       " 3,\n",
       " 9,\n",
       " 8,\n",
       " 7,\n",
       " 8,\n",
       " 6,\n",
       " 4,\n",
       " 11,\n",
       " 8,\n",
       " 8,\n",
       " 9,\n",
       " 9,\n",
       " 7,\n",
       " 7,\n",
       " 8,\n",
       " 4,\n",
       " 8,\n",
       " 7,\n",
       " 12,\n",
       " 3,\n",
       " 8,\n",
       " 6,\n",
       " 5,\n",
       " 4,\n",
       " 7,\n",
       " 6,\n",
       " 7,\n",
       " 8,\n",
       " 4,\n",
       " 6,\n",
       " 7,\n",
       " 5,\n",
       " 9,\n",
       " 3,\n",
       " 5,\n",
       " 7,\n",
       " 9,\n",
       " 7,\n",
       " 10,\n",
       " 7,\n",
       " 7,\n",
       " 3,\n",
       " 8,\n",
       " 8,\n",
       " 4,\n",
       " 3,\n",
       " 5,\n",
       " 10,\n",
       " 8,\n",
       " 3,\n",
       " 11,\n",
       " 9,\n",
       " 2,\n",
       " 8,\n",
       " 4,\n",
       " 11,\n",
       " 9,\n",
       " 5,\n",
       " 8,\n",
       " 6,\n",
       " 7,\n",
       " 8,\n",
       " 6,\n",
       " 10,\n",
       " 5,\n",
       " 9,\n",
       " 11,\n",
       " 3,\n",
       " 11,\n",
       " 3,\n",
       " 5,\n",
       " 7,\n",
       " 5,\n",
       " 5,\n",
       " 7,\n",
       " 8,\n",
       " 9,\n",
       " 8,\n",
       " 7,\n",
       " 8,\n",
       " 5,\n",
       " 6,\n",
       " 11,\n",
       " 8,\n",
       " 5,\n",
       " 10,\n",
       " 6,\n",
       " 7,\n",
       " 9,\n",
       " 5,\n",
       " 8,\n",
       " 6,\n",
       " 4,\n",
       " 5,\n",
       " 7,\n",
       " 9,\n",
       " 9,\n",
       " 5,\n",
       " 4,\n",
       " 12,\n",
       " 7,\n",
       " 5,\n",
       " 4,\n",
       " 9,\n",
       " 7,\n",
       " 6,\n",
       " 6,\n",
       " 7,\n",
       " 8,\n",
       " 5,\n",
       " 6,\n",
       " 11,\n",
       " 8,\n",
       " 12,\n",
       " 11,\n",
       " 4,\n",
       " 8,\n",
       " 9,\n",
       " 5,\n",
       " 4,\n",
       " 4,\n",
       " 5,\n",
       " 10,\n",
       " 10,\n",
       " 11,\n",
       " 4,\n",
       " 3,\n",
       " 8,\n",
       " 12,\n",
       " 4,\n",
       " 4,\n",
       " 3,\n",
       " 7,\n",
       " 7,\n",
       " 9,\n",
       " 5,\n",
       " 9,\n",
       " 8,\n",
       " 4,\n",
       " 9,\n",
       " 11,\n",
       " 7,\n",
       " 6,\n",
       " 10,\n",
       " 3,\n",
       " 11,\n",
       " 6,\n",
       " 7,\n",
       " 9,\n",
       " 5,\n",
       " 7,\n",
       " 9,\n",
       " 7,\n",
       " 6,\n",
       " 10,\n",
       " 9,\n",
       " 10,\n",
       " 4,\n",
       " 10,\n",
       " 10,\n",
       " 12,\n",
       " 11,\n",
       " 7,\n",
       " 9,\n",
       " 8,\n",
       " 3,\n",
       " 6,\n",
       " 8,\n",
       " 3,\n",
       " 11,\n",
       " 5,\n",
       " 5,\n",
       " 5,\n",
       " 10,\n",
       " 10,\n",
       " 7,\n",
       " 4,\n",
       " 8,\n",
       " 9,\n",
       " 6,\n",
       " 6,\n",
       " 2,\n",
       " 8,\n",
       " 3,\n",
       " 9,\n",
       " 9,\n",
       " 7,\n",
       " 2,\n",
       " 7,\n",
       " 9,\n",
       " 6,\n",
       " 11,\n",
       " 7,\n",
       " 4,\n",
       " 11,\n",
       " 6,\n",
       " 7,\n",
       " 8,\n",
       " 7,\n",
       " 8,\n",
       " 3,\n",
       " 8,\n",
       " 8,\n",
       " 5,\n",
       " 6,\n",
       " 8,\n",
       " 7,\n",
       " 6,\n",
       " 5,\n",
       " 7,\n",
       " 5,\n",
       " 6,\n",
       " 10,\n",
       " 7,\n",
       " 6,\n",
       " 6,\n",
       " 8,\n",
       " 7,\n",
       " 6,\n",
       " 7,\n",
       " 2,\n",
       " 9,\n",
       " 9,\n",
       " 9,\n",
       " 8,\n",
       " 6,\n",
       " 10,\n",
       " 12,\n",
       " 11,\n",
       " 3,\n",
       " 5,\n",
       " 10,\n",
       " 7,\n",
       " 7,\n",
       " 9,\n",
       " 3,\n",
       " 8,\n",
       " 4,\n",
       " 6,\n",
       " 10,\n",
       " 9,\n",
       " 12,\n",
       " 5,\n",
       " 8,\n",
       " 6,\n",
       " 9,\n",
       " 7,\n",
       " 7,\n",
       " 6,\n",
       " 10,\n",
       " 7,\n",
       " 7,\n",
       " 8,\n",
       " 5,\n",
       " 5,\n",
       " 12,\n",
       " 6,\n",
       " 8,\n",
       " 7,\n",
       " 4,\n",
       " 7,\n",
       " 6,\n",
       " 9,\n",
       " 5,\n",
       " 7,\n",
       " 12,\n",
       " 3,\n",
       " 5,\n",
       " 6,\n",
       " 5,\n",
       " 6,\n",
       " 6,\n",
       " 11,\n",
       " 11,\n",
       " 7,\n",
       " 11,\n",
       " 5,\n",
       " 5,\n",
       " 4,\n",
       " 6,\n",
       " 9,\n",
       " 4,\n",
       " 8,\n",
       " 4,\n",
       " 6,\n",
       " 7,\n",
       " 6,\n",
       " 10,\n",
       " 8,\n",
       " 7,\n",
       " 8,\n",
       " 8,\n",
       " 6,\n",
       " 9,\n",
       " 6,\n",
       " 5,\n",
       " 11,\n",
       " 4,\n",
       " 10,\n",
       " 4,\n",
       " 7,\n",
       " 12,\n",
       " 7,\n",
       " 4,\n",
       " 7,\n",
       " 4,\n",
       " 10,\n",
       " 7,\n",
       " 11,\n",
       " 5,\n",
       " 9,\n",
       " 6,\n",
       " 6,\n",
       " 9,\n",
       " 5,\n",
       " 6,\n",
       " 9,\n",
       " 12,\n",
       " 5,\n",
       " 7,\n",
       " 7,\n",
       " 7,\n",
       " 6,\n",
       " 10,\n",
       " 6,\n",
       " 4,\n",
       " 11,\n",
       " 7,\n",
       " 6,\n",
       " 5,\n",
       " 11,\n",
       " 7,\n",
       " 6,\n",
       " 11,\n",
       " 11,\n",
       " 8,\n",
       " 8,\n",
       " 8,\n",
       " 6,\n",
       " 8,\n",
       " 6,\n",
       " 9,\n",
       " 8,\n",
       " 8,\n",
       " 10,\n",
       " 8,\n",
       " 6,\n",
       " 9,\n",
       " 10,\n",
       " 8,\n",
       " 10,\n",
       " 5,\n",
       " 11,\n",
       " 10,\n",
       " 3,\n",
       " 7,\n",
       " 7,\n",
       " 9,\n",
       " 5,\n",
       " 8,\n",
       " 8,\n",
       " 3,\n",
       " 5,\n",
       " 6,\n",
       " 9,\n",
       " 8,\n",
       " 8,\n",
       " 7,\n",
       " 8,\n",
       " 4,\n",
       " 4,\n",
       " 7,\n",
       " 4,\n",
       " 4,\n",
       " 10,\n",
       " 5,\n",
       " 5,\n",
       " 12,\n",
       " 7,\n",
       " 5,\n",
       " 3,\n",
       " 6,\n",
       " 8,\n",
       " 9,\n",
       " 8,\n",
       " 9,\n",
       " 7,\n",
       " 7,\n",
       " 11,\n",
       " 7,\n",
       " 7,\n",
       " 7,\n",
       " 8,\n",
       " 2,\n",
       " 8,\n",
       " 3,\n",
       " 5,\n",
       " 9,\n",
       " 4,\n",
       " 8,\n",
       " 3,\n",
       " 5,\n",
       " 11,\n",
       " 8,\n",
       " 11,\n",
       " 9,\n",
       " 6,\n",
       " 9,\n",
       " 6,\n",
       " 4,\n",
       " 11,\n",
       " 6,\n",
       " 3,\n",
       " 9,\n",
       " 8,\n",
       " 9,\n",
       " 5,\n",
       " 12,\n",
       " 6,\n",
       " 8,\n",
       " 4,\n",
       " 6,\n",
       " 4,\n",
       " 6,\n",
       " 9,\n",
       " 7,\n",
       " 7,\n",
       " 3,\n",
       " 5,\n",
       " 9,\n",
       " 8,\n",
       " 5,\n",
       " 10,\n",
       " 4,\n",
       " 11,\n",
       " 3,\n",
       " 6,\n",
       " 5,\n",
       " 6,\n",
       " 10,\n",
       " 6,\n",
       " 8,\n",
       " 9,\n",
       " 7,\n",
       " 11,\n",
       " 10,\n",
       " 6,\n",
       " 8,\n",
       " 10,\n",
       " 8,\n",
       " 8,\n",
       " 5,\n",
       " 8,\n",
       " 6,\n",
       " 5,\n",
       " 8,\n",
       " 10,\n",
       " 11,\n",
       " 6,\n",
       " 3,\n",
       " 6,\n",
       " 12,\n",
       " 6,\n",
       " 7,\n",
       " 8,\n",
       " 7,\n",
       " 7,\n",
       " 7,\n",
       " 7,\n",
       " 10,\n",
       " 7,\n",
       " 4,\n",
       " 7,\n",
       " 4,\n",
       " 7,\n",
       " 4,\n",
       " 8,\n",
       " 7,\n",
       " 2,\n",
       " 9,\n",
       " 5,\n",
       " 2,\n",
       " 9,\n",
       " 4,\n",
       " 5,\n",
       " 4,\n",
       " 6,\n",
       " 9,\n",
       " 3,\n",
       " 11,\n",
       " 8,\n",
       " 10,\n",
       " 6,\n",
       " 5,\n",
       " 9,\n",
       " 4,\n",
       " 3,\n",
       " 6,\n",
       " 4,\n",
       " 6,\n",
       " 6,\n",
       " 6,\n",
       " 5,\n",
       " 8,\n",
       " 9,\n",
       " 11,\n",
       " 2,\n",
       " 6,\n",
       " 4,\n",
       " 4,\n",
       " 7,\n",
       " 5,\n",
       " 8,\n",
       " 5,\n",
       " 5,\n",
       " 10,\n",
       " 9,\n",
       " 5,\n",
       " 4,\n",
       " 7,\n",
       " 7,\n",
       " 5,\n",
       " 6,\n",
       " 11,\n",
       " 9,\n",
       " 6,\n",
       " 11,\n",
       " 11,\n",
       " 3,\n",
       " 7,\n",
       " 9,\n",
       " 7,\n",
       " 7,\n",
       " 7,\n",
       " 11,\n",
       " 7,\n",
       " 8,\n",
       " 7,\n",
       " 9,\n",
       " 11,\n",
       " 8,\n",
       " 3,\n",
       " 5,\n",
       " 3,\n",
       " 10,\n",
       " 4,\n",
       " 8,\n",
       " 5,\n",
       " 6,\n",
       " 12,\n",
       " 7,\n",
       " 6,\n",
       " 11,\n",
       " 8,\n",
       " 5,\n",
       " 8,\n",
       " 10,\n",
       " 6,\n",
       " 9,\n",
       " 5,\n",
       " 8,\n",
       " 11,\n",
       " 9,\n",
       " 6,\n",
       " 6,\n",
       " 6,\n",
       " 6,\n",
       " 6,\n",
       " 9,\n",
       " 5,\n",
       " 4,\n",
       " 8,\n",
       " 7,\n",
       " 9,\n",
       " 4,\n",
       " 7,\n",
       " 10,\n",
       " 6,\n",
       " 3,\n",
       " 7,\n",
       " 6,\n",
       " 8,\n",
       " 8,\n",
       " 8,\n",
       " 3,\n",
       " 8,\n",
       " 8,\n",
       " 6,\n",
       " 4,\n",
       " 8,\n",
       " 9,\n",
       " 5,\n",
       " 2,\n",
       " 11,\n",
       " 4,\n",
       " 7,\n",
       " 7,\n",
       " 12,\n",
       " 8,\n",
       " 6,\n",
       " 11,\n",
       " 6,\n",
       " 5,\n",
       " 7,\n",
       " 4,\n",
       " 4,\n",
       " 7,\n",
       " 8,\n",
       " 5,\n",
       " 4,\n",
       " 4,\n",
       " 9,\n",
       " 5,\n",
       " 11,\n",
       " 7,\n",
       " 10,\n",
       " 5,\n",
       " 11,\n",
       " 10,\n",
       " 9,\n",
       " 9,\n",
       " 11,\n",
       " 9,\n",
       " 10,\n",
       " 6,\n",
       " 4,\n",
       " 6,\n",
       " 9,\n",
       " 5,\n",
       " 3,\n",
       " 3,\n",
       " 9,\n",
       " 3,\n",
       " 11,\n",
       " 5,\n",
       " 7,\n",
       " 9,\n",
       " 5,\n",
       " 9,\n",
       " 6,\n",
       " 9,\n",
       " 4,\n",
       " 10,\n",
       " 6,\n",
       " 7,\n",
       " 10,\n",
       " 10,\n",
       " 5,\n",
       " 8,\n",
       " 3,\n",
       " 3,\n",
       " 4,\n",
       " 6,\n",
       " 7,\n",
       " 8,\n",
       " 6,\n",
       " 8,\n",
       " 7,\n",
       " 11,\n",
       " 9,\n",
       " 2,\n",
       " 10,\n",
       " 8,\n",
       " 8,\n",
       " 7,\n",
       " 9,\n",
       " 7,\n",
       " 9,\n",
       " 6,\n",
       " 3,\n",
       " 5,\n",
       " 5,\n",
       " 10,\n",
       " 6,\n",
       " 7,\n",
       " 6,\n",
       " 4,\n",
       " 7,\n",
       " 7,\n",
       " 8,\n",
       " 10,\n",
       " 8,\n",
       " 3,\n",
       " 7,\n",
       " 5,\n",
       " 8,\n",
       " 8,\n",
       " 11,\n",
       " 9,\n",
       " 12,\n",
       " 6,\n",
       " 4,\n",
       " 4,\n",
       " 5,\n",
       " 8,\n",
       " 8,\n",
       " 4,\n",
       " 8,\n",
       " 10,\n",
       " 7,\n",
       " 12,\n",
       " 11,\n",
       " 9,\n",
       " 7,\n",
       " 7,\n",
       " 7,\n",
       " 11,\n",
       " 5,\n",
       " 9,\n",
       " 8,\n",
       " 2,\n",
       " 11,\n",
       " 5,\n",
       " 9,\n",
       " 8,\n",
       " 8,\n",
       " 8,\n",
       " 7,\n",
       " 7,\n",
       " 7,\n",
       " 10,\n",
       " 9,\n",
       " 9,\n",
       " 8,\n",
       " 7,\n",
       " 12,\n",
       " 7,\n",
       " 4,\n",
       " 8,\n",
       " 7,\n",
       " 5,\n",
       " 5,\n",
       " 3,\n",
       " 6,\n",
       " 11,\n",
       " 3,\n",
       " 9,\n",
       " 5,\n",
       " 9,\n",
       " 6,\n",
       " 5,\n",
       " 7,\n",
       " 7,\n",
       " 6,\n",
       " 12,\n",
       " 10,\n",
       " 8,\n",
       " 9,\n",
       " 9,\n",
       " 8,\n",
       " 5,\n",
       " 9,\n",
       " 10,\n",
       " 9,\n",
       " 6,\n",
       " 5,\n",
       " 7,\n",
       " 7,\n",
       " 8,\n",
       " 6,\n",
       " 5,\n",
       " 8,\n",
       " 7,\n",
       " 8,\n",
       " 11,\n",
       " 8,\n",
       " 7,\n",
       " 7,\n",
       " 7,\n",
       " 5,\n",
       " 12,\n",
       " 3,\n",
       " 9,\n",
       " 4,\n",
       " 2,\n",
       " 6,\n",
       " 8,\n",
       " 8,\n",
       " 11,\n",
       " 6,\n",
       " 4,\n",
       " 5,\n",
       " 3,\n",
       " 5,\n",
       " 4,\n",
       " 10,\n",
       " 8,\n",
       " 11,\n",
       " 7,\n",
       " 7,\n",
       " 6,\n",
       " 7,\n",
       " 3,\n",
       " 10,\n",
       " 9,\n",
       " 5,\n",
       " 5,\n",
       " 7,\n",
       " 6,\n",
       " 6,\n",
       " 5,\n",
       " 7,\n",
       " 8,\n",
       " 4,\n",
       " 8,\n",
       " 12,\n",
       " 6,\n",
       " 9,\n",
       " 4,\n",
       " 3,\n",
       " 5,\n",
       " 11,\n",
       " 4,\n",
       " 9,\n",
       " 5,\n",
       " 5,\n",
       " 9,\n",
       " 8,\n",
       " 6,\n",
       " 8,\n",
       " 4,\n",
       " 5,\n",
       " 7,\n",
       " 7,\n",
       " 7,\n",
       " 4,\n",
       " 2,\n",
       " 5,\n",
       " 7,\n",
       " 7,\n",
       " 8,\n",
       " 9,\n",
       " 10,\n",
       " 7,\n",
       " 4,\n",
       " 7,\n",
       " 4,\n",
       " 5,\n",
       " 6,\n",
       " 11,\n",
       " 11,\n",
       " 7,\n",
       " 10,\n",
       " 10,\n",
       " 2,\n",
       " 6,\n",
       " 8,\n",
       " 7,\n",
       " 9,\n",
       " 8,\n",
       " 6,\n",
       " 10,\n",
       " 9,\n",
       " 9,\n",
       " 5,\n",
       " 7,\n",
       " 6,\n",
       " 6,\n",
       " 10,\n",
       " 11,\n",
       " 5,\n",
       " 8,\n",
       " 4,\n",
       " 7,\n",
       " 10,\n",
       " 10,\n",
       " 9,\n",
       " 7,\n",
       " 8,\n",
       " 8,\n",
       " 4,\n",
       " 4,\n",
       " 4,\n",
       " 8,\n",
       " 9,\n",
       " 9,\n",
       " 9,\n",
       " 5,\n",
       " 7,\n",
       " 6,\n",
       " 7,\n",
       " 7,\n",
       " 7,\n",
       " 4,\n",
       " 7,\n",
       " 4,\n",
       " 7,\n",
       " 12,\n",
       " 8,\n",
       " 6,\n",
       " 11,\n",
       " 9,\n",
       " 4,\n",
       " 4,\n",
       " 7,\n",
       " 10,\n",
       " 7,\n",
       " 9,\n",
       " 5,\n",
       " 3,\n",
       " 7,\n",
       " 4,\n",
       " 8,\n",
       " 7,\n",
       " 4,\n",
       " 4,\n",
       " 5,\n",
       " 9,\n",
       " 7,\n",
       " 6,\n",
       " 7,\n",
       " 3,\n",
       " 9,\n",
       " 9,\n",
       " 6,\n",
       " 7,\n",
       " 4,\n",
       " 5,\n",
       " 9,\n",
       " 4,\n",
       " 11,\n",
       " 10,\n",
       " 5,\n",
       " 9,\n",
       " 4,\n",
       " 6,\n",
       " 6,\n",
       " 5,\n",
       " 10,\n",
       " 8,\n",
       " 4,\n",
       " 7,\n",
       " 10,\n",
       " 11,\n",
       " 4,\n",
       " 5,\n",
       " 6,\n",
       " 8,\n",
       " 8,\n",
       " 9,\n",
       " ...]"
      ]
     },
     "execution_count": 78,
     "metadata": {},
     "output_type": "execute_result"
    }
   ],
   "source": [
    "L2"
   ]
  },
  {
   "cell_type": "code",
   "execution_count": 79,
   "id": "63d092fb",
   "metadata": {},
   "outputs": [
    {
     "data": {
      "text/plain": [
       "10000"
      ]
     },
     "execution_count": 79,
     "metadata": {},
     "output_type": "execute_result"
    }
   ],
   "source": [
    "len(L2)"
   ]
  },
  {
   "cell_type": "code",
   "execution_count": 80,
   "id": "9c5618c4",
   "metadata": {},
   "outputs": [
    {
     "data": {
      "text/plain": [
       "[5, 9, 10, 8, 8]"
      ]
     },
     "execution_count": 80,
     "metadata": {},
     "output_type": "execute_result"
    }
   ],
   "source": [
    "L2[:5]"
   ]
  },
  {
   "cell_type": "code",
   "execution_count": 81,
   "id": "ced83136",
   "metadata": {},
   "outputs": [
    {
     "data": {
      "text/plain": [
       "7     1585\n",
       "8     1402\n",
       "6     1362\n",
       "5     1139\n",
       "9     1138\n",
       "10     868\n",
       "4      865\n",
       "3      560\n",
       "11     550\n",
       "12     280\n",
       "2      251\n",
       "Name: count, dtype: int64"
      ]
     },
     "execution_count": 81,
     "metadata": {},
     "output_type": "execute_result"
    }
   ],
   "source": [
    "pd.Series(L2).value_counts()"
   ]
  },
  {
   "cell_type": "code",
   "execution_count": 84,
   "id": "cea2473c",
   "metadata": {},
   "outputs": [
    {
     "data": {
      "text/plain": [
       "7     0.1585\n",
       "8     0.1402\n",
       "6     0.1362\n",
       "5     0.1139\n",
       "9     0.1138\n",
       "10    0.0868\n",
       "4     0.0865\n",
       "3     0.0560\n",
       "11    0.0550\n",
       "12    0.0280\n",
       "2     0.0251\n",
       "Name: count, dtype: float64"
      ]
     },
     "execution_count": 84,
     "metadata": {},
     "output_type": "execute_result"
    }
   ],
   "source": [
    "pd.Series(L2).value_counts()/pd.Series(L2).value_counts().sum()"
   ]
  },
  {
   "cell_type": "code",
   "execution_count": 89,
   "id": "34337295",
   "metadata": {},
   "outputs": [
    {
     "data": {
      "text/plain": [
       "2     0.0251\n",
       "3     0.0560\n",
       "4     0.0865\n",
       "5     0.1139\n",
       "6     0.1362\n",
       "7     0.1585\n",
       "8     0.1402\n",
       "9     0.1138\n",
       "10    0.0868\n",
       "11    0.0550\n",
       "12    0.0280\n",
       "Name: count, dtype: float64"
      ]
     },
     "execution_count": 89,
     "metadata": {},
     "output_type": "execute_result"
    }
   ],
   "source": [
    "s = (pd.Series(L2).value_counts()/pd.Series(L2).value_counts().sum()).sort_index()\n",
    "s"
   ]
  },
  {
   "cell_type": "code",
   "execution_count": 90,
   "id": "54c57137",
   "metadata": {},
   "outputs": [
    {
     "data": {
      "text/plain": [
       "<Axes: >"
      ]
     },
     "execution_count": 90,
     "metadata": {},
     "output_type": "execute_result"
    },
    {
     "data": {
      "image/png": "[encoded data removed]",
      "text/plain": [
       "<Figure size 640x480 with 1 Axes>"
      ]
     },
     "metadata": {},
     "output_type": "display_data"
    }
   ],
   "source": [
    "s.plot(kind = 'box')"
   ]
  },
  {
   "cell_type": "code",
   "execution_count": 91,
   "id": "894bf6d7",
   "metadata": {},
   "outputs": [
    {
     "data": {
      "text/plain": [
       "<Axes: >"
      ]
     },
     "execution_count": 91,
     "metadata": {},
     "output_type": "execute_result"
    },
    {
     "data": {
      "image/png": "[encoded data removed]",
      "text/plain": [
       "<Figure size 640x480 with 1 Axes>"
      ]
     },
     "metadata": {},
     "output_type": "display_data"
    }
   ],
   "source": [
    "s.plot(kind = 'bar')"
   ]
  },
  {
   "cell_type": "code",
   "execution_count": 92,
   "id": "0d3e3519",
   "metadata": {},
   "outputs": [
    {
     "data": {
      "text/plain": [
       "<Axes: ylabel='Frequency'>"
      ]
     },
     "execution_count": 92,
     "metadata": {},
     "output_type": "execute_result"
    },
    {
     "data": {
      "image/png": "[encoded data removed]",
      "text/plain": [
       "<Figure size 640x480 with 1 Axes>"
      ]
     },
     "metadata": {},
     "output_type": "display_data"
    }
   ],
   "source": [
    "s.plot(kind = 'hist')"
   ]
  },
  {
   "cell_type": "code",
   "execution_count": 93,
   "id": "ecbbcc9d",
   "metadata": {},
   "outputs": [],
   "source": [
    "import numpy as np"
   ]
  },
  {
   "cell_type": "markdown",
   "id": "a205c3f4",
   "metadata": {},
   "source": [
    "# CDF\n",
    "The cdf describes the probability that a random variable X with given \n",
    "probability distribution will be found at a value less than  or equal to x\n"
   ]
  },
  {
   "cell_type": "code",
   "execution_count": 95,
   "id": "0074c8ec",
   "metadata": {},
   "outputs": [
    {
     "data": {
      "text/plain": [
       "2     0.0251\n",
       "3     0.0811\n",
       "4     0.1676\n",
       "5     0.2815\n",
       "6     0.4177\n",
       "7     0.5762\n",
       "8     0.7164\n",
       "9     0.8302\n",
       "10    0.9170\n",
       "11    0.9720\n",
       "12    1.0000\n",
       "Name: count, dtype: float64"
      ]
     },
     "execution_count": 95,
     "metadata": {},
     "output_type": "execute_result"
    }
   ],
   "source": [
    "np.cumsum(s)"
   ]
  },
  {
   "cell_type": "code",
   "execution_count": 97,
   "id": "dfc98f83",
   "metadata": {},
   "outputs": [
    {
     "data": {
      "text/plain": [
       "<Axes: >"
      ]
     },
     "execution_count": 97,
     "metadata": {},
     "output_type": "execute_result"
    },
    {
     "data": {
      "image/png": "[encoded data removed]",
      "text/plain": [
       "<Figure size 640x480 with 1 Axes>"
      ]
     },
     "metadata": {},
     "output_type": "display_data"
    }
   ],
   "source": [
    "np.cumsum(s).plot(kind = 'bar')"
   ]
  },
  {
   "cell_type": "code",
   "execution_count": 98,
   "id": "32eb32af",
   "metadata": {},
   "outputs": [
    {
     "data": {
      "text/plain": [
       "<Axes: >"
      ]
     },
     "execution_count": 98,
     "metadata": {},
     "output_type": "execute_result"
    },
    {
     "data": {
      "image/png": "[encoded data removed]",
      "text/plain": [
       "<Figure size 640x480 with 1 Axes>"
      ]
     },
     "metadata": {},
     "output_type": "display_data"
    }
   ],
   "source": [
    "np.cumsum(s).plot(kind = 'box')"
   ]
  },
  {
   "cell_type": "markdown",
   "id": "8030bbc7",
   "metadata": {},
   "source": [
    "## Parametric Density Estimation\n"
   ]
  },
  {
   "cell_type": "code",
   "execution_count": 101,
   "id": "e54e038f",
   "metadata": {},
   "outputs": [
    {
     "data": {
      "text/plain": [
       "array([50.07251148, 53.91441302, 50.3306724 , 55.88372158, 50.43627996,\n",
       "       42.91732436, 56.02055219, 57.6923787 , 45.57641908, 53.38058481,\n",
       "       60.18057548, 48.1834752 , 47.7911669 , 51.00856395, 49.05236369,\n",
       "       48.91677901, 51.87295117, 55.04066236, 49.49375267, 42.8066775 ,\n",
       "       55.87093425, 55.28184576, 51.40881118, 49.13068001, 52.95791538,\n",
       "       56.65428039, 51.05676242, 43.14683484, 57.66652666, 55.31673018,\n",
       "       45.48711244, 49.45907354, 43.44801501, 41.24604943, 44.66176254,\n",
       "       42.27334924, 56.1094357 , 53.99906684, 50.57165725, 50.70914897,\n",
       "       51.35392743, 47.89405971, 49.35918511, 53.84959023, 42.95124263,\n",
       "       51.45915894, 48.26611715, 53.28447519, 48.31133304, 56.24303879,\n",
       "       43.2140036 , 51.76975567, 45.53674532, 46.15140075, 55.681524  ,\n",
       "       48.98343868, 48.3925252 , 48.03494949, 49.47361198, 51.07436589,\n",
       "       47.48774522, 50.51116101, 55.74956973, 49.10656658, 48.89579946,\n",
       "       47.19654358, 36.24829773, 53.89865843, 44.40309432, 55.38508874,\n",
       "       45.01639346, 53.63536407, 50.15351964, 45.88896361, 47.88484618,\n",
       "       39.58687699, 57.0439698 , 49.21813556, 43.34043076, 57.16643359,\n",
       "       54.13619687, 50.4044499 , 44.48020534, 48.3737027 , 51.19747775,\n",
       "       55.6724794 , 52.92654758, 50.58143795, 54.57754594, 40.64943138,\n",
       "       46.80301111, 57.69720962, 55.47958785, 52.28147663, 51.35637141,\n",
       "       45.98347052, 54.94689517, 53.07009373, 56.56908993, 50.97237636,\n",
       "       51.70249999, 45.79836254, 42.22711212, 47.09826679, 47.60362939,\n",
       "       46.12116363, 51.38084788, 58.84488645, 45.77281611, 50.67800566,\n",
       "       52.46098977, 44.71154229, 56.5038885 , 53.71346513, 44.6159555 ,\n",
       "       52.23372241, 46.26260902, 53.86465159, 50.20545416, 44.21560293,\n",
       "       52.56956539, 41.98693951, 47.43141196, 44.53738878, 55.23446113,\n",
       "       47.75510484, 51.29291968, 49.19381016, 50.484887  , 54.75480044,\n",
       "       51.13385902, 55.49679505, 48.67884098, 51.62505909, 48.6239014 ,\n",
       "       52.801429  , 60.57350501, 53.37732424, 50.59787424, 51.64718111,\n",
       "       60.49304307, 51.33150744, 51.53668016, 43.90895312, 48.51633617,\n",
       "       52.26950796, 43.22409839, 46.57328291, 46.81709636, 41.0505415 ,\n",
       "       50.07389114, 50.78787317, 46.47760988, 55.42534361, 50.02012823,\n",
       "       52.15840214, 43.45280373, 46.12305418, 47.55800636, 52.08715903,\n",
       "       52.36003492, 48.88019901, 45.48803171, 42.22971105, 51.98598249,\n",
       "       51.66615462, 43.70554687, 46.21971494, 47.05291822, 56.83860826,\n",
       "       45.15091145, 48.08904672, 49.18653021, 55.79466832, 52.27487864,\n",
       "       39.06771418, 44.47889664, 45.91938537, 47.68870203, 48.22526438,\n",
       "       43.11372438, 47.88453961, 48.3776968 , 49.54514052, 57.82377762,\n",
       "       52.98328313, 49.6948985 , 48.54299989, 49.22965253, 53.52400874,\n",
       "       54.90778854, 47.31427263, 48.60662847, 47.87702445, 50.11299099,\n",
       "       55.70499281, 48.32267028, 44.99512123, 46.39736722, 55.10981822,\n",
       "       48.34354831, 50.01867491, 57.34426553, 53.89824977, 54.36052449,\n",
       "       58.28479536, 56.13691993, 47.37009115, 51.30240778, 46.73895586,\n",
       "       42.41781523, 49.81060207, 57.71782092, 53.59553912, 45.36769844,\n",
       "       47.24963682, 49.2203694 , 48.86792265, 51.38983115, 48.23741363,\n",
       "       46.11175123, 49.91044249, 51.59972032, 50.461234  , 51.43487039,\n",
       "       54.8919759 , 58.37013441, 47.17173769, 47.58829251, 44.0258208 ,\n",
       "       50.71250146, 47.6158212 , 41.24602468, 53.10028659, 45.62994079,\n",
       "       45.34890814, 40.69965829, 52.61389762, 48.03748909, 49.41062749,\n",
       "       54.58220536, 54.14954834, 60.3151991 , 50.63076315, 50.5321752 ,\n",
       "       48.90252863, 57.54622528, 61.91902371, 59.8766278 , 48.14712778,\n",
       "       45.66740424, 43.99569685, 52.57711137, 49.9212403 , 56.33125248,\n",
       "       47.39916346, 50.33069776, 49.62991167, 44.827613  , 57.31286847,\n",
       "       48.70359672, 53.77080672, 48.99437148, 40.64412632, 53.08937003,\n",
       "       49.41893136, 47.56374623, 47.92773698, 51.47528578, 49.50112487,\n",
       "       47.43034821, 45.19566813, 51.00624114, 52.23083628, 37.34536388,\n",
       "       41.93991535, 57.59340267, 51.72320158, 52.06526135, 58.71382019,\n",
       "       55.08864338, 52.06090125, 55.25936239, 46.13550712, 52.77022234,\n",
       "       48.2069386 , 51.80763332, 45.4963849 , 49.62196674, 48.3750139 ,\n",
       "       42.01862269, 55.37253628, 52.48475326, 46.62819028, 45.02885514,\n",
       "       51.35195505, 47.04936718, 45.16426331, 58.71886395, 45.48508312,\n",
       "       46.0581755 , 46.62983622, 49.64725637, 49.36516341, 53.6876189 ,\n",
       "       48.88417434, 42.62427571, 55.83139357, 41.1072072 , 53.11970309,\n",
       "       56.84178255, 53.6488659 , 56.20936573, 54.56312742, 49.88039946,\n",
       "       57.6695469 , 42.38019404, 46.88529517, 45.93011567, 48.15349352,\n",
       "       52.4381326 , 46.94619046, 56.47340598, 53.01068936, 55.81066785,\n",
       "       47.85742325, 36.42250627, 45.53059552, 51.06532228, 53.34717292,\n",
       "       52.51563669, 58.61861902, 52.53638282, 48.01297759, 56.45990222,\n",
       "       51.9571278 , 52.29400915, 52.44955285, 50.25323154, 51.34218005,\n",
       "       56.42573192, 56.69793503, 52.87861099, 49.88742996, 53.85625687,\n",
       "       54.60326381, 47.31421738, 52.35441179, 54.70810469, 47.65373424,\n",
       "       53.74651458, 54.97020988, 46.31839045, 52.45534325, 54.16157734,\n",
       "       47.33058976, 51.19366054, 51.25817069, 53.54607389, 51.95844041,\n",
       "       55.00248338, 51.41801264, 46.46904007, 46.14021919, 46.60138163,\n",
       "       41.41225334, 56.91708874, 50.66671819, 57.68187404, 51.54673969,\n",
       "       50.42478235, 47.94437925, 43.20889471, 49.87748722, 48.63638204,\n",
       "       45.0498911 , 53.4233383 , 48.2673146 , 42.92179964, 51.32366894,\n",
       "       52.11812763, 56.31162474, 46.36304333, 51.42969969, 49.77166091,\n",
       "       42.6571984 , 58.88036813, 55.9337032 , 50.05063458, 49.02761209,\n",
       "       43.30754228, 51.08476288, 45.83291074, 41.00678517, 57.47372984,\n",
       "       53.60039392, 49.49790607, 51.64156151, 57.7252061 , 48.27904464,\n",
       "       51.39957672, 51.86734607, 48.63022638, 61.02244722, 49.84336473,\n",
       "       47.73254612, 57.26265717, 53.99512151, 43.74959617, 49.52530318,\n",
       "       53.25601818, 47.62094448, 46.1756249 , 53.62836284, 42.44382135,\n",
       "       51.21776504, 53.83630872, 59.49545427, 53.98828257, 46.85991415,\n",
       "       49.66635264, 45.27280647, 45.35638273, 56.95981015, 51.76612637,\n",
       "       55.91205838, 49.14686184, 43.98573433, 46.91374893, 54.55078842,\n",
       "       51.15297803, 36.78053926, 52.65659683, 54.38612224, 62.0421864 ,\n",
       "       53.90319899, 52.19926668, 54.80162567, 50.03042276, 58.90907572,\n",
       "       46.89638882, 57.31168311, 58.94080294, 52.67499421, 48.54345173,\n",
       "       60.31222719, 53.5704176 , 47.49902399, 54.79374743, 46.25237051,\n",
       "       52.29912742, 51.74470256, 55.4744031 , 47.78254312, 56.5317024 ,\n",
       "       46.23135889, 46.07093552, 50.54031768, 49.01531772, 37.6404651 ,\n",
       "       55.79862923, 49.38822891, 49.22585748, 50.90792357, 54.37680548,\n",
       "       50.59430189, 50.35236375, 41.74621854, 53.32543398, 39.8652269 ,\n",
       "       50.80812327, 52.72308421, 48.63698112, 46.72798939, 57.43601465,\n",
       "       45.10715991, 55.44371114, 48.80172213, 49.69199757, 47.3139423 ,\n",
       "       45.51286982, 56.9110182 , 49.74690643, 50.57103881, 43.21464808,\n",
       "       47.85904423, 48.06529042, 43.34735091, 57.42154846, 50.54888874,\n",
       "       46.48515279, 38.95553382, 53.81497387, 44.41267984, 46.26708069,\n",
       "       42.24776881, 49.94242318, 51.87800487, 45.40898643, 47.35694621,\n",
       "       51.87300077, 46.50637094, 64.21302144, 42.66094699, 47.71216321,\n",
       "       44.22667952, 44.52701959, 49.00473473, 52.59398197, 41.959424  ,\n",
       "       55.56068099, 44.87958974, 48.66815529, 56.12853698, 50.0871369 ,\n",
       "       45.35803174, 47.41801659, 55.14851644, 40.46399524, 54.3650941 ,\n",
       "       43.15686133, 46.99302059, 40.45729965, 47.96427498, 51.62828951,\n",
       "       56.45161726, 54.99566734, 51.38430603, 53.09210174, 45.54706469,\n",
       "       53.7882772 , 52.55502667, 48.26863549, 50.13165609, 50.56174317,\n",
       "       49.99519841, 48.92657122, 43.72608946, 55.98539624, 41.59747841,\n",
       "       55.46872859, 51.37517595, 48.66426229, 48.83805008, 55.55969159,\n",
       "       51.09164442, 56.83731986, 42.90162833, 50.86828909, 48.15132071,\n",
       "       54.18185657, 37.50833072, 47.12321926, 48.41803167, 47.84280146,\n",
       "       57.25734212, 47.65226235, 56.21129575, 56.65596675, 48.73752229,\n",
       "       50.87920084, 42.84685375, 53.52761906, 54.38380004, 52.3426313 ,\n",
       "       47.71007082, 52.94590241, 42.30884428, 42.91304613, 50.60865348,\n",
       "       51.25735438, 44.11990301, 51.76685   , 45.99346937, 37.69003098,\n",
       "       47.52355209, 45.36522468, 54.05639848, 43.81945508, 49.03561371,\n",
       "       53.4058897 , 41.90505833, 61.93154253, 55.51174254, 46.90218175,\n",
       "       48.6761062 , 37.65505634, 49.77402273, 47.52944555, 61.31726101,\n",
       "       52.89953973, 55.42495608, 56.05468486, 52.22345538, 46.42265938,\n",
       "       45.50392016, 46.19211861, 41.4932036 , 51.02086522, 53.00247083,\n",
       "       33.53612607, 53.03479038, 53.04212007, 55.86032051, 52.97906505,\n",
       "       54.51863955, 52.67980739, 48.68450667, 47.55543499, 57.96191482,\n",
       "       47.27699194, 53.40120509, 47.799175  , 48.96963122, 57.3053965 ,\n",
       "       45.07923207, 41.1637907 , 56.080877  , 50.15726368, 54.02992655,\n",
       "       46.39293494, 54.81383353, 54.12951828, 52.21491861, 52.487437  ,\n",
       "       60.37694186, 46.97921493, 51.69453054, 51.88707942, 50.27306028,\n",
       "       50.9584159 , 45.63274004, 42.90093699, 53.58540243, 54.6221555 ,\n",
       "       51.31732907, 49.03979256, 48.42423615, 37.73307212, 41.74659891,\n",
       "       47.16724048, 59.89070915, 52.67867446, 51.94167563, 49.1452261 ,\n",
       "       50.61596818, 57.95381357, 54.37180216, 51.62795244, 58.82998463,\n",
       "       50.86094302, 57.59796798, 43.73318766, 54.65711278, 45.51975844,\n",
       "       50.33006347, 45.44582306, 46.16424427, 47.85236343, 48.31423054,\n",
       "       50.57395976, 52.26331039, 54.84280952, 49.83341773, 50.01276225,\n",
       "       53.56237256, 52.08954762, 50.78702486, 58.19740036, 50.48619628,\n",
       "       54.14814137, 50.81900107, 51.98907828, 43.94135057, 39.83711148,\n",
       "       42.46898779, 48.57464341, 48.96911718, 60.79842987, 45.97515535,\n",
       "       45.12810184, 40.21070948, 52.38774935, 54.13735948, 49.9956386 ,\n",
       "       51.71905847, 59.50808662, 55.56524031, 41.99583069, 48.95111749,\n",
       "       52.42845172, 50.5433221 , 43.94626517, 51.76774233, 56.08546694,\n",
       "       44.27648145, 53.58902129, 47.60011092, 51.71676587, 50.84662485,\n",
       "       44.04547472, 48.35228753, 42.95842448, 53.77294266, 46.89729011,\n",
       "       47.7571286 , 51.78226589, 45.86853961, 56.44726652, 36.97230046,\n",
       "       47.86741831, 50.90731542, 49.2307217 , 48.65316654, 49.4558704 ,\n",
       "       45.01892997, 45.07904313, 45.34123235, 52.2491914 , 53.23367742,\n",
       "       45.74579518, 59.5763587 , 49.73528617, 47.20611017, 45.27677387,\n",
       "       41.55463949, 60.76193866, 48.01877456, 42.53619719, 50.29689695,\n",
       "       43.98667753, 43.81900573, 51.7753923 , 63.08462627, 51.84906837,\n",
       "       49.71195796, 43.20290565, 46.1919778 , 54.75654295, 52.42274581,\n",
       "       50.06385903, 53.45930504, 42.32189691, 57.85864171, 54.49977373,\n",
       "       49.96732171, 55.96952747, 50.85262049, 53.12354876, 47.82628001,\n",
       "       52.81756765, 54.59623183, 48.17128603, 57.99178085, 52.30559677,\n",
       "       48.77752382, 50.51958495, 40.85683438, 45.72215577, 48.80444663,\n",
       "       48.05425121, 53.5658014 , 46.47329143, 47.16628146, 56.3066426 ,\n",
       "       53.38546288, 49.41184532, 53.34579483, 52.17992981, 50.22078789,\n",
       "       53.64545054, 55.58335121, 51.7161122 , 51.89184868, 51.98909549,\n",
       "       46.024476  , 44.1976046 , 49.02971231, 42.6710059 , 47.01674255,\n",
       "       47.83153217, 51.20119274, 40.11276079, 49.81567432, 62.59672438,\n",
       "       53.9834471 , 49.20531437, 53.85041479, 57.20933699, 48.63259266,\n",
       "       41.53748745, 50.04775471, 55.07546669, 57.07570143, 42.23687389,\n",
       "       51.04235373, 53.43211599, 50.60115539, 56.35729073, 56.48407357,\n",
       "       48.56468046, 52.17910242, 51.49019929, 37.94725601, 53.90132022,\n",
       "       53.89193025, 55.0399032 , 53.95838721, 50.39150918, 52.6727688 ,\n",
       "       44.4638064 , 50.38734793, 50.74195506, 54.80421142, 45.54547174,\n",
       "       48.15951339, 45.74550629, 54.93086083, 49.33887838, 53.92251063,\n",
       "       51.92088894, 50.85554542, 53.11732347, 52.7252849 , 39.57907172,\n",
       "       43.6621858 , 51.20021319, 48.05617961, 51.11297297, 45.3784503 ,\n",
       "       55.49164383, 48.60376936, 52.67965347, 49.37346373, 50.2215186 ,\n",
       "       44.77725932, 56.05162342, 46.8963964 , 60.21189531, 57.46747077,\n",
       "       46.03340813, 48.88999396, 54.23460832, 48.1156787 , 57.69816842,\n",
       "       50.935204  , 44.53011191, 49.90513379, 50.67513132, 53.4304896 ,\n",
       "       47.59601601, 53.21842576, 49.69848468, 44.69088821, 48.75050364,\n",
       "       52.62920878, 50.36707596, 47.26133881, 55.2787255 , 52.62888773,\n",
       "       44.80016927, 45.27101157, 46.19562237, 42.39558762, 49.04608344,\n",
       "       36.85987636, 47.81719259, 57.3391539 , 54.60416427, 55.45988236,\n",
       "       52.50261408, 49.34555494, 46.22247855, 53.23035925, 45.94018855,\n",
       "       53.28030107, 55.07154927, 45.27579842, 54.97774356, 49.60854255,\n",
       "       51.57326018, 54.74831554, 51.92228457, 53.37176378, 44.02390229,\n",
       "       48.28574625, 40.45348914, 52.06909186, 51.05331682, 54.37719579,\n",
       "       45.9924426 , 53.99055993, 56.89569054, 43.8039909 , 47.84649228,\n",
       "       50.68425364, 55.86691937, 46.31069086, 47.38778358, 44.685777  ,\n",
       "       53.63162569, 49.869369  , 41.47754114, 52.07390716, 53.21603757,\n",
       "       53.52681148, 51.06549735, 43.04198066, 44.07614731, 48.11092017,\n",
       "       55.62812461, 51.71231952, 53.20765507, 48.56682879, 54.72268263,\n",
       "       63.29030692, 50.14371811, 57.36956086, 45.40137988, 54.77803493,\n",
       "       60.13066962, 46.31049331, 48.65225832, 58.20441034, 56.27498324,\n",
       "       53.81373028, 46.59839582, 39.94126608, 52.61324192, 50.80685792,\n",
       "       46.8819907 , 48.96421895, 52.96749583, 60.78889906, 54.85904716,\n",
       "       51.47358312, 49.99157263, 53.02260471, 46.26886259, 54.75202835,\n",
       "       53.58063386, 48.84939505, 54.80818232, 48.88496143, 38.08026066,\n",
       "       53.3800564 , 52.05723743, 49.56695311, 57.62022282, 43.70277109,\n",
       "       48.80816358, 54.69120559, 48.76521609, 42.08017042, 53.15159465,\n",
       "       51.16262522, 53.99164502, 59.19267552, 41.17178999, 52.78715533,\n",
       "       50.72276872, 49.98723584, 50.24675309, 45.17582115, 49.96304004,\n",
       "       56.03210498, 50.83236284, 47.03508689, 52.27148434, 46.29012522,\n",
       "       52.94152411, 46.28399262, 49.93876241, 46.38965591, 46.08939307,\n",
       "       48.83446221, 42.0055657 , 46.69935089, 43.06746092, 57.1384321 ,\n",
       "       52.03781881, 57.54645686, 42.39655232, 41.91284597, 49.96152632,\n",
       "       47.63970191, 49.65682878, 53.89934426, 43.69293959, 38.87601585,\n",
       "       56.80624316, 44.80195346, 48.24735705, 52.80405695, 58.86781138,\n",
       "       48.51474799, 54.57797266, 56.83900986, 48.3815639 , 55.4878143 ])"
      ]
     },
     "execution_count": 101,
     "metadata": {},
     "output_type": "execute_result"
    }
   ],
   "source": [
    "import matplotlib.pyplot as plt\n",
    "import numpy as np\n",
    "from numpy.random import normal\n",
    "\n",
    "sample = normal(loc=50, scale=5,size=1000)\n",
    "sample"
   ]
  },
  {
   "cell_type": "code",
   "execution_count": 102,
   "id": "4674eb32",
   "metadata": {},
   "outputs": [
    {
     "data": {
      "text/plain": [
       "50.12969861526888"
      ]
     },
     "execution_count": 102,
     "metadata": {},
     "output_type": "execute_result"
    }
   ],
   "source": [
    "sample.mean()"
   ]
  },
  {
   "cell_type": "code",
   "execution_count": 103,
   "id": "d2010035",
   "metadata": {},
   "outputs": [
    {
     "data": {
      "text/plain": [
       "4.874014127617864"
      ]
     },
     "execution_count": 103,
     "metadata": {},
     "output_type": "execute_result"
    }
   ],
   "source": [
    "sample.std()"
   ]
  },
  {
   "cell_type": "code",
   "execution_count": 107,
   "id": "560bbf69",
   "metadata": {},
   "outputs": [
    {
     "data": {
      "text/plain": [
       "(array([  3.,  16.,  54., 114., 205., 242., 208., 119.,  31.,   8.]),\n",
       " array([33.53612607, 36.6038156 , 39.67150514, 42.73919468, 45.80688422,\n",
       "        48.87457375, 51.94226329, 55.00995283, 58.07764237, 61.1453319 ,\n",
       "        64.21302144]),\n",
       " <BarContainer object of 10 artists>)"
      ]
     },
     "execution_count": 107,
     "metadata": {},
     "output_type": "execute_result"
    },
    {
     "data": {
      "image/png": "[encoded data removed]",
      "text/plain": [
       "<Figure size 640x480 with 1 Axes>"
      ]
     },
     "metadata": {},
     "output_type": "display_data"
    }
   ],
   "source": [
    "# plot histogram to understand the distribution of data\n",
    "plt.hist(sample,bins=10,)"
   ]
  },
  {
   "cell_type": "code",
   "execution_count": 108,
   "id": "e83fe3fc",
   "metadata": {},
   "outputs": [],
   "source": [
    "# calculate sample mean and sample std dev\n",
    "sample_mean = sample.mean()\n",
    "sample_std = sample.std()"
   ]
  },
  {
   "cell_type": "code",
   "execution_count": 116,
   "id": "a58b4434",
   "metadata": {},
   "outputs": [],
   "source": [
    "# fit the distribution with the above parameters\n",
    "\n",
    "from scipy.stats import norm\n",
    "dist = norm(50, 12)"
   ]
  },
  {
   "cell_type": "code",
   "execution_count": 117,
   "id": "7ad970ee",
   "metadata": {},
   "outputs": [],
   "source": [
    "values = np.linspace(sample.min(),sample.max(),100)"
   ]
  },
  {
   "cell_type": "code",
   "execution_count": 118,
   "id": "9c6beff9",
   "metadata": {},
   "outputs": [
    {
     "data": {
      "text/plain": [
       "64.21302144138949"
      ]
     },
     "execution_count": 118,
     "metadata": {},
     "output_type": "execute_result"
    }
   ],
   "source": [
    "sample.max()"
   ]
  },
  {
   "cell_type": "code",
   "execution_count": 119,
   "id": "386c661e",
   "metadata": {},
   "outputs": [],
   "source": [
    "probabilities = [dist.pdf(value) for value in values]"
   ]
  },
  {
   "cell_type": "code",
   "execution_count": 120,
   "id": "f107190d",
   "metadata": {},
   "outputs": [
    {
     "data": {
      "text/plain": [
       "[<matplotlib.lines.Line2D at 0x1dd7b148390>]"
      ]
     },
     "execution_count": 120,
     "metadata": {},
     "output_type": "execute_result"
    },
    {
     "data": {
      "image/png": "[encoded data removed]",
      "text/plain": [
       "<Figure size 640x480 with 1 Axes>"
      ]
     },
     "metadata": {},
     "output_type": "display_data"
    }
   ],
   "source": [
    "# plot the histogram and pdf\n",
    "plt.hist(sample,bins=10,density=True)\n",
    "plt.plot(values,probabilities)"
   ]
  },
  {
   "cell_type": "code",
   "execution_count": 114,
   "id": "6580fed0",
   "metadata": {},
   "outputs": [
    {
     "name": "stderr",
     "output_type": "stream",
     "text": [
      "C:\\Users\\priya\\AppData\\Local\\Temp\\ipykernel_1072\\1482356190.py:2: UserWarning: \n",
      "\n",
      "`distplot` is a deprecated function and will be removed in seaborn v0.14.0.\n",
      "\n",
      "Please adapt your code to use either `displot` (a figure-level function with\n",
      "similar flexibility) or `histplot` (an axes-level function for histograms).\n",
      "\n",
      "For a guide to updating your code to use the new functions, please see\n",
      "https://gist.github.com/mwaskom/de44147ed2974457ad6372750bbe5751\n",
      "\n",
      "  sns.distplot(sample)\n"
     ]
    },
    {
     "data": {
      "text/plain": [
       "<Axes: ylabel='Density'>"
      ]
     },
     "execution_count": 114,
     "metadata": {},
     "output_type": "execute_result"
    },
    {
     "data": {
      "image/png": "[encoded data removed]",
      "text/plain": [
       "<Figure size 640x480 with 1 Axes>"
      ]
     },
     "metadata": {},
     "output_type": "display_data"
    }
   ],
   "source": [
    "import seaborn as sns\n",
    "sns.distplot(sample)"
   ]
  },
  {
   "cell_type": "markdown",
   "id": "fa53dca8",
   "metadata": {},
   "source": [
    "## KDE "
   ]
  },
  {
   "cell_type": "code",
   "execution_count": 121,
   "id": "1a0b33f0",
   "metadata": {},
   "outputs": [],
   "source": [
    "# generate a sample\n",
    "sample1 = normal(loc=20, scale=5, size=300)\n",
    "sample2 = normal(loc=40, scale=5, size=700)\n",
    "sample = np.hstack((sample1, sample2))"
   ]
  },
  {
   "cell_type": "code",
   "execution_count": 122,
   "id": "cb63f5b1",
   "metadata": {},
   "outputs": [
    {
     "data": {
      "text/plain": [
       "array([24.11089116, 20.65887498, 23.52586741, 23.72660381, 11.592884  ,\n",
       "       24.43702633, 17.98893838, 21.62457747, 22.39702126, 16.70522319,\n",
       "       18.01184927, 17.86379666, 22.55105513, 20.21901269, 16.91055471,\n",
       "       23.6786215 , 21.26140368, 23.62567747, 26.07635544, 20.14831749,\n",
       "       24.57138179, 11.65621384, 26.30552631, 17.17309749, 14.78592113,\n",
       "       25.3414414 , 24.11353807, 14.10979072, 26.50979937, 22.81776245,\n",
       "       13.12256743, 12.40964692, 20.42176526, 17.80073572, 19.97149667,\n",
       "       14.78414502, 22.79302344, 12.266626  , 17.39112052, 17.92958534,\n",
       "       14.73939581, 22.62821301, 12.00700329, 12.9637638 , 13.89066725,\n",
       "       19.85993287, 23.35367979, 22.55100827, 17.71030155, 19.75661535,\n",
       "       12.4030825 , 12.80132198, 10.59581172, 15.73816962, 17.63828954,\n",
       "       18.64889461, 25.64647809,  6.96206792, 20.53664361, 15.65326378,\n",
       "       21.90065956, 19.65829922, 20.96214363, 24.71628198, 18.26276542,\n",
       "       14.30866406, 25.48176551, 10.96801622, 19.84098225, 12.90503356,\n",
       "       25.9758887 , 11.44020399, 29.9905471 , 23.66278994, 11.7244816 ,\n",
       "       23.40585087, 24.90955525, 18.14904057, 21.00780633, 24.40429241,\n",
       "       16.99442573, 18.99078727, 19.68523241, 27.68047968, 24.09543249,\n",
       "       29.25699695, 29.15516589, 29.51611768, 24.95633703, 20.09207837,\n",
       "       19.36469063, 17.68599656, 18.1666537 , 25.71302699, 19.01872641,\n",
       "       27.42854987, 19.75960455, 23.50299633, 13.50338099, 23.52380041,\n",
       "       15.32543777, 24.99508944, 28.87757951, 21.9966878 , 19.86021246,\n",
       "       24.7185424 , 18.37889148, 28.24128414, 21.64330684, 19.67225156,\n",
       "       25.26087032, 12.87579172, 19.66979077, 18.68814634, 19.07786106,\n",
       "       18.6507756 , 15.40353528, 25.7982868 , 13.35155674, 22.71428211,\n",
       "       21.7587899 , 12.03229088, 19.41923151, 14.91922739, 16.16077977,\n",
       "       19.93536466, 18.16712511, 26.8368301 , 26.20905449, 16.31437556,\n",
       "       16.03057153, 18.01227383, 22.32858481, 14.30500815, 19.91262962,\n",
       "       25.87319106, 15.45191124, 19.20830285, 19.91043802, 13.12377001,\n",
       "       24.63921822, 20.72085507, 20.04154087, 16.75168549, 14.07839629,\n",
       "       18.03665344, 15.62686748, 17.92559885, 22.40199174, 20.00838586,\n",
       "       22.45755925, 19.37585045, 16.44790836, 19.85264901, 28.52079992,\n",
       "       19.53540902, 17.86765416, 15.17282808, 26.746552  , 26.90534496,\n",
       "       22.21165907, 13.02507242, 18.64488634, 17.97559676, 25.95509708,\n",
       "       21.39679137, 31.36912666, 13.32353139, 26.70401172, 30.46850077,\n",
       "       17.71840604, 17.73373894, 13.70479791,  9.84407467, 17.95047483,\n",
       "       18.68228396, 21.22275586, 15.64138988, 24.59652078, 16.38609469,\n",
       "       22.30965698, 24.13969993, 26.55699042, 14.47271631, 24.6858345 ,\n",
       "       20.5807845 , 27.70812428, 28.14651558, 29.81894883, 20.18484444,\n",
       "       26.18873717, 18.01824904, 16.73821382, 17.1336235 , 13.85908694,\n",
       "       21.59218971, 24.23065331, 31.23593425, 23.6792042 , 13.70270884,\n",
       "       26.53730161, 17.54423633, 24.86741808, 19.23565073, 23.28608375,\n",
       "       22.39274383, 23.55826537, 16.54741973, 18.4444532 , 15.43816317,\n",
       "       16.09074665, 25.6247356 , 21.13435813, 16.63037102, 19.75483006,\n",
       "       21.66892498, 14.69102785, 24.95026585, 17.88607296, 25.993811  ,\n",
       "       20.7688988 , 17.87809535, 18.2670516 , 26.29044508,  9.72773212,\n",
       "       18.60515212, 17.20283419, 13.28713634, 24.06759045, 16.45384974,\n",
       "       23.338702  , 18.48373007, 13.47082071, 27.65548767, 12.68338059,\n",
       "       21.98496226, 15.17781046, 15.82600414, 14.09915696, 18.49504093,\n",
       "       30.0567137 , 30.10146008, 31.18360646, 13.76268966,  8.43289807,\n",
       "        5.35127672, 24.35279084, 24.01816158, 19.62202137, 16.18722636,\n",
       "       19.89107269, 14.9892979 , 15.24380769, 18.11555099, 16.06702664,\n",
       "       26.53055304, 22.62646093, 20.57635359, 22.20895855, 16.78154511,\n",
       "       22.6888054 , 17.83276233, 24.54381194, 29.38817541, 10.2082606 ,\n",
       "       23.06487047, 16.91992203, 22.90770527, 17.93970474, 19.29322931,\n",
       "       14.30334569, 19.75578793, 17.39059979, 34.54089677, 20.01035505,\n",
       "       17.92853392, 20.82844018, 14.73605034, 25.1212169 , 17.28078475,\n",
       "       17.3380571 , 19.68915011, 26.04139265, 22.03255093, 26.57657974,\n",
       "       28.9424323 , 24.4494258 , 24.64916363, 14.80364686, 13.75000898,\n",
       "       20.27104538, 17.01119723, 23.5368648 , 16.38319973, 10.08997676,\n",
       "       16.71292119, 23.69029225, 19.59644028, 17.97078077, 14.83597794,\n",
       "       35.01541825, 33.21934294, 41.06587144, 34.2162684 , 44.62699567,\n",
       "       43.09014941, 41.19647932, 37.26108839, 42.9817787 , 36.09739614,\n",
       "       36.08233326, 38.9011919 , 39.75910411, 31.76161032, 38.36001616,\n",
       "       32.92323615, 36.69264418, 42.42619322, 41.55916948, 43.59023543,\n",
       "       37.75816622, 34.81782573, 31.8626216 , 41.99756422, 37.40073131,\n",
       "       40.69524448, 47.1555137 , 40.05055258, 39.37939765, 31.83741347,\n",
       "       41.31676572, 40.383651  , 40.96428328, 43.91407617, 47.06491164,\n",
       "       35.30777445, 40.61173945, 40.09571726, 38.72185676, 36.56911739,\n",
       "       43.28140596, 40.87028331, 41.48992871, 47.79877432, 36.64889995,\n",
       "       35.45916806, 37.49382984, 38.53830768, 43.63952706, 42.85275632,\n",
       "       35.72798659, 40.47544589, 40.17831572, 43.25821064, 44.58392594,\n",
       "       39.566208  , 34.71712076, 35.12811536, 42.82292299, 42.62676226,\n",
       "       50.16200373, 45.08596027, 43.8380699 , 49.27714353, 37.28098046,\n",
       "       45.28485143, 42.81117118, 40.35652807, 44.81883677, 42.44692708,\n",
       "       34.7208085 , 45.17531908, 50.19741027, 36.14290938, 35.25881915,\n",
       "       37.62564817, 42.67986099, 34.48858156, 35.32853671, 37.82442443,\n",
       "       36.2107757 , 42.47113198, 39.42139304, 43.33694757, 37.78491729,\n",
       "       40.96849489, 29.7756804 , 33.81055369, 41.36247738, 42.83098197,\n",
       "       33.55206994, 34.75641495, 36.07667705, 32.96561946, 45.47705384,\n",
       "       45.22957862, 42.50713515, 34.06030358, 41.28809663, 36.53387728,\n",
       "       33.93530846, 40.89257171, 35.85539834, 37.78202781, 37.20474752,\n",
       "       46.63735085, 39.00706456, 39.15520725, 37.92496591, 45.52318693,\n",
       "       34.45684038, 41.97638638, 45.41070345, 39.57017117, 37.13565399,\n",
       "       46.42249333, 39.8732422 , 35.06144306, 41.59108255, 30.85862228,\n",
       "       37.21575091, 39.85007802, 37.79519602, 39.95963692, 37.56601477,\n",
       "       40.12605399, 37.43101484, 44.43221698, 39.9000909 , 39.09409683,\n",
       "       38.80344635, 42.43121165, 44.48960875, 43.47848956, 44.55873548,\n",
       "       42.62661028, 31.79649282, 34.90944541, 36.16279736, 41.32260588,\n",
       "       30.18033843, 41.50008154, 31.9326887 , 43.8341227 , 45.732818  ,\n",
       "       38.40203657, 42.97822432, 46.70385902, 33.88824003, 37.46797184,\n",
       "       39.34296285, 36.97347588, 37.78206292, 41.12428613, 39.15889621,\n",
       "       33.00603138, 43.4280274 , 40.49354271, 46.17634866, 42.09785358,\n",
       "       40.33319321, 36.74826394, 36.85027837, 43.14382422, 37.61504181,\n",
       "       43.07003581, 50.86620369, 46.55106999, 38.95535724, 44.10705052,\n",
       "       48.54241857, 34.27184481, 42.76149461, 35.72133521, 42.86465815,\n",
       "       33.62566034, 37.56035053, 36.80233537, 42.15599486, 38.72311855,\n",
       "       35.44427122, 38.4964466 , 33.69341831, 40.64026359, 40.18961504,\n",
       "       46.55824227, 41.06056991, 50.51501225, 42.84659135, 45.03276424,\n",
       "       32.53420112, 28.43370566, 38.83798053, 31.76925376, 36.31821513,\n",
       "       32.53762424, 53.58755007, 28.23356575, 40.05103738, 41.89027684,\n",
       "       34.00376549, 38.57725906, 44.83255596, 41.11084954, 38.16528627,\n",
       "       40.95843386, 43.75086949, 38.72179989, 39.09329178, 34.89177268,\n",
       "       37.94964689, 32.86669413, 40.50489892, 43.00005524, 44.63308612,\n",
       "       37.0901386 , 42.31308301, 32.72201565, 36.4114173 , 40.39951449,\n",
       "       36.68111015, 36.62137414, 46.74651691, 39.77111636, 33.11501174,\n",
       "       37.60627466, 45.2306943 , 38.86237314, 34.63797681, 41.92716195,\n",
       "       31.31249624, 45.25954188, 45.71867699, 35.41291593, 40.98267248,\n",
       "       37.39453095, 41.47086648, 48.24222957, 39.56388118, 43.70141758,\n",
       "       38.34706714, 32.25948897, 38.85653042, 34.62848157, 38.45012548,\n",
       "       42.38321671, 28.80618166, 41.92680816, 25.95490984, 38.37086596,\n",
       "       34.34811822, 35.83492124, 48.05789031, 45.41485991, 43.04596695,\n",
       "       47.82789643, 43.05012293, 55.05575867, 39.24156513, 45.69511114,\n",
       "       46.65252019, 50.11122123, 48.00015518, 35.27795533, 43.05790537,\n",
       "       39.34638266, 41.56617419, 34.37448814, 40.63435239, 42.7809047 ,\n",
       "       33.75744789, 46.84603623, 31.10502408, 35.61742754, 39.87883666,\n",
       "       38.10684117, 45.23912575, 36.86232237, 41.85135774, 27.23991808,\n",
       "       48.79108037, 31.34023051, 33.69944582, 41.39894331, 38.41811778,\n",
       "       48.53499569, 40.94873665, 27.77255987, 41.3835127 , 39.5095874 ,\n",
       "       35.0731114 , 41.07316375, 44.06508297, 39.8029194 , 45.24151485,\n",
       "       37.21665088, 44.72032159, 35.16733391, 40.96587905, 42.36972002,\n",
       "       41.82660349, 45.44064636, 41.69427756, 38.0829527 , 42.8688133 ,\n",
       "       35.48236934, 34.18571564, 50.54748188, 48.76950756, 35.98155548,\n",
       "       38.598076  , 43.00634494, 35.51430767, 40.59726275, 43.62301131,\n",
       "       40.60346634, 45.47564489, 39.67393719, 39.85258014, 38.67696418,\n",
       "       40.39412157, 44.5778505 , 39.70099456, 43.42023593, 44.83303861,\n",
       "       40.73155495, 39.2837696 , 47.70259581, 40.92331516, 39.05256028,\n",
       "       37.49169792, 37.63892289, 47.49477107, 28.75554028, 43.34864419,\n",
       "       30.51295788, 41.97717872, 41.09158002, 34.82912953, 41.39960858,\n",
       "       28.30696719, 44.02690868, 42.29147909, 35.44534816, 38.62184503,\n",
       "       39.9578879 , 39.67835648, 47.94441816, 47.75957186, 42.07725733,\n",
       "       37.20870635, 34.89439238, 45.88104941, 43.12991801, 34.88929642,\n",
       "       34.91908794, 47.35677552, 50.81432794, 33.87914239, 46.82127977,\n",
       "       42.28075678, 43.09635773, 43.24957184, 42.27231496, 37.44130205,\n",
       "       41.6094268 , 47.54652467, 38.06248925, 39.35630978, 39.51840081,\n",
       "       41.00547164, 34.59259572, 40.22393288, 34.49595304, 43.12094279,\n",
       "       42.38237532, 38.50362095, 42.16326751, 34.49865988, 47.99500495,\n",
       "       37.60511089, 42.03874171, 37.9993832 , 38.08469144, 46.68087073,\n",
       "       35.64562989, 30.86551302, 48.55326443, 44.84011789, 39.02717203,\n",
       "       42.7405666 , 41.62140549, 35.56956274, 47.40105532, 41.10465027,\n",
       "       38.92554998, 38.59697015, 44.38693105, 40.14224072, 36.63069064,\n",
       "       46.12383964, 30.40055455, 45.10954507, 42.36976074, 36.24111334,\n",
       "       41.08052318, 43.43463686, 54.09087964, 42.51498521, 40.41195785,\n",
       "       45.3750698 , 47.54080065, 39.01058644, 31.29202266, 42.58198941,\n",
       "       39.51323786, 45.55667692, 28.45840344, 40.26650442, 38.34033143,\n",
       "       43.76940345, 45.56885448, 35.91828839, 49.49682347, 35.13405148,\n",
       "       39.6517899 , 33.68963572, 38.95447332, 38.18575944, 38.34919996,\n",
       "       41.71148982, 32.65597205, 40.30167612, 40.02636968, 37.32494531,\n",
       "       36.60257022, 31.18883903, 44.83661862, 43.4105205 , 46.51988949,\n",
       "       33.5679952 , 34.79683159, 38.21079267, 36.19692732, 35.87712744,\n",
       "       37.54355447, 32.44053718, 42.19525865, 39.79436015, 44.36807557,\n",
       "       38.08313153, 46.38394547, 47.197219  , 39.35083095, 40.65494886,\n",
       "       48.60087844, 39.12191088, 44.05548312, 54.11116129, 46.46043003,\n",
       "       44.22607072, 46.77025777, 38.26865712, 42.4353052 , 38.79758005,\n",
       "       35.91373886, 36.12031851, 43.845242  , 42.40392787, 38.14394949,\n",
       "       39.96729529, 40.87916245, 40.14761999, 50.83214316, 39.90451207,\n",
       "       40.20024929, 41.99307179, 36.62944956, 37.33765412, 36.17447626,\n",
       "       37.14507634, 36.6371249 , 39.26421405, 33.70108574, 44.56193511,\n",
       "       31.86684733, 44.11340199, 45.40263079, 32.24723315, 41.16923756,\n",
       "       44.05898206, 39.67815714, 35.8872844 , 31.47597518, 41.68805608,\n",
       "       43.79348883, 36.74027658, 39.46275248, 39.5911192 , 35.59727809,\n",
       "       36.23003057, 42.8424652 , 43.05062532, 36.62967224, 41.00186063,\n",
       "       40.75323926, 47.21588383, 43.22482131, 37.60073719, 41.28187213,\n",
       "       38.05084115, 35.92622985, 35.71206098, 39.38357741, 46.83710211,\n",
       "       35.06392876, 36.70946444, 42.24751407, 45.66346229, 43.72753797,\n",
       "       47.00319076, 45.18110461, 49.35380268, 40.04088205, 42.35285046,\n",
       "       41.87931674, 41.70422176, 41.67706839, 44.49422938, 47.25811266,\n",
       "       46.71368033, 36.2765934 , 46.2794576 , 40.6995999 , 39.69666133,\n",
       "       37.47883349, 48.32250813, 40.19141444, 39.31935792, 42.00058679,\n",
       "       40.32361185, 33.41041721, 30.69766213, 39.39916414, 46.82318913,\n",
       "       46.71405082, 42.00674098, 42.51796817, 43.88838519, 43.10102749,\n",
       "       41.72024965, 35.80737872, 28.76997185, 43.9680106 , 41.21706983,\n",
       "       35.59538026, 39.8187888 , 34.35903952, 36.75930706, 37.56148047,\n",
       "       42.9045424 , 41.76633717, 43.15722789, 38.22318656, 35.1376509 ,\n",
       "       51.39072149, 44.24564853, 46.95227901, 37.8538267 , 45.5705175 ,\n",
       "       36.09603492, 37.65268435, 48.39821495, 46.95026528, 42.43214074,\n",
       "       38.2183533 , 41.14796698, 44.74971241, 39.95694466, 37.47429131,\n",
       "       38.96954356, 45.95734243, 36.08090267, 40.97405313, 40.27056716,\n",
       "       43.12823077, 34.85161985, 41.57374463, 40.6149508 , 37.28383541,\n",
       "       38.99212287, 48.85366082, 37.94141437, 39.33284573, 33.35083214,\n",
       "       38.56977502, 39.17510992, 47.01332565, 34.87599716, 42.83603375,\n",
       "       42.43083264, 34.17997659, 37.89069459, 34.72693865, 42.59174066,\n",
       "       48.6706996 , 41.42289362, 35.58121416, 42.64181779, 39.04066306,\n",
       "       35.78888169, 35.47111782, 43.80847566, 35.90202301, 31.67827968,\n",
       "       41.91031397, 39.89421232, 44.52200425, 45.98672237, 38.03162797,\n",
       "       43.77102663, 44.63811376, 33.73125662, 42.3756156 , 52.02279408,\n",
       "       41.21587946, 41.24225193, 39.24145425, 35.65636173, 41.16003554,\n",
       "       41.52090874, 39.80567012, 38.92098366, 45.56938318, 39.5586337 ,\n",
       "       36.82472691, 42.01770228, 38.50686052, 43.21139952, 31.57181327,\n",
       "       30.76523278, 43.15745412, 38.99111722, 36.03468901, 37.21781216,\n",
       "       46.58457251, 47.03290891, 27.33192393, 36.70904778, 43.00224722,\n",
       "       48.52831923, 47.75968964, 49.45128914, 38.69950392, 45.72067688,\n",
       "       35.96051634, 37.72578281, 39.54020074, 42.8584259 , 30.95530615,\n",
       "       43.36742555, 36.32512481, 37.01299811, 47.20843347, 36.86276373,\n",
       "       39.49091054, 41.19494655, 36.7578004 , 29.87591777, 41.7460882 ,\n",
       "       39.94054105, 37.71950254, 38.9376788 , 42.44280775, 39.61088396,\n",
       "       35.91193149, 51.76579677, 47.2608688 , 39.49289516, 47.30189702,\n",
       "       48.31399247, 41.7178209 , 32.50913942, 34.50442363, 39.02243578,\n",
       "       34.67518609, 38.8939321 , 42.38040296, 25.31380407, 44.39590206,\n",
       "       38.10613186, 39.51073436, 34.72717952, 39.13744537, 42.21345678,\n",
       "       35.83527571, 36.87080438, 42.00939093, 33.63483652, 36.62214476])"
      ]
     },
     "execution_count": 122,
     "metadata": {},
     "output_type": "execute_result"
    }
   ],
   "source": [
    "sample"
   ]
  },
  {
   "cell_type": "code",
   "execution_count": 123,
   "id": "0303bf22",
   "metadata": {},
   "outputs": [
    {
     "data": {
      "text/plain": [
       "(array([ 1.,  1.,  0.,  1.,  4.,  2.,  7., 11., 13., 16., 14., 19., 34.,\n",
       "        15., 32., 13., 13., 16., 22., 18., 17., 11.,  8., 12., 10., 11.,\n",
       "        15., 13., 19., 40., 44., 38., 53., 53., 62., 51., 54., 62., 40.,\n",
       "        26., 28., 28., 21., 13.,  4.,  8.,  3.,  0.,  1.,  3.]),\n",
       " array([ 5.35127672,  6.34536636,  7.339456  ,  8.33354564,  9.32763528,\n",
       "        10.32172492, 11.31581456, 12.30990419, 13.30399383, 14.29808347,\n",
       "        15.29217311, 16.28626275, 17.28035239, 18.27444203, 19.26853167,\n",
       "        20.26262131, 21.25671095, 22.25080058, 23.24489022, 24.23897986,\n",
       "        25.2330695 , 26.22715914, 27.22124878, 28.21533842, 29.20942806,\n",
       "        30.2035177 , 31.19760734, 32.19169698, 33.18578661, 34.17987625,\n",
       "        35.17396589, 36.16805553, 37.16214517, 38.15623481, 39.15032445,\n",
       "        40.14441409, 41.13850373, 42.13259337, 43.12668301, 44.12077264,\n",
       "        45.11486228, 46.10895192, 47.10304156, 48.0971312 , 49.09122084,\n",
       "        50.08531048, 51.07940012, 52.07348976, 53.0675794 , 54.06166903,\n",
       "        55.05575867]),\n",
       " <BarContainer object of 50 artists>)"
      ]
     },
     "execution_count": 123,
     "metadata": {},
     "output_type": "execute_result"
    },
    {
     "data": {
      "image/png": "[encoded data removed]",
      "text/plain": [
       "<Figure size 640x480 with 1 Axes>"
      ]
     },
     "metadata": {},
     "output_type": "display_data"
    }
   ],
   "source": [
    "# plot histogram bins=50\n",
    "plt.hist(sample,bins=50)"
   ]
  },
  {
   "cell_type": "code",
   "execution_count": 1,
   "id": "83138109",
   "metadata": {},
   "outputs": [
    {
     "ename": "NameError",
     "evalue": "name 'sample' is not defined",
     "output_type": "error",
     "traceback": [
      "\u001b[1;31m---------------------------------------------------------------------------\u001b[0m",
      "\u001b[1;31mNameError\u001b[0m                                 Traceback (most recent call last)",
      "Cell \u001b[1;32mIn[1], line 6\u001b[0m\n\u001b[0;32m      3\u001b[0m model \u001b[38;5;241m=\u001b[39m KernelDensity(bandwidth\u001b[38;5;241m=\u001b[39m\u001b[38;5;241m5\u001b[39m, kernel\u001b[38;5;241m=\u001b[39m\u001b[38;5;124m'\u001b[39m\u001b[38;5;124mgaussian\u001b[39m\u001b[38;5;124m'\u001b[39m)\n\u001b[0;32m      5\u001b[0m \u001b[38;5;66;03m# convert data to a 2D array\u001b[39;00m\n\u001b[1;32m----> 6\u001b[0m sample \u001b[38;5;241m=\u001b[39m sample\u001b[38;5;241m.\u001b[39mreshape((\u001b[38;5;28mlen\u001b[39m(sample), \u001b[38;5;241m1\u001b[39m))\n\u001b[0;32m      8\u001b[0m model\u001b[38;5;241m.\u001b[39mfit(sample)\n",
      "\u001b[1;31mNameError\u001b[0m: name 'sample' is not defined"
     ]
    }
   ],
   "source": [
    "from sklearn.neighbors import KernelDensity\n",
    "\n",
    "model = KernelDensity(bandwidth=5, kernel='gaussian')\n",
    "\n",
    "# convert data to a 2D array\n",
    "sample = sample.reshape((len(sample), 1))\n",
    "\n",
    "model.fit(sample)"
   ]
  },
  {
   "cell_type": "code",
   "execution_count": 125,
   "id": "04b17a12",
   "metadata": {},
   "outputs": [],
   "source": [
    "values = np.linspace(sample.min(),sample.max(),100)\n",
    "values = values.reshape((len(values), 1))"
   ]
  },
  {
   "cell_type": "code",
   "execution_count": 126,
   "id": "fe582ea0",
   "metadata": {},
   "outputs": [],
   "source": [
    "probabilities = model.score_samples(values)\n",
    "probabilities = np.exp(probabilities)"
   ]
  },
  {
   "cell_type": "code",
   "execution_count": 127,
   "id": "f5024868",
   "metadata": {},
   "outputs": [
    {
     "data": {
      "image/png": "[encoded data removed]",
      "text/plain": [
       "<Figure size 640x480 with 1 Axes>"
      ]
     },
     "metadata": {},
     "output_type": "display_data"
    }
   ],
   "source": [
    "plt.hist(sample, bins=50, density=True)\n",
    "plt.plot(values[:], probabilities)\n",
    "plt.show()"
   ]
  },
  {
   "cell_type": "code",
   "execution_count": 128,
   "id": "237cfaf6",
   "metadata": {},
   "outputs": [
    {
     "data": {
      "text/plain": [
       "<Axes: ylabel='Density'>"
      ]
     },
     "execution_count": 128,
     "metadata": {},
     "output_type": "execute_result"
    },
    {
     "data": {
      "image/png": "[encoded data removed]",
      "text/plain": [
       "<Figure size 640x480 with 1 Axes>"
      ]
     },
     "metadata": {},
     "output_type": "display_data"
    }
   ],
   "source": [
    "sns.kdeplot(sample.reshape(1000),bw_adjust=0.02)"
   ]
  },
  {
   "cell_type": "markdown",
   "id": "a7928e40",
   "metadata": {},
   "source": [
    "## Binomial Distribution"
   ]
  },
  {
   "cell_type": "code",
   "execution_count": 129,
   "id": "c3a5d36d",
   "metadata": {},
   "outputs": [],
   "source": [
    "import numpy as np\n",
    "import matplotlib.pyplot as plt"
   ]
  },
  {
   "cell_type": "code",
   "execution_count": 130,
   "id": "a3417261",
   "metadata": {},
   "outputs": [
    {
     "data": {
      "image/png": "[encoded data removed]",
      "text/plain": [
       "<Figure size 640x480 with 1 Axes>"
      ]
     },
     "metadata": {},
     "output_type": "display_data"
    }
   ],
   "source": [
    "n = 10  # number of trials\n",
    "p = 0.1  # probability of success\n",
    "size = 1000  # number of samples to generate\n",
    "\n",
    "binomial_dist = np.random.binomial(n, p, size)\n",
    "\n",
    "plt.hist(binomial_dist,density=True)\n",
    "plt.show()"
   ]
  },
  {
   "cell_type": "code",
   "execution_count": 134,
   "id": "9005f0c3",
   "metadata": {},
   "outputs": [
    {
     "data": {
      "image/png": "[encoded data removed]",
      "text/plain": [
       "<Figure size 640x480 with 1 Axes>"
      ]
     },
     "metadata": {},
     "output_type": "display_data"
    }
   ],
   "source": [
    "n = 10  # number of trials\n",
    "p = 0.5  # probability of success\n",
    "size = 1000  # number of samples to generate\n",
    "\n",
    "binomial_dist = np.random.binomial(n, p, size)\n",
    "\n",
    "plt.hist(binomial_dist,density=True)\n",
    "plt.show()"
   ]
  },
  {
   "cell_type": "code",
   "execution_count": 135,
   "id": "e2b3fc4d",
   "metadata": {},
   "outputs": [
    {
     "data": {
      "text/plain": [
       "(1000,)"
      ]
     },
     "execution_count": 135,
     "metadata": {},
     "output_type": "execute_result"
    }
   ],
   "source": [
    "binomial_dist.shape"
   ]
  }
 ],
 "metadata": {
  "kernelspec": {
   "display_name": "Python 3 (ipykernel)",
   "language": "python",
   "name": "python3"
  },
  "language_info": {
   "codemirror_mode": {
    "name": "ipython",
    "version": 3
   },
   "file_extension": ".py",
   "mimetype": "text/x-python",
   "name": "python",
   "nbconvert_exporter": "python",
   "pygments_lexer": "ipython3",
   "version": "3.11.5"
  }
 },
 "nbformat": 4,
 "nbformat_minor": 5
}
