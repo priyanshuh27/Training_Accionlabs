{
 "cells": [
  {
   "cell_type": "markdown",
   "id": "cfe97a78",
   "metadata": {},
   "source": [
    "## Conditional Statements\n",
    "- if\n",
    "- elif\n",
    "- else"
   ]
  },
  {
   "cell_type": "markdown",
   "id": "f82f4a24",
   "metadata": {},
   "source": [
    "### Question 1\n",
    "Create a two-line code that prints \"The condition has been satisfied\" if 5 is greater than 2."
   ]
  },
  {
   "cell_type": "code",
   "execution_count": 30,
   "id": "2da6cda9",
   "metadata": {},
   "outputs": [
    {
     "name": "stdout",
     "output_type": "stream",
     "text": [
      "The condition has been satisfied\n"
     ]
    }
   ],
   "source": [
    "if 5 > 2:\n",
    "    print(\"The condition has been satisfied\")"
   ]
  },
  {
   "cell_type": "markdown",
   "id": "a58ca15c",
   "metadata": {},
   "source": [
    "### Question 2\n",
    "Assign 10 to the variable x and 25 to the variable y. In the same cell, create 2 conditional statements. Let the first one print \"Both conditions are correct\" if x is greater then 3 and y is greater than 13. Let the second one print \"At least one of the conditions is false\" if x is less than or equal to 3 or y is less than or equal to 13. Change the values assigned to x and y and re-run the cell to verify your code still works."
   ]
  },
  {
   "cell_type": "code",
   "execution_count": 32,
   "id": "f02eb9e5",
   "metadata": {},
   "outputs": [
    {
     "name": "stdout",
     "output_type": "stream",
     "text": [
      "Both conditions are correct\n"
     ]
    }
   ],
   "source": [
    "x = 10\n",
    "y = 25\n",
    "if x > 3 and y > 13:\n",
    "    print(\"Both conditions are correct\")"
   ]
  },
  {
   "cell_type": "code",
   "execution_count": 33,
   "id": "ba6068e1",
   "metadata": {},
   "outputs": [
    {
     "name": "stdout",
     "output_type": "stream",
     "text": [
      "nil\n"
     ]
    }
   ],
   "source": [
    "x = 10\n",
    "y = 25\n",
    "if x <= 3 or y <= 13:\n",
    "    print( \"At least one of the conditions is false\")\n",
    "else:\n",
    "    print(\"nil\")"
   ]
  },
  {
   "cell_type": "markdown",
   "id": "934bb3d5",
   "metadata": {},
   "source": [
    "### Question 3\n",
    "Let x represent the number of orders received during a certain day. Create a program that prints \"A busy day\" if x is greater than 100, and \"A calm day\" otherwise."
   ]
  },
  {
   "cell_type": "code",
   "execution_count": 35,
   "id": "b719d459",
   "metadata": {},
   "outputs": [
    {
     "name": "stdout",
     "output_type": "stream",
     "text": [
      "A calm day\n"
     ]
    }
   ],
   "source": [
    "x = 100\n",
    "if x > 100:\n",
    "    print(\"A busy day\")\n",
    "else:\n",
    "    print(\"A calm day\")"
   ]
  },
  {
   "cell_type": "markdown",
   "id": "95f84376",
   "metadata": {},
   "source": [
    "### Question 4\n",
    "Create the following piece of code: If x > 200, print out \"Big\"; If x > 100 and x <= 200, \n",
    "print out \"Average\"; and If x <= 100, print out \"Small\". Use the if, elif, and else keywords in your code."
   ]
  },
  {
   "cell_type": "code",
   "execution_count": 36,
   "id": "025baa95",
   "metadata": {},
   "outputs": [
    {
     "name": "stdout",
     "output_type": "stream",
     "text": [
      "Small\n"
     ]
    }
   ],
   "source": [
    "x = 100\n",
    "if x > 200:\n",
    "    print(\"Big\")\n",
    "elif x > 100 and x <= 200:\n",
    "    print(\"Average\")\n",
    "else:\n",
    "    print(\"Small\")"
   ]
  },
  {
   "cell_type": "markdown",
   "id": "fc1e6191",
   "metadata": {},
   "source": [
    "### Question 5\n",
    "Keep the first two conditions of the code from the previous exercise (if x > 200, print out \"Big\"; If x > 100 and x <= 200, print out \"Average\").\n",
    "\n",
    "Add a new elif statement, so that, eventually, the program prints \"Small\" if x >= 0 and x <= 100, and \"Negative\" if x < 0."
   ]
  },
  {
   "cell_type": "code",
   "execution_count": 37,
   "id": "3f9adfa8",
   "metadata": {},
   "outputs": [
    {
     "name": "stdout",
     "output_type": "stream",
     "text": [
      "Big\n"
     ]
    }
   ],
   "source": [
    "x = 500\n",
    "if x > 200:\n",
    "    print(\"Big\")\n",
    "elif x > 100 and x <= 200:\n",
    "    print(\"Average\")\n",
    "elif x >= 0 and x <= 100:\n",
    "    print(\"Small\")\n",
    "else:\n",
    "    print(\"Negative\")"
   ]
  },
  {
   "cell_type": "markdown",
   "id": "70bceb76",
   "metadata": {},
   "source": [
    "### Combining conditional statements & functions"
   ]
  },
  {
   "cell_type": "markdown",
   "id": "be2c15b0",
   "metadata": {},
   "source": [
    "### Scenario\n",
    "If John has saved at least 100  by the end of the week he will get extra 10. Else no extra cash."
   ]
  },
  {
   "cell_type": "code",
   "execution_count": 38,
   "id": "40b8ea9d",
   "metadata": {},
   "outputs": [],
   "source": [
    "#defining a function \n",
    "def add_10(m): #m- the money john saved at the end of the week\n",
    "    if m >= 100:\n",
    "        m += 10\n",
    "        return m\n",
    "    else:\n",
    "        return(\"save more!\")"
   ]
  },
  {
   "cell_type": "code",
   "execution_count": 22,
   "id": "17edcef3",
   "metadata": {},
   "outputs": [
    {
     "data": {
      "text/plain": [
       "'save more!'"
      ]
     },
     "execution_count": 22,
     "metadata": {},
     "output_type": "execute_result"
    }
   ],
   "source": [
    "add_10(80)"
   ]
  },
  {
   "cell_type": "code",
   "execution_count": 39,
   "id": "82a125c3",
   "metadata": {},
   "outputs": [
    {
     "data": {
      "text/plain": [
       "290"
      ]
     },
     "execution_count": 39,
     "metadata": {},
     "output_type": "execute_result"
    }
   ],
   "source": [
    "add_10(280)"
   ]
  },
  {
   "cell_type": "markdown",
   "id": "8c97b601",
   "metadata": {},
   "source": [
    "### Question\n",
    "Define a function, called compare_the_two(), with two arguments. If the first one is greater than the second one, let it print \"Greater\". If the second one is greater, it should print \"Less\". Let it print \"Equal\" if the two values are the same number."
   ]
  },
  {
   "cell_type": "code",
   "execution_count": 40,
   "id": "83dbb8d5",
   "metadata": {},
   "outputs": [],
   "source": [
    "def compare_the_two(x,y):\n",
    "    if x > y:\n",
    "        return(\"Greater\")\n",
    "    elif y > x:\n",
    "        return(\"Less\")\n",
    "    else:\n",
    "        return(\"Equal\")"
   ]
  },
  {
   "cell_type": "code",
   "execution_count": 41,
   "id": "102a39df",
   "metadata": {},
   "outputs": [
    {
     "data": {
      "text/plain": [
       "'Less'"
      ]
     },
     "execution_count": 41,
     "metadata": {},
     "output_type": "execute_result"
    }
   ],
   "source": [
    "compare_the_two(29,77)"
   ]
  },
  {
   "cell_type": "code",
   "execution_count": 42,
   "id": "29345cad",
   "metadata": {},
   "outputs": [
    {
     "data": {
      "text/plain": [
       "'Equal'"
      ]
     },
     "execution_count": 42,
     "metadata": {},
     "output_type": "execute_result"
    }
   ],
   "source": [
    "compare_the_two(29,29)"
   ]
  },
  {
   "cell_type": "code",
   "execution_count": 43,
   "id": "50178629",
   "metadata": {},
   "outputs": [
    {
     "data": {
      "text/plain": [
       "'Greater'"
      ]
     },
     "execution_count": 43,
     "metadata": {},
     "output_type": "execute_result"
    }
   ],
   "source": [
    "compare_the_two(2922,44)"
   ]
  },
  {
   "cell_type": "markdown",
   "id": "3a4a730b",
   "metadata": {},
   "source": [
    "### Conditional Statements and Loops together"
   ]
  },
  {
   "cell_type": "markdown",
   "id": "24f24d97",
   "metadata": {},
   "source": [
    "### Question\n",
    "Create a For loop that will print all the variables from a given list multiplied by 2. Let the list contain all numbers from 1 to 10. Create it with the help of the range() function.\n"
   ]
  },
  {
   "cell_type": "code",
   "execution_count": 45,
   "id": "b6a777e5",
   "metadata": {},
   "outputs": [
    {
     "name": "stdout",
     "output_type": "stream",
     "text": [
      "2 4 6 8 10 12 14 16 18 20 "
     ]
    }
   ],
   "source": [
    "for n in range(1,11):\n",
    "    print(n*2, end = ' ')"
   ]
  },
  {
   "cell_type": "markdown",
   "id": "ef336b20",
   "metadata": {},
   "source": [
    "### Question\n",
    "Create a little program that runs a loop over all values from 1 to 30. Let it print all odd numbers, and in the place of the even numbers, it should print \"Even\". Help yourself with the range() function to solve this exercise."
   ]
  },
  {
   "cell_type": "code",
   "execution_count": 52,
   "id": "f8234bdc",
   "metadata": {},
   "outputs": [
    {
     "name": "stdout",
     "output_type": "stream",
     "text": [
      "1 Even 3 Even 5 Even 7 Even 9 Even 11 Even 13 Even 15 Even 17 Even 19 Even 21 Even 23 Even 25 Even 27 Even 29 Even "
     ]
    }
   ],
   "source": [
    "for n in range(1,31):\n",
    "    if n % 2 != 0:\n",
    "        print(n, end = ' ')\n",
    "    else:\n",
    "        print(\"Even\", end = ' ')"
   ]
  },
  {
   "cell_type": "markdown",
   "id": "00e8c578",
   "metadata": {},
   "source": [
    "### Question\n",
    "You have the following list of numbers. Iterate over this list, printing out each list value multiplied by 10. Find two solutions of this problem."
   ]
  },
  {
   "cell_type": "code",
   "execution_count": 53,
   "id": "3ab5fc56",
   "metadata": {},
   "outputs": [
    {
     "name": "stdout",
     "output_type": "stream",
     "text": [
      "10 20 30 40 50 60 "
     ]
    }
   ],
   "source": [
    "n = [1, 2, 3, 4, 5, 6]\n",
    "for nums in n:\n",
    "    print(nums * 10, end = ' ')"
   ]
  },
  {
   "cell_type": "markdown",
   "id": "64efd3de",
   "metadata": {},
   "source": [
    "### Question\n",
    "You are provided with the nums list. Complete the code in the cell that follows. Use a while loop to count the number of values lower than 20."
   ]
  },
  {
   "cell_type": "code",
   "execution_count": 62,
   "id": "d6f9e310",
   "metadata": {},
   "outputs": [
    {
     "name": "stdout",
     "output_type": "stream",
     "text": [
      "Number of values lower than 20: 2\n"
     ]
    }
   ],
   "source": [
    "nums = [1, 35, 12, 24, 31, 51, 70, 100]\n",
    "\n",
    "count = 0\n",
    "i = 0\n",
    "while i < len(nums):\n",
    "    if(nums[i] < 20):\n",
    "          count += 1\n",
    "    i += 1\n",
    "      \n",
    "print(\"Number of values lower than 20:\", count)"
   ]
  },
  {
   "cell_type": "code",
   "execution_count": 64,
   "id": "0e4defd9",
   "metadata": {},
   "outputs": [
    {
     "data": {
      "text/plain": [
       "2"
      ]
     },
     "execution_count": 64,
     "metadata": {},
     "output_type": "execute_result"
    }
   ],
   "source": [
    "count"
   ]
  },
  {
   "cell_type": "code",
   "execution_count": 65,
   "id": "65ba3893",
   "metadata": {},
   "outputs": [
    {
     "data": {
      "text/plain": [
       "8"
      ]
     },
     "execution_count": 65,
     "metadata": {},
     "output_type": "execute_result"
    }
   ],
   "source": [
    "i"
   ]
  },
  {
   "cell_type": "markdown",
   "id": "45d62d58",
   "metadata": {},
   "source": [
    "#### Decreasing the number of iteration"
   ]
  },
  {
   "cell_type": "code",
   "execution_count": 66,
   "id": "f8e2883e",
   "metadata": {},
   "outputs": [],
   "source": [
    "nums.sort()"
   ]
  },
  {
   "cell_type": "code",
   "execution_count": 67,
   "id": "82a321c1",
   "metadata": {},
   "outputs": [
    {
     "data": {
      "text/plain": [
       "[1, 12, 24, 31, 35, 51, 70, 100]"
      ]
     },
     "execution_count": 67,
     "metadata": {},
     "output_type": "execute_result"
    }
   ],
   "source": [
    "nums"
   ]
  },
  {
   "cell_type": "code",
   "execution_count": 72,
   "id": "4f8b9570",
   "metadata": {},
   "outputs": [
    {
     "name": "stdout",
     "output_type": "stream",
     "text": [
      "Number of values lower than 20: 2\n"
     ]
    }
   ],
   "source": [
    "count = 0\n",
    "i = 0\n",
    "while nums[i] < 20 :\n",
    "    if(nums[i] <= 20):\n",
    "          count += 1\n",
    "    i += 1\n",
    "      \n",
    "print(\"Number of values lower than 20:\", count)"
   ]
  },
  {
   "cell_type": "code",
   "execution_count": 73,
   "id": "fa2bbac8",
   "metadata": {},
   "outputs": [
    {
     "data": {
      "text/plain": [
       "2"
      ]
     },
     "execution_count": 73,
     "metadata": {},
     "output_type": "execute_result"
    }
   ],
   "source": [
    "i"
   ]
  },
  {
   "cell_type": "markdown",
   "id": "1665e96c",
   "metadata": {},
   "source": [
    "# End\n"
   ]
  }
 ],
 "metadata": {
  "kernelspec": {
   "display_name": "Python 3 (ipykernel)",
   "language": "python",
   "name": "python3"
  },
  "language_info": {
   "codemirror_mode": {
    "name": "ipython",
    "version": 3
   },
   "file_extension": ".py",
   "mimetype": "text/x-python",
   "name": "python",
   "nbconvert_exporter": "python",
   "pygments_lexer": "ipython3",
   "version": "3.11.5"
  }
 },
 "nbformat": 4,
 "nbformat_minor": 5
}
